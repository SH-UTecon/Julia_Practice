{
 "cells": [
  {
   "cell_type": "code",
   "execution_count": null,
   "metadata": {},
   "outputs": [
    {
     "name": "stderr",
     "output_type": "stream",
     "text": [
      "\u001b[32m\u001b[1m  Activating\u001b[22m\u001b[39m project at `c:\\Users\\ouhsj\\Julia_Practice\\Julia_Practice`\n",
      "\u001b[32m\u001b[1m  No Changes\u001b[22m\u001b[39m to `C:\\Users\\ouhsj\\Julia_Practice\\Julia_Practice\\Project.toml`\n",
      "\u001b[32m\u001b[1m  No Changes\u001b[22m\u001b[39m to `C:\\Users\\ouhsj\\Julia_Practice\\Julia_Practice\\Manifest.toml`\n"
     ]
    }
   ],
   "source": [
    "using Pkg\n",
    "Pkg.activate(\".\")\n",
    "Pkg.resolve()\n",
    "Pkg.instantiate()\n",
    "\n",
    "using CSV\n",
    "using DataFrames\n",
    "using Chain\n",
    "using StatsBase # for competerank\n",
    "using ShiftedArrays: lag # for lag()\n",
    "using Dates"
   ]
  },
  {
   "cell_type": "code",
   "execution_count": 9,
   "metadata": {},
   "outputs": [],
   "source": [
    "df_customer = CSV.read(\"data/customer.csv\", DataFrame)\n",
    "df_category = CSV.read(\"data/category.csv\", DataFrame)\n",
    "df_product = CSV.read(\"data/product.csv\", DataFrame)\n",
    "df_receipt = CSV.read(\"data/receipt.csv\", DataFrame)\n",
    "df_store = CSV.read(\"data/store.csv\", DataFrame)\n",
    "df_geocode = CSV.read(\"data/geocode.csv\", DataFrame);"
   ]
  },
  {
   "cell_type": "code",
   "execution_count": 10,
   "metadata": {},
   "outputs": [
    {
     "data": {
      "text/html": [
       "<div><div style = \"float: left;\"><span>10×9 DataFrame</span></div><div style = \"clear: both;\"></div></div><div class = \"data-frame\" style = \"overflow-x: scroll;\"><table class = \"data-frame\" style = \"margin-bottom: 6px;\"><thead><tr class = \"header\"><th class = \"rowNumber\" style = \"font-weight: bold; text-align: right;\">Row</th><th style = \"text-align: left;\">sales_ymd</th><th style = \"text-align: left;\">sales_epoch</th><th style = \"text-align: left;\">store_cd</th><th style = \"text-align: left;\">receipt_no</th><th style = \"text-align: left;\">receipt_sub_no</th><th style = \"text-align: left;\">customer_id</th><th style = \"text-align: left;\">product_cd</th><th style = \"text-align: left;\">quantity</th><th style = \"text-align: left;\">amount</th></tr><tr class = \"subheader headerLastRow\"><th class = \"rowNumber\" style = \"font-weight: bold; text-align: right;\"></th><th title = \"Int64\" style = \"text-align: left;\">Int64</th><th title = \"Int64\" style = \"text-align: left;\">Int64</th><th title = \"String7\" style = \"text-align: left;\">String7</th><th title = \"Int64\" style = \"text-align: left;\">Int64</th><th title = \"Int64\" style = \"text-align: left;\">Int64</th><th title = \"String15\" style = \"text-align: left;\">String15</th><th title = \"String15\" style = \"text-align: left;\">String15</th><th title = \"Int64\" style = \"text-align: left;\">Int64</th><th title = \"Int64\" style = \"text-align: left;\">Int64</th></tr></thead><tbody><tr><td class = \"rowNumber\" style = \"font-weight: bold; text-align: right;\">1</td><td style = \"text-align: right;\">20181103</td><td style = \"text-align: right;\">1541203200</td><td style = \"text-align: left;\">S14006</td><td style = \"text-align: right;\">112</td><td style = \"text-align: right;\">1</td><td style = \"text-align: left;\">CS006214000001</td><td style = \"text-align: left;\">P070305012</td><td style = \"text-align: right;\">1</td><td style = \"text-align: right;\">158</td></tr><tr><td class = \"rowNumber\" style = \"font-weight: bold; text-align: right;\">2</td><td style = \"text-align: right;\">20181118</td><td style = \"text-align: right;\">1542499200</td><td style = \"text-align: left;\">S13008</td><td style = \"text-align: right;\">1132</td><td style = \"text-align: right;\">2</td><td style = \"text-align: left;\">CS008415000097</td><td style = \"text-align: left;\">P070701017</td><td style = \"text-align: right;\">1</td><td style = \"text-align: right;\">81</td></tr><tr><td class = \"rowNumber\" style = \"font-weight: bold; text-align: right;\">3</td><td style = \"text-align: right;\">20170712</td><td style = \"text-align: right;\">1499817600</td><td style = \"text-align: left;\">S14028</td><td style = \"text-align: right;\">1102</td><td style = \"text-align: right;\">1</td><td style = \"text-align: left;\">CS028414000014</td><td style = \"text-align: left;\">P060101005</td><td style = \"text-align: right;\">1</td><td style = \"text-align: right;\">170</td></tr><tr><td class = \"rowNumber\" style = \"font-weight: bold; text-align: right;\">4</td><td style = \"text-align: right;\">20190205</td><td style = \"text-align: right;\">1549324800</td><td style = \"text-align: left;\">S14042</td><td style = \"text-align: right;\">1132</td><td style = \"text-align: right;\">1</td><td style = \"text-align: left;\">ZZ000000000000</td><td style = \"text-align: left;\">P050301001</td><td style = \"text-align: right;\">1</td><td style = \"text-align: right;\">25</td></tr><tr><td class = \"rowNumber\" style = \"font-weight: bold; text-align: right;\">5</td><td style = \"text-align: right;\">20180821</td><td style = \"text-align: right;\">1534809600</td><td style = \"text-align: left;\">S14025</td><td style = \"text-align: right;\">1102</td><td style = \"text-align: right;\">2</td><td style = \"text-align: left;\">CS025415000050</td><td style = \"text-align: left;\">P060102007</td><td style = \"text-align: right;\">1</td><td style = \"text-align: right;\">90</td></tr><tr><td class = \"rowNumber\" style = \"font-weight: bold; text-align: right;\">6</td><td style = \"text-align: right;\">20190605</td><td style = \"text-align: right;\">1559692800</td><td style = \"text-align: left;\">S13003</td><td style = \"text-align: right;\">1112</td><td style = \"text-align: right;\">1</td><td style = \"text-align: left;\">CS003515000195</td><td style = \"text-align: left;\">P050102002</td><td style = \"text-align: right;\">1</td><td style = \"text-align: right;\">138</td></tr><tr><td class = \"rowNumber\" style = \"font-weight: bold; text-align: right;\">7</td><td style = \"text-align: right;\">20181205</td><td style = \"text-align: right;\">1543968000</td><td style = \"text-align: left;\">S14024</td><td style = \"text-align: right;\">1102</td><td style = \"text-align: right;\">2</td><td style = \"text-align: left;\">CS024514000042</td><td style = \"text-align: left;\">P080101005</td><td style = \"text-align: right;\">1</td><td style = \"text-align: right;\">30</td></tr><tr><td class = \"rowNumber\" style = \"font-weight: bold; text-align: right;\">8</td><td style = \"text-align: right;\">20190922</td><td style = \"text-align: right;\">1569110400</td><td style = \"text-align: left;\">S14040</td><td style = \"text-align: right;\">1102</td><td style = \"text-align: right;\">1</td><td style = \"text-align: left;\">CS040415000178</td><td style = \"text-align: left;\">P070501004</td><td style = \"text-align: right;\">1</td><td style = \"text-align: right;\">128</td></tr><tr><td class = \"rowNumber\" style = \"font-weight: bold; text-align: right;\">9</td><td style = \"text-align: right;\">20170504</td><td style = \"text-align: right;\">1493856000</td><td style = \"text-align: left;\">S13020</td><td style = \"text-align: right;\">1112</td><td style = \"text-align: right;\">2</td><td style = \"text-align: left;\">ZZ000000000000</td><td style = \"text-align: left;\">P071302010</td><td style = \"text-align: right;\">1</td><td style = \"text-align: right;\">770</td></tr><tr><td class = \"rowNumber\" style = \"font-weight: bold; text-align: right;\">10</td><td style = \"text-align: right;\">20191010</td><td style = \"text-align: right;\">1570665600</td><td style = \"text-align: left;\">S14027</td><td style = \"text-align: right;\">1102</td><td style = \"text-align: right;\">1</td><td style = \"text-align: left;\">CS027514000015</td><td style = \"text-align: left;\">P071101003</td><td style = \"text-align: right;\">1</td><td style = \"text-align: right;\">680</td></tr></tbody></table></div>"
      ],
      "text/latex": [
       "\\begin{tabular}{r|cccccccc}\n",
       "\t& sales\\_ymd & sales\\_epoch & store\\_cd & receipt\\_no & receipt\\_sub\\_no & customer\\_id & product\\_cd & \\\\\n",
       "\t\\hline\n",
       "\t& Int64 & Int64 & String7 & Int64 & Int64 & String15 & String15 & \\\\\n",
       "\t\\hline\n",
       "\t1 & 20181103 & 1541203200 & S14006 & 112 & 1 & CS006214000001 & P070305012 & $\\dots$ \\\\\n",
       "\t2 & 20181118 & 1542499200 & S13008 & 1132 & 2 & CS008415000097 & P070701017 & $\\dots$ \\\\\n",
       "\t3 & 20170712 & 1499817600 & S14028 & 1102 & 1 & CS028414000014 & P060101005 & $\\dots$ \\\\\n",
       "\t4 & 20190205 & 1549324800 & S14042 & 1132 & 1 & ZZ000000000000 & P050301001 & $\\dots$ \\\\\n",
       "\t5 & 20180821 & 1534809600 & S14025 & 1102 & 2 & CS025415000050 & P060102007 & $\\dots$ \\\\\n",
       "\t6 & 20190605 & 1559692800 & S13003 & 1112 & 1 & CS003515000195 & P050102002 & $\\dots$ \\\\\n",
       "\t7 & 20181205 & 1543968000 & S14024 & 1102 & 2 & CS024514000042 & P080101005 & $\\dots$ \\\\\n",
       "\t8 & 20190922 & 1569110400 & S14040 & 1102 & 1 & CS040415000178 & P070501004 & $\\dots$ \\\\\n",
       "\t9 & 20170504 & 1493856000 & S13020 & 1112 & 2 & ZZ000000000000 & P071302010 & $\\dots$ \\\\\n",
       "\t10 & 20191010 & 1570665600 & S14027 & 1102 & 1 & CS027514000015 & P071101003 & $\\dots$ \\\\\n",
       "\\end{tabular}\n"
      ],
      "text/plain": [
       "\u001b[1m10×9 DataFrame\u001b[0m\n",
       "\u001b[1m Row \u001b[0m│\u001b[1m sales_ymd \u001b[0m\u001b[1m sales_epoch \u001b[0m\u001b[1m store_cd \u001b[0m\u001b[1m receipt_no \u001b[0m\u001b[1m receipt_sub_no \u001b[0m\u001b[1m customer_\u001b[0m ⋯\n",
       "     │\u001b[90m Int64     \u001b[0m\u001b[90m Int64       \u001b[0m\u001b[90m String7  \u001b[0m\u001b[90m Int64      \u001b[0m\u001b[90m Int64          \u001b[0m\u001b[90m String15 \u001b[0m ⋯\n",
       "─────┼──────────────────────────────────────────────────────────────────────────\n",
       "   1 │  20181103   1541203200  S14006           112               1  CS0062140 ⋯\n",
       "   2 │  20181118   1542499200  S13008          1132               2  CS0084150\n",
       "   3 │  20170712   1499817600  S14028          1102               1  CS0284140\n",
       "   4 │  20190205   1549324800  S14042          1132               1  ZZ0000000\n",
       "   5 │  20180821   1534809600  S14025          1102               2  CS0254150 ⋯\n",
       "   6 │  20190605   1559692800  S13003          1112               1  CS0035150\n",
       "   7 │  20181205   1543968000  S14024          1102               2  CS0245140\n",
       "   8 │  20190922   1569110400  S14040          1102               1  CS0404150\n",
       "   9 │  20170504   1493856000  S13020          1112               2  ZZ0000000 ⋯\n",
       "  10 │  20191010   1570665600  S14027          1102               1  CS0275140\n",
       "\u001b[36m                                                               4 columns omitted\u001b[0m"
      ]
     },
     "execution_count": 10,
     "metadata": {},
     "output_type": "execute_result"
    }
   ],
   "source": [
    "# p1\n",
    "first(df_receipt, 10)"
   ]
  },
  {
   "cell_type": "code",
   "execution_count": 11,
   "metadata": {},
   "outputs": [
    {
     "data": {
      "text/html": [
       "<div><div style = \"float: left;\"><span>10×4 DataFrame</span></div><div style = \"clear: both;\"></div></div><div class = \"data-frame\" style = \"overflow-x: scroll;\"><table class = \"data-frame\" style = \"margin-bottom: 6px;\"><thead><tr class = \"header\"><th class = \"rowNumber\" style = \"font-weight: bold; text-align: right;\">Row</th><th style = \"text-align: left;\">sales_ymd</th><th style = \"text-align: left;\">customer_id</th><th style = \"text-align: left;\">product_cd</th><th style = \"text-align: left;\">amount</th></tr><tr class = \"subheader headerLastRow\"><th class = \"rowNumber\" style = \"font-weight: bold; text-align: right;\"></th><th title = \"Int64\" style = \"text-align: left;\">Int64</th><th title = \"String15\" style = \"text-align: left;\">String15</th><th title = \"String15\" style = \"text-align: left;\">String15</th><th title = \"Int64\" style = \"text-align: left;\">Int64</th></tr></thead><tbody><tr><td class = \"rowNumber\" style = \"font-weight: bold; text-align: right;\">1</td><td style = \"text-align: right;\">20181103</td><td style = \"text-align: left;\">CS006214000001</td><td style = \"text-align: left;\">P070305012</td><td style = \"text-align: right;\">158</td></tr><tr><td class = \"rowNumber\" style = \"font-weight: bold; text-align: right;\">2</td><td style = \"text-align: right;\">20181118</td><td style = \"text-align: left;\">CS008415000097</td><td style = \"text-align: left;\">P070701017</td><td style = \"text-align: right;\">81</td></tr><tr><td class = \"rowNumber\" style = \"font-weight: bold; text-align: right;\">3</td><td style = \"text-align: right;\">20170712</td><td style = \"text-align: left;\">CS028414000014</td><td style = \"text-align: left;\">P060101005</td><td style = \"text-align: right;\">170</td></tr><tr><td class = \"rowNumber\" style = \"font-weight: bold; text-align: right;\">4</td><td style = \"text-align: right;\">20190205</td><td style = \"text-align: left;\">ZZ000000000000</td><td style = \"text-align: left;\">P050301001</td><td style = \"text-align: right;\">25</td></tr><tr><td class = \"rowNumber\" style = \"font-weight: bold; text-align: right;\">5</td><td style = \"text-align: right;\">20180821</td><td style = \"text-align: left;\">CS025415000050</td><td style = \"text-align: left;\">P060102007</td><td style = \"text-align: right;\">90</td></tr><tr><td class = \"rowNumber\" style = \"font-weight: bold; text-align: right;\">6</td><td style = \"text-align: right;\">20190605</td><td style = \"text-align: left;\">CS003515000195</td><td style = \"text-align: left;\">P050102002</td><td style = \"text-align: right;\">138</td></tr><tr><td class = \"rowNumber\" style = \"font-weight: bold; text-align: right;\">7</td><td style = \"text-align: right;\">20181205</td><td style = \"text-align: left;\">CS024514000042</td><td style = \"text-align: left;\">P080101005</td><td style = \"text-align: right;\">30</td></tr><tr><td class = \"rowNumber\" style = \"font-weight: bold; text-align: right;\">8</td><td style = \"text-align: right;\">20190922</td><td style = \"text-align: left;\">CS040415000178</td><td style = \"text-align: left;\">P070501004</td><td style = \"text-align: right;\">128</td></tr><tr><td class = \"rowNumber\" style = \"font-weight: bold; text-align: right;\">9</td><td style = \"text-align: right;\">20170504</td><td style = \"text-align: left;\">ZZ000000000000</td><td style = \"text-align: left;\">P071302010</td><td style = \"text-align: right;\">770</td></tr><tr><td class = \"rowNumber\" style = \"font-weight: bold; text-align: right;\">10</td><td style = \"text-align: right;\">20191010</td><td style = \"text-align: left;\">CS027514000015</td><td style = \"text-align: left;\">P071101003</td><td style = \"text-align: right;\">680</td></tr></tbody></table></div>"
      ],
      "text/latex": [
       "\\begin{tabular}{r|cccc}\n",
       "\t& sales\\_ymd & customer\\_id & product\\_cd & amount\\\\\n",
       "\t\\hline\n",
       "\t& Int64 & String15 & String15 & Int64\\\\\n",
       "\t\\hline\n",
       "\t1 & 20181103 & CS006214000001 & P070305012 & 158 \\\\\n",
       "\t2 & 20181118 & CS008415000097 & P070701017 & 81 \\\\\n",
       "\t3 & 20170712 & CS028414000014 & P060101005 & 170 \\\\\n",
       "\t4 & 20190205 & ZZ000000000000 & P050301001 & 25 \\\\\n",
       "\t5 & 20180821 & CS025415000050 & P060102007 & 90 \\\\\n",
       "\t6 & 20190605 & CS003515000195 & P050102002 & 138 \\\\\n",
       "\t7 & 20181205 & CS024514000042 & P080101005 & 30 \\\\\n",
       "\t8 & 20190922 & CS040415000178 & P070501004 & 128 \\\\\n",
       "\t9 & 20170504 & ZZ000000000000 & P071302010 & 770 \\\\\n",
       "\t10 & 20191010 & CS027514000015 & P071101003 & 680 \\\\\n",
       "\\end{tabular}\n"
      ],
      "text/plain": [
       "\u001b[1m10×4 DataFrame\u001b[0m\n",
       "\u001b[1m Row \u001b[0m│\u001b[1m sales_ymd \u001b[0m\u001b[1m customer_id    \u001b[0m\u001b[1m product_cd \u001b[0m\u001b[1m amount \u001b[0m\n",
       "     │\u001b[90m Int64     \u001b[0m\u001b[90m String15       \u001b[0m\u001b[90m String15   \u001b[0m\u001b[90m Int64  \u001b[0m\n",
       "─────┼───────────────────────────────────────────────\n",
       "   1 │  20181103  CS006214000001  P070305012     158\n",
       "   2 │  20181118  CS008415000097  P070701017      81\n",
       "   3 │  20170712  CS028414000014  P060101005     170\n",
       "   4 │  20190205  ZZ000000000000  P050301001      25\n",
       "   5 │  20180821  CS025415000050  P060102007      90\n",
       "   6 │  20190605  CS003515000195  P050102002     138\n",
       "   7 │  20181205  CS024514000042  P080101005      30\n",
       "   8 │  20190922  CS040415000178  P070501004     128\n",
       "   9 │  20170504  ZZ000000000000  P071302010     770\n",
       "  10 │  20191010  CS027514000015  P071101003     680"
      ]
     },
     "execution_count": 11,
     "metadata": {},
     "output_type": "execute_result"
    }
   ],
   "source": [
    "# p2\n",
    "\n",
    "# 解答1\n",
    "first(df_receipt[!, [:sales_ymd, :customer_id, :product_cd, :amount]], 10)\n",
    "\n",
    "# 解答2\n",
    "@chain df_receipt[!, [:sales_ymd, :customer_id, :product_cd, :amount]] begin \n",
    "    first(10)\n",
    "end\n",
    "\n",
    "# 解答3\n",
    "@chain df_receipt begin\n",
    "    select(:sales_ymd, :customer_id, :product_cd, :amount)\n",
    "    first(10)\n",
    "end"
   ]
  },
  {
   "cell_type": "code",
   "execution_count": 12,
   "metadata": {},
   "outputs": [
    {
     "data": {
      "text/html": [
       "<div><div style = \"float: left;\"><span>10×4 DataFrame</span></div><div style = \"clear: both;\"></div></div><div class = \"data-frame\" style = \"overflow-x: scroll;\"><table class = \"data-frame\" style = \"margin-bottom: 6px;\"><thead><tr class = \"header\"><th class = \"rowNumber\" style = \"font-weight: bold; text-align: right;\">Row</th><th style = \"text-align: left;\">sales_date</th><th style = \"text-align: left;\">customer_id</th><th style = \"text-align: left;\">product_cd</th><th style = \"text-align: left;\">amount</th></tr><tr class = \"subheader headerLastRow\"><th class = \"rowNumber\" style = \"font-weight: bold; text-align: right;\"></th><th title = \"Int64\" style = \"text-align: left;\">Int64</th><th title = \"String15\" style = \"text-align: left;\">String15</th><th title = \"String15\" style = \"text-align: left;\">String15</th><th title = \"Int64\" style = \"text-align: left;\">Int64</th></tr></thead><tbody><tr><td class = \"rowNumber\" style = \"font-weight: bold; text-align: right;\">1</td><td style = \"text-align: right;\">20181103</td><td style = \"text-align: left;\">CS006214000001</td><td style = \"text-align: left;\">P070305012</td><td style = \"text-align: right;\">158</td></tr><tr><td class = \"rowNumber\" style = \"font-weight: bold; text-align: right;\">2</td><td style = \"text-align: right;\">20181118</td><td style = \"text-align: left;\">CS008415000097</td><td style = \"text-align: left;\">P070701017</td><td style = \"text-align: right;\">81</td></tr><tr><td class = \"rowNumber\" style = \"font-weight: bold; text-align: right;\">3</td><td style = \"text-align: right;\">20170712</td><td style = \"text-align: left;\">CS028414000014</td><td style = \"text-align: left;\">P060101005</td><td style = \"text-align: right;\">170</td></tr><tr><td class = \"rowNumber\" style = \"font-weight: bold; text-align: right;\">4</td><td style = \"text-align: right;\">20190205</td><td style = \"text-align: left;\">ZZ000000000000</td><td style = \"text-align: left;\">P050301001</td><td style = \"text-align: right;\">25</td></tr><tr><td class = \"rowNumber\" style = \"font-weight: bold; text-align: right;\">5</td><td style = \"text-align: right;\">20180821</td><td style = \"text-align: left;\">CS025415000050</td><td style = \"text-align: left;\">P060102007</td><td style = \"text-align: right;\">90</td></tr><tr><td class = \"rowNumber\" style = \"font-weight: bold; text-align: right;\">6</td><td style = \"text-align: right;\">20190605</td><td style = \"text-align: left;\">CS003515000195</td><td style = \"text-align: left;\">P050102002</td><td style = \"text-align: right;\">138</td></tr><tr><td class = \"rowNumber\" style = \"font-weight: bold; text-align: right;\">7</td><td style = \"text-align: right;\">20181205</td><td style = \"text-align: left;\">CS024514000042</td><td style = \"text-align: left;\">P080101005</td><td style = \"text-align: right;\">30</td></tr><tr><td class = \"rowNumber\" style = \"font-weight: bold; text-align: right;\">8</td><td style = \"text-align: right;\">20190922</td><td style = \"text-align: left;\">CS040415000178</td><td style = \"text-align: left;\">P070501004</td><td style = \"text-align: right;\">128</td></tr><tr><td class = \"rowNumber\" style = \"font-weight: bold; text-align: right;\">9</td><td style = \"text-align: right;\">20170504</td><td style = \"text-align: left;\">ZZ000000000000</td><td style = \"text-align: left;\">P071302010</td><td style = \"text-align: right;\">770</td></tr><tr><td class = \"rowNumber\" style = \"font-weight: bold; text-align: right;\">10</td><td style = \"text-align: right;\">20191010</td><td style = \"text-align: left;\">CS027514000015</td><td style = \"text-align: left;\">P071101003</td><td style = \"text-align: right;\">680</td></tr></tbody></table></div>"
      ],
      "text/latex": [
       "\\begin{tabular}{r|cccc}\n",
       "\t& sales\\_date & customer\\_id & product\\_cd & amount\\\\\n",
       "\t\\hline\n",
       "\t& Int64 & String15 & String15 & Int64\\\\\n",
       "\t\\hline\n",
       "\t1 & 20181103 & CS006214000001 & P070305012 & 158 \\\\\n",
       "\t2 & 20181118 & CS008415000097 & P070701017 & 81 \\\\\n",
       "\t3 & 20170712 & CS028414000014 & P060101005 & 170 \\\\\n",
       "\t4 & 20190205 & ZZ000000000000 & P050301001 & 25 \\\\\n",
       "\t5 & 20180821 & CS025415000050 & P060102007 & 90 \\\\\n",
       "\t6 & 20190605 & CS003515000195 & P050102002 & 138 \\\\\n",
       "\t7 & 20181205 & CS024514000042 & P080101005 & 30 \\\\\n",
       "\t8 & 20190922 & CS040415000178 & P070501004 & 128 \\\\\n",
       "\t9 & 20170504 & ZZ000000000000 & P071302010 & 770 \\\\\n",
       "\t10 & 20191010 & CS027514000015 & P071101003 & 680 \\\\\n",
       "\\end{tabular}\n"
      ],
      "text/plain": [
       "\u001b[1m10×4 DataFrame\u001b[0m\n",
       "\u001b[1m Row \u001b[0m│\u001b[1m sales_date \u001b[0m\u001b[1m customer_id    \u001b[0m\u001b[1m product_cd \u001b[0m\u001b[1m amount \u001b[0m\n",
       "     │\u001b[90m Int64      \u001b[0m\u001b[90m String15       \u001b[0m\u001b[90m String15   \u001b[0m\u001b[90m Int64  \u001b[0m\n",
       "─────┼────────────────────────────────────────────────\n",
       "   1 │   20181103  CS006214000001  P070305012     158\n",
       "   2 │   20181118  CS008415000097  P070701017      81\n",
       "   3 │   20170712  CS028414000014  P060101005     170\n",
       "   4 │   20190205  ZZ000000000000  P050301001      25\n",
       "   5 │   20180821  CS025415000050  P060102007      90\n",
       "   6 │   20190605  CS003515000195  P050102002     138\n",
       "   7 │   20181205  CS024514000042  P080101005      30\n",
       "   8 │   20190922  CS040415000178  P070501004     128\n",
       "   9 │   20170504  ZZ000000000000  P071302010     770\n",
       "  10 │   20191010  CS027514000015  P071101003     680"
      ]
     },
     "execution_count": 12,
     "metadata": {},
     "output_type": "execute_result"
    }
   ],
   "source": [
    "# p3\n",
    "rename!(df_receipt, :sales_ymd => :sales_date)\n",
    "first(df_receipt[!,[:sales_date, :customer_id, :product_cd, :amount]], 10)\n",
    "\n",
    "@chain df_receipt begin\n",
    "    select(:sales_date, :customer_id, :product_cd, :amount)\n",
    "    first(10)\n",
    "end"
   ]
  },
  {
   "cell_type": "code",
   "execution_count": 13,
   "metadata": {},
   "outputs": [
    {
     "data": {
      "text/html": [
       "<div><div style = \"float: left;\"><span>12×4 DataFrame</span></div><div style = \"clear: both;\"></div></div><div class = \"data-frame\" style = \"overflow-x: scroll;\"><table class = \"data-frame\" style = \"margin-bottom: 6px;\"><thead><tr class = \"header\"><th class = \"rowNumber\" style = \"font-weight: bold; text-align: right;\">Row</th><th style = \"text-align: left;\">sales_ymd</th><th style = \"text-align: left;\">customer_id</th><th style = \"text-align: left;\">product_cd</th><th style = \"text-align: left;\">amount</th></tr><tr class = \"subheader headerLastRow\"><th class = \"rowNumber\" style = \"font-weight: bold; text-align: right;\"></th><th title = \"Int64\" style = \"text-align: left;\">Int64</th><th title = \"String15\" style = \"text-align: left;\">String15</th><th title = \"String15\" style = \"text-align: left;\">String15</th><th title = \"Int64\" style = \"text-align: left;\">Int64</th></tr></thead><tbody><tr><td class = \"rowNumber\" style = \"font-weight: bold; text-align: right;\">1</td><td style = \"text-align: right;\">20180911</td><td style = \"text-align: left;\">CS018205000001</td><td style = \"text-align: left;\">P071401012</td><td style = \"text-align: right;\">2200</td></tr><tr><td class = \"rowNumber\" style = \"font-weight: bold; text-align: right;\">2</td><td style = \"text-align: right;\">20180414</td><td style = \"text-align: left;\">CS018205000001</td><td style = \"text-align: left;\">P060104007</td><td style = \"text-align: right;\">600</td></tr><tr><td class = \"rowNumber\" style = \"font-weight: bold; text-align: right;\">3</td><td style = \"text-align: right;\">20170614</td><td style = \"text-align: left;\">CS018205000001</td><td style = \"text-align: left;\">P050206001</td><td style = \"text-align: right;\">990</td></tr><tr><td class = \"rowNumber\" style = \"font-weight: bold; text-align: right;\">4</td><td style = \"text-align: right;\">20170614</td><td style = \"text-align: left;\">CS018205000001</td><td style = \"text-align: left;\">P060702015</td><td style = \"text-align: right;\">108</td></tr><tr><td class = \"rowNumber\" style = \"font-weight: bold; text-align: right;\">5</td><td style = \"text-align: right;\">20190216</td><td style = \"text-align: left;\">CS018205000001</td><td style = \"text-align: left;\">P071005024</td><td style = \"text-align: right;\">102</td></tr><tr><td class = \"rowNumber\" style = \"font-weight: bold; text-align: right;\">6</td><td style = \"text-align: right;\">20180414</td><td style = \"text-align: left;\">CS018205000001</td><td style = \"text-align: left;\">P071101002</td><td style = \"text-align: right;\">278</td></tr><tr><td class = \"rowNumber\" style = \"font-weight: bold; text-align: right;\">7</td><td style = \"text-align: right;\">20190226</td><td style = \"text-align: left;\">CS018205000001</td><td style = \"text-align: left;\">P070902035</td><td style = \"text-align: right;\">168</td></tr><tr><td class = \"rowNumber\" style = \"font-weight: bold; text-align: right;\">8</td><td style = \"text-align: right;\">20190924</td><td style = \"text-align: left;\">CS018205000001</td><td style = \"text-align: left;\">P060805001</td><td style = \"text-align: right;\">495</td></tr><tr><td class = \"rowNumber\" style = \"font-weight: bold; text-align: right;\">9</td><td style = \"text-align: right;\">20190226</td><td style = \"text-align: left;\">CS018205000001</td><td style = \"text-align: left;\">P071401020</td><td style = \"text-align: right;\">2200</td></tr><tr><td class = \"rowNumber\" style = \"font-weight: bold; text-align: right;\">10</td><td style = \"text-align: right;\">20180911</td><td style = \"text-align: left;\">CS018205000001</td><td style = \"text-align: left;\">P071401005</td><td style = \"text-align: right;\">1100</td></tr><tr><td class = \"rowNumber\" style = \"font-weight: bold; text-align: right;\">11</td><td style = \"text-align: right;\">20190216</td><td style = \"text-align: left;\">CS018205000001</td><td style = \"text-align: left;\">P040101002</td><td style = \"text-align: right;\">218</td></tr><tr><td class = \"rowNumber\" style = \"font-weight: bold; text-align: right;\">12</td><td style = \"text-align: right;\">20190924</td><td style = \"text-align: left;\">CS018205000001</td><td style = \"text-align: left;\">P091503001</td><td style = \"text-align: right;\">280</td></tr></tbody></table></div>"
      ],
      "text/latex": [
       "\\begin{tabular}{r|cccc}\n",
       "\t& sales\\_ymd & customer\\_id & product\\_cd & amount\\\\\n",
       "\t\\hline\n",
       "\t& Int64 & String15 & String15 & Int64\\\\\n",
       "\t\\hline\n",
       "\t1 & 20180911 & CS018205000001 & P071401012 & 2200 \\\\\n",
       "\t2 & 20180414 & CS018205000001 & P060104007 & 600 \\\\\n",
       "\t3 & 20170614 & CS018205000001 & P050206001 & 990 \\\\\n",
       "\t4 & 20170614 & CS018205000001 & P060702015 & 108 \\\\\n",
       "\t5 & 20190216 & CS018205000001 & P071005024 & 102 \\\\\n",
       "\t6 & 20180414 & CS018205000001 & P071101002 & 278 \\\\\n",
       "\t7 & 20190226 & CS018205000001 & P070902035 & 168 \\\\\n",
       "\t8 & 20190924 & CS018205000001 & P060805001 & 495 \\\\\n",
       "\t9 & 20190226 & CS018205000001 & P071401020 & 2200 \\\\\n",
       "\t10 & 20180911 & CS018205000001 & P071401005 & 1100 \\\\\n",
       "\t11 & 20190216 & CS018205000001 & P040101002 & 218 \\\\\n",
       "\t12 & 20190924 & CS018205000001 & P091503001 & 280 \\\\\n",
       "\\end{tabular}\n"
      ],
      "text/plain": [
       "\u001b[1m12×4 DataFrame\u001b[0m\n",
       "\u001b[1m Row \u001b[0m│\u001b[1m sales_ymd \u001b[0m\u001b[1m customer_id    \u001b[0m\u001b[1m product_cd \u001b[0m\u001b[1m amount \u001b[0m\n",
       "     │\u001b[90m Int64     \u001b[0m\u001b[90m String15       \u001b[0m\u001b[90m String15   \u001b[0m\u001b[90m Int64  \u001b[0m\n",
       "─────┼───────────────────────────────────────────────\n",
       "   1 │  20180911  CS018205000001  P071401012    2200\n",
       "   2 │  20180414  CS018205000001  P060104007     600\n",
       "   3 │  20170614  CS018205000001  P050206001     990\n",
       "   4 │  20170614  CS018205000001  P060702015     108\n",
       "   5 │  20190216  CS018205000001  P071005024     102\n",
       "   6 │  20180414  CS018205000001  P071101002     278\n",
       "   7 │  20190226  CS018205000001  P070902035     168\n",
       "   8 │  20190924  CS018205000001  P060805001     495\n",
       "   9 │  20190226  CS018205000001  P071401020    2200\n",
       "  10 │  20180911  CS018205000001  P071401005    1100\n",
       "  11 │  20190216  CS018205000001  P040101002     218\n",
       "  12 │  20190924  CS018205000001  P091503001     280"
      ]
     },
     "execution_count": 13,
     "metadata": {},
     "output_type": "execute_result"
    }
   ],
   "source": [
    "# p4\n",
    "rename!(df_receipt, :sales_date => :sales_ymd)\n",
    "\n",
    "# 解答1\n",
    "df_receipt[!, [:sales_ymd, :customer_id, :product_cd, :amount]] |>\n",
    "    filter(row -> row.customer_id == \"CS018205000001\")\n",
    "\n",
    "# 解答2\n",
    "@chain df_receipt begin\n",
    "        select(:sales_ymd, :customer_id, :product_cd, :amount)\n",
    "        filter(row -> row.customer_id == \"CS018205000001\", _) # chainでfilterする場合は，dataの場所に_を使用する．\n",
    "    end"
   ]
  },
  {
   "cell_type": "code",
   "execution_count": 14,
   "metadata": {},
   "outputs": [
    {
     "data": {
      "text/html": [
       "<div><div style = \"float: left;\"><span>3×4 DataFrame</span></div><div style = \"clear: both;\"></div></div><div class = \"data-frame\" style = \"overflow-x: scroll;\"><table class = \"data-frame\" style = \"margin-bottom: 6px;\"><thead><tr class = \"header\"><th class = \"rowNumber\" style = \"font-weight: bold; text-align: right;\">Row</th><th style = \"text-align: left;\">sales_ymd</th><th style = \"text-align: left;\">customer_id</th><th style = \"text-align: left;\">product_cd</th><th style = \"text-align: left;\">amount</th></tr><tr class = \"subheader headerLastRow\"><th class = \"rowNumber\" style = \"font-weight: bold; text-align: right;\"></th><th title = \"Int64\" style = \"text-align: left;\">Int64</th><th title = \"String15\" style = \"text-align: left;\">String15</th><th title = \"String15\" style = \"text-align: left;\">String15</th><th title = \"Int64\" style = \"text-align: left;\">Int64</th></tr></thead><tbody><tr><td class = \"rowNumber\" style = \"font-weight: bold; text-align: right;\">1</td><td style = \"text-align: right;\">20180911</td><td style = \"text-align: left;\">CS018205000001</td><td style = \"text-align: left;\">P071401012</td><td style = \"text-align: right;\">2200</td></tr><tr><td class = \"rowNumber\" style = \"font-weight: bold; text-align: right;\">2</td><td style = \"text-align: right;\">20190226</td><td style = \"text-align: left;\">CS018205000001</td><td style = \"text-align: left;\">P071401020</td><td style = \"text-align: right;\">2200</td></tr><tr><td class = \"rowNumber\" style = \"font-weight: bold; text-align: right;\">3</td><td style = \"text-align: right;\">20180911</td><td style = \"text-align: left;\">CS018205000001</td><td style = \"text-align: left;\">P071401005</td><td style = \"text-align: right;\">1100</td></tr></tbody></table></div>"
      ],
      "text/latex": [
       "\\begin{tabular}{r|cccc}\n",
       "\t& sales\\_ymd & customer\\_id & product\\_cd & amount\\\\\n",
       "\t\\hline\n",
       "\t& Int64 & String15 & String15 & Int64\\\\\n",
       "\t\\hline\n",
       "\t1 & 20180911 & CS018205000001 & P071401012 & 2200 \\\\\n",
       "\t2 & 20190226 & CS018205000001 & P071401020 & 2200 \\\\\n",
       "\t3 & 20180911 & CS018205000001 & P071401005 & 1100 \\\\\n",
       "\\end{tabular}\n"
      ],
      "text/plain": [
       "\u001b[1m3×4 DataFrame\u001b[0m\n",
       "\u001b[1m Row \u001b[0m│\u001b[1m sales_ymd \u001b[0m\u001b[1m customer_id    \u001b[0m\u001b[1m product_cd \u001b[0m\u001b[1m amount \u001b[0m\n",
       "     │\u001b[90m Int64     \u001b[0m\u001b[90m String15       \u001b[0m\u001b[90m String15   \u001b[0m\u001b[90m Int64  \u001b[0m\n",
       "─────┼───────────────────────────────────────────────\n",
       "   1 │  20180911  CS018205000001  P071401012    2200\n",
       "   2 │  20190226  CS018205000001  P071401020    2200\n",
       "   3 │  20180911  CS018205000001  P071401005    1100"
      ]
     },
     "execution_count": 14,
     "metadata": {},
     "output_type": "execute_result"
    }
   ],
   "source": [
    "# p7\n",
    "df_receipt[!, [:sales_ymd, :customer_id, :product_cd, :amount]] |>\n",
    "    filter(row -> row.customer_id == \"CS018205000001\") |>\n",
    "    filter(row -> row.amount >= 1000)"
   ]
  },
  {
   "cell_type": "code",
   "execution_count": 15,
   "metadata": {},
   "outputs": [
    {
     "data": {
      "text/html": [
       "<div><div style = \"float: left;\"><span>12×4 DataFrame</span></div><div style = \"clear: both;\"></div></div><div class = \"data-frame\" style = \"overflow-x: scroll;\"><table class = \"data-frame\" style = \"margin-bottom: 6px;\"><thead><tr class = \"header\"><th class = \"rowNumber\" style = \"font-weight: bold; text-align: right;\">Row</th><th style = \"text-align: left;\">sales_ymd</th><th style = \"text-align: left;\">customer_id</th><th style = \"text-align: left;\">product_cd</th><th style = \"text-align: left;\">amount</th></tr><tr class = \"subheader headerLastRow\"><th class = \"rowNumber\" style = \"font-weight: bold; text-align: right;\"></th><th title = \"Int64\" style = \"text-align: left;\">Int64</th><th title = \"String15\" style = \"text-align: left;\">String15</th><th title = \"String15\" style = \"text-align: left;\">String15</th><th title = \"Int64\" style = \"text-align: left;\">Int64</th></tr></thead><tbody><tr><td class = \"rowNumber\" style = \"font-weight: bold; text-align: right;\">1</td><td style = \"text-align: right;\">20180911</td><td style = \"text-align: left;\">CS018205000001</td><td style = \"text-align: left;\">P071401012</td><td style = \"text-align: right;\">2200</td></tr><tr><td class = \"rowNumber\" style = \"font-weight: bold; text-align: right;\">2</td><td style = \"text-align: right;\">20180414</td><td style = \"text-align: left;\">CS018205000001</td><td style = \"text-align: left;\">P060104007</td><td style = \"text-align: right;\">600</td></tr><tr><td class = \"rowNumber\" style = \"font-weight: bold; text-align: right;\">3</td><td style = \"text-align: right;\">20170614</td><td style = \"text-align: left;\">CS018205000001</td><td style = \"text-align: left;\">P050206001</td><td style = \"text-align: right;\">990</td></tr><tr><td class = \"rowNumber\" style = \"font-weight: bold; text-align: right;\">4</td><td style = \"text-align: right;\">20170614</td><td style = \"text-align: left;\">CS018205000001</td><td style = \"text-align: left;\">P060702015</td><td style = \"text-align: right;\">108</td></tr><tr><td class = \"rowNumber\" style = \"font-weight: bold; text-align: right;\">5</td><td style = \"text-align: right;\">20190216</td><td style = \"text-align: left;\">CS018205000001</td><td style = \"text-align: left;\">P071005024</td><td style = \"text-align: right;\">102</td></tr><tr><td class = \"rowNumber\" style = \"font-weight: bold; text-align: right;\">6</td><td style = \"text-align: right;\">20180414</td><td style = \"text-align: left;\">CS018205000001</td><td style = \"text-align: left;\">P071101002</td><td style = \"text-align: right;\">278</td></tr><tr><td class = \"rowNumber\" style = \"font-weight: bold; text-align: right;\">7</td><td style = \"text-align: right;\">20190226</td><td style = \"text-align: left;\">CS018205000001</td><td style = \"text-align: left;\">P070902035</td><td style = \"text-align: right;\">168</td></tr><tr><td class = \"rowNumber\" style = \"font-weight: bold; text-align: right;\">8</td><td style = \"text-align: right;\">20190924</td><td style = \"text-align: left;\">CS018205000001</td><td style = \"text-align: left;\">P060805001</td><td style = \"text-align: right;\">495</td></tr><tr><td class = \"rowNumber\" style = \"font-weight: bold; text-align: right;\">9</td><td style = \"text-align: right;\">20190226</td><td style = \"text-align: left;\">CS018205000001</td><td style = \"text-align: left;\">P071401020</td><td style = \"text-align: right;\">2200</td></tr><tr><td class = \"rowNumber\" style = \"font-weight: bold; text-align: right;\">10</td><td style = \"text-align: right;\">20180911</td><td style = \"text-align: left;\">CS018205000001</td><td style = \"text-align: left;\">P071401005</td><td style = \"text-align: right;\">1100</td></tr><tr><td class = \"rowNumber\" style = \"font-weight: bold; text-align: right;\">11</td><td style = \"text-align: right;\">20190216</td><td style = \"text-align: left;\">CS018205000001</td><td style = \"text-align: left;\">P040101002</td><td style = \"text-align: right;\">218</td></tr><tr><td class = \"rowNumber\" style = \"font-weight: bold; text-align: right;\">12</td><td style = \"text-align: right;\">20190924</td><td style = \"text-align: left;\">CS018205000001</td><td style = \"text-align: left;\">P091503001</td><td style = \"text-align: right;\">280</td></tr></tbody></table></div>"
      ],
      "text/latex": [
       "\\begin{tabular}{r|cccc}\n",
       "\t& sales\\_ymd & customer\\_id & product\\_cd & amount\\\\\n",
       "\t\\hline\n",
       "\t& Int64 & String15 & String15 & Int64\\\\\n",
       "\t\\hline\n",
       "\t1 & 20180911 & CS018205000001 & P071401012 & 2200 \\\\\n",
       "\t2 & 20180414 & CS018205000001 & P060104007 & 600 \\\\\n",
       "\t3 & 20170614 & CS018205000001 & P050206001 & 990 \\\\\n",
       "\t4 & 20170614 & CS018205000001 & P060702015 & 108 \\\\\n",
       "\t5 & 20190216 & CS018205000001 & P071005024 & 102 \\\\\n",
       "\t6 & 20180414 & CS018205000001 & P071101002 & 278 \\\\\n",
       "\t7 & 20190226 & CS018205000001 & P070902035 & 168 \\\\\n",
       "\t8 & 20190924 & CS018205000001 & P060805001 & 495 \\\\\n",
       "\t9 & 20190226 & CS018205000001 & P071401020 & 2200 \\\\\n",
       "\t10 & 20180911 & CS018205000001 & P071401005 & 1100 \\\\\n",
       "\t11 & 20190216 & CS018205000001 & P040101002 & 218 \\\\\n",
       "\t12 & 20190924 & CS018205000001 & P091503001 & 280 \\\\\n",
       "\\end{tabular}\n"
      ],
      "text/plain": [
       "\u001b[1m12×4 DataFrame\u001b[0m\n",
       "\u001b[1m Row \u001b[0m│\u001b[1m sales_ymd \u001b[0m\u001b[1m customer_id    \u001b[0m\u001b[1m product_cd \u001b[0m\u001b[1m amount \u001b[0m\n",
       "     │\u001b[90m Int64     \u001b[0m\u001b[90m String15       \u001b[0m\u001b[90m String15   \u001b[0m\u001b[90m Int64  \u001b[0m\n",
       "─────┼───────────────────────────────────────────────\n",
       "   1 │  20180911  CS018205000001  P071401012    2200\n",
       "   2 │  20180414  CS018205000001  P060104007     600\n",
       "   3 │  20170614  CS018205000001  P050206001     990\n",
       "   4 │  20170614  CS018205000001  P060702015     108\n",
       "   5 │  20190216  CS018205000001  P071005024     102\n",
       "   6 │  20180414  CS018205000001  P071101002     278\n",
       "   7 │  20190226  CS018205000001  P070902035     168\n",
       "   8 │  20190924  CS018205000001  P060805001     495\n",
       "   9 │  20190226  CS018205000001  P071401020    2200\n",
       "  10 │  20180911  CS018205000001  P071401005    1100\n",
       "  11 │  20190216  CS018205000001  P040101002     218\n",
       "  12 │  20190924  CS018205000001  P091503001     280"
      ]
     },
     "execution_count": 15,
     "metadata": {},
     "output_type": "execute_result"
    }
   ],
   "source": [
    "# p8\n",
    "df_receipt[!, [:sales_ymd, :customer_id, :product_cd, :amount]] |>\n",
    "    filter(row -> row.customer_id == \"CS018205000001\") |>\n",
    "    filter(row -> row.product_cd != \"P071401019\")"
   ]
  },
  {
   "cell_type": "code",
   "execution_count": 16,
   "metadata": {},
   "outputs": [
    {
     "data": {
      "text/html": [
       "<div><div style = \"float: left;\"><span>9×10 DataFrame</span></div><div style = \"clear: both;\"></div></div><div class = \"data-frame\" style = \"overflow-x: scroll;\"><table class = \"data-frame\" style = \"margin-bottom: 6px;\"><thead><tr class = \"header\"><th class = \"rowNumber\" style = \"font-weight: bold; text-align: right;\">Row</th><th style = \"text-align: left;\">store_cd</th><th style = \"text-align: left;\">store_name</th><th style = \"text-align: left;\">prefecture_cd</th><th style = \"text-align: left;\">prefecture</th><th style = \"text-align: left;\">address</th><th style = \"text-align: left;\">address_kana</th><th style = \"text-align: left;\">tel_no</th><th style = \"text-align: left;\">longitude</th><th style = \"text-align: left;\">latitude</th><th style = \"text-align: left;\">floor_area</th></tr><tr class = \"subheader headerLastRow\"><th class = \"rowNumber\" style = \"font-weight: bold; text-align: right;\"></th><th title = \"String7\" style = \"text-align: left;\">String7</th><th title = \"String31\" style = \"text-align: left;\">String31</th><th title = \"Int64\" style = \"text-align: left;\">Int64</th><th title = \"String15\" style = \"text-align: left;\">String15</th><th title = \"String\" style = \"text-align: left;\">String</th><th title = \"String\" style = \"text-align: left;\">String</th><th title = \"String15\" style = \"text-align: left;\">String15</th><th title = \"Float64\" style = \"text-align: left;\">Float64</th><th title = \"Float64\" style = \"text-align: left;\">Float64</th><th title = \"Float64\" style = \"text-align: left;\">Float64</th></tr></thead><tbody><tr><td class = \"rowNumber\" style = \"font-weight: bold; text-align: right;\">1</td><td style = \"text-align: left;\">S14046</td><td style = \"text-align: left;\">北山田店</td><td style = \"text-align: right;\">14</td><td style = \"text-align: left;\">神奈川県</td><td style = \"text-align: left;\">神奈川県横浜市都筑区北山田一丁目</td><td style = \"text-align: left;\">カナガワケンヨコハマシツヅキクキタヤマタイッチョウメ</td><td style = \"text-align: left;\">045-123-4049</td><td style = \"text-align: right;\">139.592</td><td style = \"text-align: right;\">35.5619</td><td style = \"text-align: right;\">831.0</td></tr><tr><td class = \"rowNumber\" style = \"font-weight: bold; text-align: right;\">2</td><td style = \"text-align: left;\">S14011</td><td style = \"text-align: left;\">日吉本町店</td><td style = \"text-align: right;\">14</td><td style = \"text-align: left;\">神奈川県</td><td style = \"text-align: left;\">神奈川県横浜市港北区日吉本町四丁目</td><td style = \"text-align: left;\">カナガワケンヨコハマシコウホククヒヨシホンチョウヨンチョウメ</td><td style = \"text-align: left;\">045-123-4033</td><td style = \"text-align: right;\">139.632</td><td style = \"text-align: right;\">35.5466</td><td style = \"text-align: right;\">890.0</td></tr><tr><td class = \"rowNumber\" style = \"font-weight: bold; text-align: right;\">3</td><td style = \"text-align: left;\">S13008</td><td style = \"text-align: left;\">成城店</td><td style = \"text-align: right;\">13</td><td style = \"text-align: left;\">東京都</td><td style = \"text-align: left;\">東京都世田谷区成城三丁目</td><td style = \"text-align: left;\">トウキョウトセタガヤクセイジョウサンチョウメ</td><td style = \"text-align: left;\">03-0123-4012</td><td style = \"text-align: right;\">139.597</td><td style = \"text-align: right;\">35.6361</td><td style = \"text-align: right;\">883.0</td></tr><tr><td class = \"rowNumber\" style = \"font-weight: bold; text-align: right;\">4</td><td style = \"text-align: left;\">S13020</td><td style = \"text-align: left;\">十条仲原店</td><td style = \"text-align: right;\">13</td><td style = \"text-align: left;\">東京都</td><td style = \"text-align: left;\">東京都北区十条仲原三丁目</td><td style = \"text-align: left;\">トウキョウトキタクジュウジョウナカハラサンチョウメ</td><td style = \"text-align: left;\">03-0123-4019</td><td style = \"text-align: right;\">139.719</td><td style = \"text-align: right;\">35.7669</td><td style = \"text-align: right;\">801.0</td></tr><tr><td class = \"rowNumber\" style = \"font-weight: bold; text-align: right;\">5</td><td style = \"text-align: left;\">S13043</td><td style = \"text-align: left;\">南品川店</td><td style = \"text-align: right;\">13</td><td style = \"text-align: left;\">東京都</td><td style = \"text-align: left;\">東京都品川区南品川三丁目</td><td style = \"text-align: left;\">トウキョウトシナガワクミナミシナガワサンチョウメ</td><td style = \"text-align: left;\">03-0123-4027</td><td style = \"text-align: right;\">139.744</td><td style = \"text-align: right;\">35.6098</td><td style = \"text-align: right;\">845.0</td></tr><tr><td class = \"rowNumber\" style = \"font-weight: bold; text-align: right;\">6</td><td style = \"text-align: left;\">S13041</td><td style = \"text-align: left;\">八王子店</td><td style = \"text-align: right;\">13</td><td style = \"text-align: left;\">東京都</td><td style = \"text-align: left;\">東京都八王子市大塚</td><td style = \"text-align: left;\">トウキョウトハチオウジシオオツカ</td><td style = \"text-align: left;\">042-123-4026</td><td style = \"text-align: right;\">139.423</td><td style = \"text-align: right;\">35.6379</td><td style = \"text-align: right;\">810.0</td></tr><tr><td class = \"rowNumber\" style = \"font-weight: bold; text-align: right;\">7</td><td style = \"text-align: left;\">S13017</td><td style = \"text-align: left;\">高円寺南店</td><td style = \"text-align: right;\">13</td><td style = \"text-align: left;\">東京都</td><td style = \"text-align: left;\">東京都杉並区高円寺南四丁目</td><td style = \"text-align: left;\">トウキョウトスギナミクコウエンジミナミヨンチョウメ</td><td style = \"text-align: left;\">03-0123-4016</td><td style = \"text-align: right;\">139.651</td><td style = \"text-align: right;\">35.7027</td><td style = \"text-align: right;\">841.0</td></tr><tr><td class = \"rowNumber\" style = \"font-weight: bold; text-align: right;\">8</td><td style = \"text-align: left;\">S12013</td><td style = \"text-align: left;\">習志野店</td><td style = \"text-align: right;\">12</td><td style = \"text-align: left;\">千葉県</td><td style = \"text-align: left;\">千葉県習志野市芝園一丁目</td><td style = \"text-align: left;\">チバケンナラシノシシバゾノイッチョウメ</td><td style = \"text-align: left;\">047-123-4002</td><td style = \"text-align: right;\">140.022</td><td style = \"text-align: right;\">35.6612</td><td style = \"text-align: right;\">808.0</td></tr><tr><td class = \"rowNumber\" style = \"font-weight: bold; text-align: right;\">9</td><td style = \"text-align: left;\">S13037</td><td style = \"text-align: left;\">南砂一丁目店</td><td style = \"text-align: right;\">13</td><td style = \"text-align: left;\">東京都</td><td style = \"text-align: left;\">東京都江東区南砂一丁目</td><td style = \"text-align: left;\">トウキョウトコウトウクミナミスナイッチョウメ</td><td style = \"text-align: left;\">03-0123-4023</td><td style = \"text-align: right;\">139.821</td><td style = \"text-align: right;\">35.679</td><td style = \"text-align: right;\">814.0</td></tr></tbody></table></div>"
      ],
      "text/latex": [
       "\\begin{tabular}{r|cccccc}\n",
       "\t& store\\_cd & store\\_name & prefecture\\_cd & prefecture & address & \\\\\n",
       "\t\\hline\n",
       "\t& String7 & String31 & Int64 & String15 & String & \\\\\n",
       "\t\\hline\n",
       "\t1 & S14046 & 北山田店 & 14 & 神奈川県 & 神奈川県横浜市都筑区北山田一丁目 & $\\dots$ \\\\\n",
       "\t2 & S14011 & 日吉本町店 & 14 & 神奈川県 & 神奈川県横浜市港北区日吉本町四丁目 & $\\dots$ \\\\\n",
       "\t3 & S13008 & 成城店 & 13 & 東京都 & 東京都世田谷区成城三丁目 & $\\dots$ \\\\\n",
       "\t4 & S13020 & 十条仲原店 & 13 & 東京都 & 東京都北区十条仲原三丁目 & $\\dots$ \\\\\n",
       "\t5 & S13043 & 南品川店 & 13 & 東京都 & 東京都品川区南品川三丁目 & $\\dots$ \\\\\n",
       "\t6 & S13041 & 八王子店 & 13 & 東京都 & 東京都八王子市大塚 & $\\dots$ \\\\\n",
       "\t7 & S13017 & 高円寺南店 & 13 & 東京都 & 東京都杉並区高円寺南四丁目 & $\\dots$ \\\\\n",
       "\t8 & S12013 & 習志野店 & 12 & 千葉県 & 千葉県習志野市芝園一丁目 & $\\dots$ \\\\\n",
       "\t9 & S13037 & 南砂一丁目店 & 13 & 東京都 & 東京都江東区南砂一丁目 & $\\dots$ \\\\\n",
       "\\end{tabular}\n"
      ],
      "text/plain": [
       "\u001b[1m9×10 DataFrame\u001b[0m\n",
       "\u001b[1m Row \u001b[0m│\u001b[1m store_cd \u001b[0m\u001b[1m store_name   \u001b[0m\u001b[1m prefecture_cd \u001b[0m\u001b[1m prefecture \u001b[0m\u001b[1m address             \u001b[0m ⋯\n",
       "     │\u001b[90m String7  \u001b[0m\u001b[90m String31     \u001b[0m\u001b[90m Int64         \u001b[0m\u001b[90m String15   \u001b[0m\u001b[90m String              \u001b[0m ⋯\n",
       "─────┼──────────────────────────────────────────────────────────────────────────\n",
       "   1 │ S14046    北山田店                 14  神奈川県    神奈川県横浜市都筑区 ⋯\n",
       "   2 │ S14011    日吉本町店               14  神奈川県    神奈川県横浜市港北区\n",
       "   3 │ S13008    成城店                   13  東京都      東京都世田谷区成城三\n",
       "   4 │ S13020    十条仲原店               13  東京都      東京都北区十条仲原三\n",
       "   5 │ S13043    南品川店                 13  東京都      東京都品川区南品川三 ⋯\n",
       "   6 │ S13041    八王子店                 13  東京都      東京都八王子市大塚\n",
       "   7 │ S13017    高円寺南店               13  東京都      東京都杉並区高円寺南\n",
       "   8 │ S12013    習志野店                 12  千葉県      千葉県習志野市芝園一\n",
       "   9 │ S13037    南砂一丁目店             13  東京都      東京都江東区南砂一丁 ⋯\n",
       "\u001b[36m                                                               6 columns omitted\u001b[0m"
      ]
     },
     "execution_count": 16,
     "metadata": {},
     "output_type": "execute_result"
    }
   ],
   "source": [
    "# p9\n",
    "df_store |>\n",
    "    filter(row -> row.prefecture_cd != \"13\" && row.floor_area <= 900)"
   ]
  },
  {
   "cell_type": "code",
   "execution_count": 17,
   "metadata": {},
   "outputs": [
    {
     "data": {
      "text/html": [
       "<div><div style = \"float: left;\"><span>10×10 DataFrame</span></div><div style = \"clear: both;\"></div></div><div class = \"data-frame\" style = \"overflow-x: scroll;\"><table class = \"data-frame\" style = \"margin-bottom: 6px;\"><thead><tr class = \"header\"><th class = \"rowNumber\" style = \"font-weight: bold; text-align: right;\">Row</th><th style = \"text-align: left;\">store_cd</th><th style = \"text-align: left;\">store_name</th><th style = \"text-align: left;\">prefecture_cd</th><th style = \"text-align: left;\">prefecture</th><th style = \"text-align: left;\">address</th><th style = \"text-align: left;\">address_kana</th><th style = \"text-align: left;\">tel_no</th><th style = \"text-align: left;\">longitude</th><th style = \"text-align: left;\">latitude</th><th style = \"text-align: left;\">floor_area</th></tr><tr class = \"subheader headerLastRow\"><th class = \"rowNumber\" style = \"font-weight: bold; text-align: right;\"></th><th title = \"String7\" style = \"text-align: left;\">String7</th><th title = \"String31\" style = \"text-align: left;\">String31</th><th title = \"Int64\" style = \"text-align: left;\">Int64</th><th title = \"String15\" style = \"text-align: left;\">String15</th><th title = \"String\" style = \"text-align: left;\">String</th><th title = \"String\" style = \"text-align: left;\">String</th><th title = \"String15\" style = \"text-align: left;\">String15</th><th title = \"Float64\" style = \"text-align: left;\">Float64</th><th title = \"Float64\" style = \"text-align: left;\">Float64</th><th title = \"Float64\" style = \"text-align: left;\">Float64</th></tr></thead><tbody><tr><td class = \"rowNumber\" style = \"font-weight: bold; text-align: right;\">1</td><td style = \"text-align: left;\">S14010</td><td style = \"text-align: left;\">菊名店</td><td style = \"text-align: right;\">14</td><td style = \"text-align: left;\">神奈川県</td><td style = \"text-align: left;\">神奈川県横浜市港北区菊名一丁目</td><td style = \"text-align: left;\">カナガワケンヨコハマシコウホククキクナイッチョウメ</td><td style = \"text-align: left;\">045-123-4032</td><td style = \"text-align: right;\">139.633</td><td style = \"text-align: right;\">35.5005</td><td style = \"text-align: right;\">1732.0</td></tr><tr><td class = \"rowNumber\" style = \"font-weight: bold; text-align: right;\">2</td><td style = \"text-align: left;\">S14033</td><td style = \"text-align: left;\">阿久和店</td><td style = \"text-align: right;\">14</td><td style = \"text-align: left;\">神奈川県</td><td style = \"text-align: left;\">神奈川県横浜市瀬谷区阿久和西一丁目</td><td style = \"text-align: left;\">カナガワケンヨコハマシセヤクアクワニシイッチョウメ</td><td style = \"text-align: left;\">045-123-4043</td><td style = \"text-align: right;\">139.496</td><td style = \"text-align: right;\">35.4592</td><td style = \"text-align: right;\">1495.0</td></tr><tr><td class = \"rowNumber\" style = \"font-weight: bold; text-align: right;\">3</td><td style = \"text-align: left;\">S14036</td><td style = \"text-align: left;\">相模原中央店</td><td style = \"text-align: right;\">14</td><td style = \"text-align: left;\">神奈川県</td><td style = \"text-align: left;\">神奈川県相模原市中央二丁目</td><td style = \"text-align: left;\">カナガワケンサガミハラシチュウオウニチョウメ</td><td style = \"text-align: left;\">042-123-4045</td><td style = \"text-align: right;\">139.372</td><td style = \"text-align: right;\">35.5733</td><td style = \"text-align: right;\">1679.0</td></tr><tr><td class = \"rowNumber\" style = \"font-weight: bold; text-align: right;\">4</td><td style = \"text-align: left;\">S14040</td><td style = \"text-align: left;\">長津田店</td><td style = \"text-align: right;\">14</td><td style = \"text-align: left;\">神奈川県</td><td style = \"text-align: left;\">神奈川県横浜市緑区長津田みなみ台五丁目</td><td style = \"text-align: left;\">カナガワケンヨコハマシミドリクナガツタミナミダイゴチョウメ</td><td style = \"text-align: left;\">045-123-4046</td><td style = \"text-align: right;\">139.499</td><td style = \"text-align: right;\">35.524</td><td style = \"text-align: right;\">1548.0</td></tr><tr><td class = \"rowNumber\" style = \"font-weight: bold; text-align: right;\">5</td><td style = \"text-align: left;\">S14050</td><td style = \"text-align: left;\">阿久和西店</td><td style = \"text-align: right;\">14</td><td style = \"text-align: left;\">神奈川県</td><td style = \"text-align: left;\">神奈川県横浜市瀬谷区阿久和西一丁目</td><td style = \"text-align: left;\">カナガワケンヨコハマシセヤクアクワニシイッチョウメ</td><td style = \"text-align: left;\">045-123-4053</td><td style = \"text-align: right;\">139.496</td><td style = \"text-align: right;\">35.4592</td><td style = \"text-align: right;\">1830.0</td></tr><tr><td class = \"rowNumber\" style = \"font-weight: bold; text-align: right;\">6</td><td style = \"text-align: left;\">S14028</td><td style = \"text-align: left;\">二ツ橋店</td><td style = \"text-align: right;\">14</td><td style = \"text-align: left;\">神奈川県</td><td style = \"text-align: left;\">神奈川県横浜市瀬谷区二ツ橋町</td><td style = \"text-align: left;\">カナガワケンヨコハマシセヤクフタツバシチョウ</td><td style = \"text-align: left;\">045-123-4042</td><td style = \"text-align: right;\">139.496</td><td style = \"text-align: right;\">35.463</td><td style = \"text-align: right;\">1574.0</td></tr><tr><td class = \"rowNumber\" style = \"font-weight: bold; text-align: right;\">7</td><td style = \"text-align: left;\">S14012</td><td style = \"text-align: left;\">本牧和田店</td><td style = \"text-align: right;\">14</td><td style = \"text-align: left;\">神奈川県</td><td style = \"text-align: left;\">神奈川県横浜市中区本牧和田</td><td style = \"text-align: left;\">カナガワケンヨコハマシナカクホンモクワダ</td><td style = \"text-align: left;\">045-123-4034</td><td style = \"text-align: right;\">139.658</td><td style = \"text-align: right;\">35.4216</td><td style = \"text-align: right;\">1341.0</td></tr><tr><td class = \"rowNumber\" style = \"font-weight: bold; text-align: right;\">8</td><td style = \"text-align: left;\">S14046</td><td style = \"text-align: left;\">北山田店</td><td style = \"text-align: right;\">14</td><td style = \"text-align: left;\">神奈川県</td><td style = \"text-align: left;\">神奈川県横浜市都筑区北山田一丁目</td><td style = \"text-align: left;\">カナガワケンヨコハマシツヅキクキタヤマタイッチョウメ</td><td style = \"text-align: left;\">045-123-4049</td><td style = \"text-align: right;\">139.592</td><td style = \"text-align: right;\">35.5619</td><td style = \"text-align: right;\">831.0</td></tr><tr><td class = \"rowNumber\" style = \"font-weight: bold; text-align: right;\">9</td><td style = \"text-align: left;\">S14022</td><td style = \"text-align: left;\">逗子店</td><td style = \"text-align: right;\">14</td><td style = \"text-align: left;\">神奈川県</td><td style = \"text-align: left;\">神奈川県逗子市逗子一丁目</td><td style = \"text-align: left;\">カナガワケンズシシズシイッチョウメ</td><td style = \"text-align: left;\">046-123-4036</td><td style = \"text-align: right;\">139.579</td><td style = \"text-align: right;\">35.2964</td><td style = \"text-align: right;\">1838.0</td></tr><tr><td class = \"rowNumber\" style = \"font-weight: bold; text-align: right;\">10</td><td style = \"text-align: left;\">S14011</td><td style = \"text-align: left;\">日吉本町店</td><td style = \"text-align: right;\">14</td><td style = \"text-align: left;\">神奈川県</td><td style = \"text-align: left;\">神奈川県横浜市港北区日吉本町四丁目</td><td style = \"text-align: left;\">カナガワケンヨコハマシコウホククヒヨシホンチョウヨンチョウメ</td><td style = \"text-align: left;\">045-123-4033</td><td style = \"text-align: right;\">139.632</td><td style = \"text-align: right;\">35.5466</td><td style = \"text-align: right;\">890.0</td></tr></tbody></table></div>"
      ],
      "text/latex": [
       "\\begin{tabular}{r|cccccc}\n",
       "\t& store\\_cd & store\\_name & prefecture\\_cd & prefecture & address & \\\\\n",
       "\t\\hline\n",
       "\t& String7 & String31 & Int64 & String15 & String & \\\\\n",
       "\t\\hline\n",
       "\t1 & S14010 & 菊名店 & 14 & 神奈川県 & 神奈川県横浜市港北区菊名一丁目 & $\\dots$ \\\\\n",
       "\t2 & S14033 & 阿久和店 & 14 & 神奈川県 & 神奈川県横浜市瀬谷区阿久和西一丁目 & $\\dots$ \\\\\n",
       "\t3 & S14036 & 相模原中央店 & 14 & 神奈川県 & 神奈川県相模原市中央二丁目 & $\\dots$ \\\\\n",
       "\t4 & S14040 & 長津田店 & 14 & 神奈川県 & 神奈川県横浜市緑区長津田みなみ台五丁目 & $\\dots$ \\\\\n",
       "\t5 & S14050 & 阿久和西店 & 14 & 神奈川県 & 神奈川県横浜市瀬谷区阿久和西一丁目 & $\\dots$ \\\\\n",
       "\t6 & S14028 & 二ツ橋店 & 14 & 神奈川県 & 神奈川県横浜市瀬谷区二ツ橋町 & $\\dots$ \\\\\n",
       "\t7 & S14012 & 本牧和田店 & 14 & 神奈川県 & 神奈川県横浜市中区本牧和田 & $\\dots$ \\\\\n",
       "\t8 & S14046 & 北山田店 & 14 & 神奈川県 & 神奈川県横浜市都筑区北山田一丁目 & $\\dots$ \\\\\n",
       "\t9 & S14022 & 逗子店 & 14 & 神奈川県 & 神奈川県逗子市逗子一丁目 & $\\dots$ \\\\\n",
       "\t10 & S14011 & 日吉本町店 & 14 & 神奈川県 & 神奈川県横浜市港北区日吉本町四丁目 & $\\dots$ \\\\\n",
       "\\end{tabular}\n"
      ],
      "text/plain": [
       "\u001b[1m10×10 DataFrame\u001b[0m\n",
       "\u001b[1m Row \u001b[0m│\u001b[1m store_cd \u001b[0m\u001b[1m store_name   \u001b[0m\u001b[1m prefecture_cd \u001b[0m\u001b[1m prefecture \u001b[0m\u001b[1m address             \u001b[0m ⋯\n",
       "     │\u001b[90m String7  \u001b[0m\u001b[90m String31     \u001b[0m\u001b[90m Int64         \u001b[0m\u001b[90m String15   \u001b[0m\u001b[90m String              \u001b[0m ⋯\n",
       "─────┼──────────────────────────────────────────────────────────────────────────\n",
       "   1 │ S14010    菊名店                   14  神奈川県    神奈川県横浜市港北区 ⋯\n",
       "   2 │ S14033    阿久和店                 14  神奈川県    神奈川県横浜市瀬谷区\n",
       "   3 │ S14036    相模原中央店             14  神奈川県    神奈川県相模原市中央\n",
       "   4 │ S14040    長津田店                 14  神奈川県    神奈川県横浜市緑区長\n",
       "   5 │ S14050    阿久和西店               14  神奈川県    神奈川県横浜市瀬谷区 ⋯\n",
       "   6 │ S14028    二ツ橋店                 14  神奈川県    神奈川県横浜市瀬谷区\n",
       "   7 │ S14012    本牧和田店               14  神奈川県    神奈川県横浜市中区本\n",
       "   8 │ S14046    北山田店                 14  神奈川県    神奈川県横浜市都筑区\n",
       "   9 │ S14022    逗子店                   14  神奈川県    神奈川県逗子市逗子一 ⋯\n",
       "  10 │ S14011    日吉本町店               14  神奈川県    神奈川県横浜市港北区\n",
       "\u001b[36m                                                               6 columns omitted\u001b[0m"
      ]
     },
     "execution_count": 17,
     "metadata": {},
     "output_type": "execute_result"
    }
   ],
   "source": [
    "# p10\n",
    "@chain df_store |>\n",
    "    filter(row -> startswith(row.store_cd, \"S14\")) begin\n",
    "        first(10)\n",
    "    end"
   ]
  },
  {
   "cell_type": "code",
   "execution_count": 18,
   "metadata": {},
   "outputs": [
    {
     "data": {
      "text/html": [
       "<div><div style = \"float: left;\"><span>10×11 DataFrame</span></div><div style = \"clear: both;\"></div></div><div class = \"data-frame\" style = \"overflow-x: scroll;\"><table class = \"data-frame\" style = \"margin-bottom: 6px;\"><thead><tr class = \"header\"><th class = \"rowNumber\" style = \"font-weight: bold; text-align: right;\">Row</th><th style = \"text-align: left;\">customer_id</th><th style = \"text-align: left;\">customer_name</th><th style = \"text-align: left;\">gender_cd</th><th style = \"text-align: left;\">gender</th><th style = \"text-align: left;\">birth_day</th><th style = \"text-align: left;\">age</th><th style = \"text-align: left;\">postal_cd</th><th style = \"text-align: left;\">address</th><th style = \"text-align: left;\">application_store_cd</th><th style = \"text-align: left;\">application_date</th><th style = \"text-align: left;\">status_cd</th></tr><tr class = \"subheader headerLastRow\"><th class = \"rowNumber\" style = \"font-weight: bold; text-align: right;\"></th><th title = \"String15\" style = \"text-align: left;\">String15</th><th title = \"String31\" style = \"text-align: left;\">String31</th><th title = \"Int64\" style = \"text-align: left;\">Int64</th><th title = \"String7\" style = \"text-align: left;\">String7</th><th title = \"Dates.Date\" style = \"text-align: left;\">Date</th><th title = \"Int64\" style = \"text-align: left;\">Int64</th><th title = \"String15\" style = \"text-align: left;\">String15</th><th title = \"String\" style = \"text-align: left;\">String</th><th title = \"String7\" style = \"text-align: left;\">String7</th><th title = \"Int64\" style = \"text-align: left;\">Int64</th><th title = \"String15\" style = \"text-align: left;\">String15</th></tr></thead><tbody><tr><td class = \"rowNumber\" style = \"font-weight: bold; text-align: right;\">1</td><td style = \"text-align: left;\">CS037613000071</td><td style = \"text-align: left;\">六角 雅彦</td><td style = \"text-align: right;\">9</td><td style = \"text-align: left;\">不明</td><td style = \"text-align: left;\">1952-04-01</td><td style = \"text-align: right;\">66</td><td style = \"text-align: left;\">136-0076</td><td style = \"text-align: left;\">東京都江東区南砂**********</td><td style = \"text-align: left;\">S13037</td><td style = \"text-align: right;\">20150414</td><td style = \"text-align: left;\">0-00000000-0</td></tr><tr><td class = \"rowNumber\" style = \"font-weight: bold; text-align: right;\">2</td><td style = \"text-align: left;\">CS028811000001</td><td style = \"text-align: left;\">堀井 かおり</td><td style = \"text-align: right;\">1</td><td style = \"text-align: left;\">女性</td><td style = \"text-align: left;\">1933-03-27</td><td style = \"text-align: right;\">86</td><td style = \"text-align: left;\">245-0016</td><td style = \"text-align: left;\">神奈川県横浜市泉区和泉町**********</td><td style = \"text-align: left;\">S14028</td><td style = \"text-align: right;\">20160115</td><td style = \"text-align: left;\">0-00000000-0</td></tr><tr><td class = \"rowNumber\" style = \"font-weight: bold; text-align: right;\">3</td><td style = \"text-align: left;\">CS040412000191</td><td style = \"text-align: left;\">川井 郁恵</td><td style = \"text-align: right;\">1</td><td style = \"text-align: left;\">女性</td><td style = \"text-align: left;\">1977-01-05</td><td style = \"text-align: right;\">42</td><td style = \"text-align: left;\">226-0021</td><td style = \"text-align: left;\">神奈川県横浜市緑区北八朔町**********</td><td style = \"text-align: left;\">S14040</td><td style = \"text-align: right;\">20151101</td><td style = \"text-align: left;\">1-20091025-4</td></tr><tr><td class = \"rowNumber\" style = \"font-weight: bold; text-align: right;\">4</td><td style = \"text-align: left;\">CS028314000011</td><td style = \"text-align: left;\">小菅 あおい</td><td style = \"text-align: right;\">1</td><td style = \"text-align: left;\">女性</td><td style = \"text-align: left;\">1983-11-26</td><td style = \"text-align: right;\">35</td><td style = \"text-align: left;\">246-0038</td><td style = \"text-align: left;\">神奈川県横浜市瀬谷区宮沢**********</td><td style = \"text-align: left;\">S14028</td><td style = \"text-align: right;\">20151123</td><td style = \"text-align: left;\">1-20080426-5</td></tr><tr><td class = \"rowNumber\" style = \"font-weight: bold; text-align: right;\">5</td><td style = \"text-align: left;\">CS039212000051</td><td style = \"text-align: left;\">藤島 恵梨香</td><td style = \"text-align: right;\">1</td><td style = \"text-align: left;\">女性</td><td style = \"text-align: left;\">1997-02-03</td><td style = \"text-align: right;\">22</td><td style = \"text-align: left;\">166-0001</td><td style = \"text-align: left;\">東京都杉並区阿佐谷北**********</td><td style = \"text-align: left;\">S13039</td><td style = \"text-align: right;\">20171121</td><td style = \"text-align: left;\">1-20100215-4</td></tr><tr><td class = \"rowNumber\" style = \"font-weight: bold; text-align: right;\">6</td><td style = \"text-align: left;\">CS015412000111</td><td style = \"text-align: left;\">松居 奈月</td><td style = \"text-align: right;\">1</td><td style = \"text-align: left;\">女性</td><td style = \"text-align: left;\">1972-10-04</td><td style = \"text-align: right;\">46</td><td style = \"text-align: left;\">136-0071</td><td style = \"text-align: left;\">東京都江東区亀戸**********</td><td style = \"text-align: left;\">S13015</td><td style = \"text-align: right;\">20150629</td><td style = \"text-align: left;\">0-00000000-0</td></tr><tr><td class = \"rowNumber\" style = \"font-weight: bold; text-align: right;\">7</td><td style = \"text-align: left;\">CS004702000041</td><td style = \"text-align: left;\">野島 洋</td><td style = \"text-align: right;\">0</td><td style = \"text-align: left;\">男性</td><td style = \"text-align: left;\">1943-08-24</td><td style = \"text-align: right;\">75</td><td style = \"text-align: left;\">176-0022</td><td style = \"text-align: left;\">東京都練馬区向山**********</td><td style = \"text-align: left;\">S13004</td><td style = \"text-align: right;\">20170218</td><td style = \"text-align: left;\">0-00000000-0</td></tr><tr><td class = \"rowNumber\" style = \"font-weight: bold; text-align: right;\">8</td><td style = \"text-align: left;\">CS041515000001</td><td style = \"text-align: left;\">栗田 千夏</td><td style = \"text-align: right;\">1</td><td style = \"text-align: left;\">女性</td><td style = \"text-align: left;\">1967-01-02</td><td style = \"text-align: right;\">52</td><td style = \"text-align: left;\">206-0001</td><td style = \"text-align: left;\">東京都多摩市和田**********</td><td style = \"text-align: left;\">S13041</td><td style = \"text-align: right;\">20160422</td><td style = \"text-align: left;\">E-20100803-F</td></tr><tr><td class = \"rowNumber\" style = \"font-weight: bold; text-align: right;\">9</td><td style = \"text-align: left;\">CS029313000221</td><td style = \"text-align: left;\">北条 ひかり</td><td style = \"text-align: right;\">1</td><td style = \"text-align: left;\">女性</td><td style = \"text-align: left;\">1987-06-19</td><td style = \"text-align: right;\">31</td><td style = \"text-align: left;\">279-0011</td><td style = \"text-align: left;\">千葉県浦安市美浜**********</td><td style = \"text-align: left;\">S12029</td><td style = \"text-align: right;\">20180810</td><td style = \"text-align: left;\">0-00000000-0</td></tr><tr><td class = \"rowNumber\" style = \"font-weight: bold; text-align: right;\">10</td><td style = \"text-align: left;\">CS034312000071</td><td style = \"text-align: left;\">望月 奈央</td><td style = \"text-align: right;\">1</td><td style = \"text-align: left;\">女性</td><td style = \"text-align: left;\">1980-09-20</td><td style = \"text-align: right;\">38</td><td style = \"text-align: left;\">213-0026</td><td style = \"text-align: left;\">神奈川県川崎市高津区久末**********</td><td style = \"text-align: left;\">S14034</td><td style = \"text-align: right;\">20160106</td><td style = \"text-align: left;\">0-00000000-0</td></tr></tbody></table></div>"
      ],
      "text/latex": [
       "\\begin{tabular}{r|cccccccc}\n",
       "\t& customer\\_id & customer\\_name & gender\\_cd & gender & birth\\_day & age & postal\\_cd & \\\\\n",
       "\t\\hline\n",
       "\t& String15 & String31 & Int64 & String7 & Date & Int64 & String15 & \\\\\n",
       "\t\\hline\n",
       "\t1 & CS037613000071 & 六角 雅彦 & 9 & 不明 & 1952-04-01 & 66 & 136-0076 & $\\dots$ \\\\\n",
       "\t2 & CS028811000001 & 堀井 かおり & 1 & 女性 & 1933-03-27 & 86 & 245-0016 & $\\dots$ \\\\\n",
       "\t3 & CS040412000191 & 川井 郁恵 & 1 & 女性 & 1977-01-05 & 42 & 226-0021 & $\\dots$ \\\\\n",
       "\t4 & CS028314000011 & 小菅 あおい & 1 & 女性 & 1983-11-26 & 35 & 246-0038 & $\\dots$ \\\\\n",
       "\t5 & CS039212000051 & 藤島 恵梨香 & 1 & 女性 & 1997-02-03 & 22 & 166-0001 & $\\dots$ \\\\\n",
       "\t6 & CS015412000111 & 松居 奈月 & 1 & 女性 & 1972-10-04 & 46 & 136-0071 & $\\dots$ \\\\\n",
       "\t7 & CS004702000041 & 野島 洋 & 0 & 男性 & 1943-08-24 & 75 & 176-0022 & $\\dots$ \\\\\n",
       "\t8 & CS041515000001 & 栗田 千夏 & 1 & 女性 & 1967-01-02 & 52 & 206-0001 & $\\dots$ \\\\\n",
       "\t9 & CS029313000221 & 北条 ひかり & 1 & 女性 & 1987-06-19 & 31 & 279-0011 & $\\dots$ \\\\\n",
       "\t10 & CS034312000071 & 望月 奈央 & 1 & 女性 & 1980-09-20 & 38 & 213-0026 & $\\dots$ \\\\\n",
       "\\end{tabular}\n"
      ],
      "text/plain": [
       "\u001b[1m10×11 DataFrame\u001b[0m\n",
       "\u001b[1m Row \u001b[0m│\u001b[1m customer_id    \u001b[0m\u001b[1m customer_name \u001b[0m\u001b[1m gender_cd \u001b[0m\u001b[1m gender  \u001b[0m\u001b[1m birth_day  \u001b[0m\u001b[1m age   \u001b[0m\u001b[1m p\u001b[0m ⋯\n",
       "     │\u001b[90m String15       \u001b[0m\u001b[90m String31      \u001b[0m\u001b[90m Int64     \u001b[0m\u001b[90m String7 \u001b[0m\u001b[90m Date       \u001b[0m\u001b[90m Int64 \u001b[0m\u001b[90m S\u001b[0m ⋯\n",
       "─────┼──────────────────────────────────────────────────────────────────────────\n",
       "   1 │ CS037613000071  六角 雅彦              9  不明     1952-04-01     66  1 ⋯\n",
       "   2 │ CS028811000001  堀井 かおり            1  女性     1933-03-27     86  2\n",
       "   3 │ CS040412000191  川井 郁恵              1  女性     1977-01-05     42  2\n",
       "   4 │ CS028314000011  小菅 あおい            1  女性     1983-11-26     35  2\n",
       "   5 │ CS039212000051  藤島 恵梨香            1  女性     1997-02-03     22  1 ⋯\n",
       "   6 │ CS015412000111  松居 奈月              1  女性     1972-10-04     46  1\n",
       "   7 │ CS004702000041  野島 洋                0  男性     1943-08-24     75  1\n",
       "   8 │ CS041515000001  栗田 千夏              1  女性     1967-01-02     52  2\n",
       "   9 │ CS029313000221  北条 ひかり            1  女性     1987-06-19     31  2 ⋯\n",
       "  10 │ CS034312000071  望月 奈央              1  女性     1980-09-20     38  2\n",
       "\u001b[36m                                                               5 columns omitted\u001b[0m"
      ]
     },
     "execution_count": 18,
     "metadata": {},
     "output_type": "execute_result"
    }
   ],
   "source": [
    "# p11\n",
    "@chain df_customer |>\n",
    "    filter(row -> endswith(row.customer_id, \"1\")) begin\n",
    "        first(10)\n",
    "    end"
   ]
  },
  {
   "cell_type": "code",
   "execution_count": 19,
   "metadata": {},
   "outputs": [
    {
     "data": {
      "text/html": [
       "<div><div style = \"float: left;\"><span>11×10 DataFrame</span></div><div style = \"clear: both;\"></div></div><div class = \"data-frame\" style = \"overflow-x: scroll;\"><table class = \"data-frame\" style = \"margin-bottom: 6px;\"><thead><tr class = \"header\"><th class = \"rowNumber\" style = \"font-weight: bold; text-align: right;\">Row</th><th style = \"text-align: left;\">store_cd</th><th style = \"text-align: left;\">store_name</th><th style = \"text-align: left;\">prefecture_cd</th><th style = \"text-align: left;\">prefecture</th><th style = \"text-align: left;\">address</th><th style = \"text-align: left;\">address_kana</th><th style = \"text-align: left;\">tel_no</th><th style = \"text-align: left;\">longitude</th><th style = \"text-align: left;\">latitude</th><th style = \"text-align: left;\">floor_area</th></tr><tr class = \"subheader headerLastRow\"><th class = \"rowNumber\" style = \"font-weight: bold; text-align: right;\"></th><th title = \"String7\" style = \"text-align: left;\">String7</th><th title = \"String31\" style = \"text-align: left;\">String31</th><th title = \"Int64\" style = \"text-align: left;\">Int64</th><th title = \"String15\" style = \"text-align: left;\">String15</th><th title = \"String\" style = \"text-align: left;\">String</th><th title = \"String\" style = \"text-align: left;\">String</th><th title = \"String15\" style = \"text-align: left;\">String15</th><th title = \"Float64\" style = \"text-align: left;\">Float64</th><th title = \"Float64\" style = \"text-align: left;\">Float64</th><th title = \"Float64\" style = \"text-align: left;\">Float64</th></tr></thead><tbody><tr><td class = \"rowNumber\" style = \"font-weight: bold; text-align: right;\">1</td><td style = \"text-align: left;\">S14010</td><td style = \"text-align: left;\">菊名店</td><td style = \"text-align: right;\">14</td><td style = \"text-align: left;\">神奈川県</td><td style = \"text-align: left;\">神奈川県横浜市港北区菊名一丁目</td><td style = \"text-align: left;\">カナガワケンヨコハマシコウホククキクナイッチョウメ</td><td style = \"text-align: left;\">045-123-4032</td><td style = \"text-align: right;\">139.633</td><td style = \"text-align: right;\">35.5005</td><td style = \"text-align: right;\">1732.0</td></tr><tr><td class = \"rowNumber\" style = \"font-weight: bold; text-align: right;\">2</td><td style = \"text-align: left;\">S14033</td><td style = \"text-align: left;\">阿久和店</td><td style = \"text-align: right;\">14</td><td style = \"text-align: left;\">神奈川県</td><td style = \"text-align: left;\">神奈川県横浜市瀬谷区阿久和西一丁目</td><td style = \"text-align: left;\">カナガワケンヨコハマシセヤクアクワニシイッチョウメ</td><td style = \"text-align: left;\">045-123-4043</td><td style = \"text-align: right;\">139.496</td><td style = \"text-align: right;\">35.4592</td><td style = \"text-align: right;\">1495.0</td></tr><tr><td class = \"rowNumber\" style = \"font-weight: bold; text-align: right;\">3</td><td style = \"text-align: left;\">S14040</td><td style = \"text-align: left;\">長津田店</td><td style = \"text-align: right;\">14</td><td style = \"text-align: left;\">神奈川県</td><td style = \"text-align: left;\">神奈川県横浜市緑区長津田みなみ台五丁目</td><td style = \"text-align: left;\">カナガワケンヨコハマシミドリクナガツタミナミダイゴチョウメ</td><td style = \"text-align: left;\">045-123-4046</td><td style = \"text-align: right;\">139.499</td><td style = \"text-align: right;\">35.524</td><td style = \"text-align: right;\">1548.0</td></tr><tr><td class = \"rowNumber\" style = \"font-weight: bold; text-align: right;\">4</td><td style = \"text-align: left;\">S14050</td><td style = \"text-align: left;\">阿久和西店</td><td style = \"text-align: right;\">14</td><td style = \"text-align: left;\">神奈川県</td><td style = \"text-align: left;\">神奈川県横浜市瀬谷区阿久和西一丁目</td><td style = \"text-align: left;\">カナガワケンヨコハマシセヤクアクワニシイッチョウメ</td><td style = \"text-align: left;\">045-123-4053</td><td style = \"text-align: right;\">139.496</td><td style = \"text-align: right;\">35.4592</td><td style = \"text-align: right;\">1830.0</td></tr><tr><td class = \"rowNumber\" style = \"font-weight: bold; text-align: right;\">5</td><td style = \"text-align: left;\">S14028</td><td style = \"text-align: left;\">二ツ橋店</td><td style = \"text-align: right;\">14</td><td style = \"text-align: left;\">神奈川県</td><td style = \"text-align: left;\">神奈川県横浜市瀬谷区二ツ橋町</td><td style = \"text-align: left;\">カナガワケンヨコハマシセヤクフタツバシチョウ</td><td style = \"text-align: left;\">045-123-4042</td><td style = \"text-align: right;\">139.496</td><td style = \"text-align: right;\">35.463</td><td style = \"text-align: right;\">1574.0</td></tr><tr><td class = \"rowNumber\" style = \"font-weight: bold; text-align: right;\">6</td><td style = \"text-align: left;\">S14012</td><td style = \"text-align: left;\">本牧和田店</td><td style = \"text-align: right;\">14</td><td style = \"text-align: left;\">神奈川県</td><td style = \"text-align: left;\">神奈川県横浜市中区本牧和田</td><td style = \"text-align: left;\">カナガワケンヨコハマシナカクホンモクワダ</td><td style = \"text-align: left;\">045-123-4034</td><td style = \"text-align: right;\">139.658</td><td style = \"text-align: right;\">35.4216</td><td style = \"text-align: right;\">1341.0</td></tr><tr><td class = \"rowNumber\" style = \"font-weight: bold; text-align: right;\">7</td><td style = \"text-align: left;\">S14046</td><td style = \"text-align: left;\">北山田店</td><td style = \"text-align: right;\">14</td><td style = \"text-align: left;\">神奈川県</td><td style = \"text-align: left;\">神奈川県横浜市都筑区北山田一丁目</td><td style = \"text-align: left;\">カナガワケンヨコハマシツヅキクキタヤマタイッチョウメ</td><td style = \"text-align: left;\">045-123-4049</td><td style = \"text-align: right;\">139.592</td><td style = \"text-align: right;\">35.5619</td><td style = \"text-align: right;\">831.0</td></tr><tr><td class = \"rowNumber\" style = \"font-weight: bold; text-align: right;\">8</td><td style = \"text-align: left;\">S14011</td><td style = \"text-align: left;\">日吉本町店</td><td style = \"text-align: right;\">14</td><td style = \"text-align: left;\">神奈川県</td><td style = \"text-align: left;\">神奈川県横浜市港北区日吉本町四丁目</td><td style = \"text-align: left;\">カナガワケンヨコハマシコウホククヒヨシホンチョウヨンチョウメ</td><td style = \"text-align: left;\">045-123-4033</td><td style = \"text-align: right;\">139.632</td><td style = \"text-align: right;\">35.5466</td><td style = \"text-align: right;\">890.0</td></tr><tr><td class = \"rowNumber\" style = \"font-weight: bold; text-align: right;\">9</td><td style = \"text-align: left;\">S14048</td><td style = \"text-align: left;\">中川中央店</td><td style = \"text-align: right;\">14</td><td style = \"text-align: left;\">神奈川県</td><td style = \"text-align: left;\">神奈川県横浜市都筑区中川中央二丁目</td><td style = \"text-align: left;\">カナガワケンヨコハマシツヅキクナカガワチュウオウニチョウメ</td><td style = \"text-align: left;\">045-123-4051</td><td style = \"text-align: right;\">139.576</td><td style = \"text-align: right;\">35.5491</td><td style = \"text-align: right;\">1657.0</td></tr><tr><td class = \"rowNumber\" style = \"font-weight: bold; text-align: right;\">10</td><td style = \"text-align: left;\">S14042</td><td style = \"text-align: left;\">新山下店</td><td style = \"text-align: right;\">14</td><td style = \"text-align: left;\">神奈川県</td><td style = \"text-align: left;\">神奈川県横浜市中区新山下二丁目</td><td style = \"text-align: left;\">カナガワケンヨコハマシナカクシンヤマシタニチョウメ</td><td style = \"text-align: left;\">045-123-4047</td><td style = \"text-align: right;\">139.659</td><td style = \"text-align: right;\">35.4389</td><td style = \"text-align: right;\">1044.0</td></tr><tr><td class = \"rowNumber\" style = \"font-weight: bold; text-align: right;\">11</td><td style = \"text-align: left;\">S14006</td><td style = \"text-align: left;\">葛が谷店</td><td style = \"text-align: right;\">14</td><td style = \"text-align: left;\">神奈川県</td><td style = \"text-align: left;\">神奈川県横浜市都筑区葛が谷</td><td style = \"text-align: left;\">カナガワケンヨコハマシツヅキククズガヤ</td><td style = \"text-align: left;\">045-123-4031</td><td style = \"text-align: right;\">139.563</td><td style = \"text-align: right;\">35.5357</td><td style = \"text-align: right;\">1886.0</td></tr></tbody></table></div>"
      ],
      "text/latex": [
       "\\begin{tabular}{r|cccccc}\n",
       "\t& store\\_cd & store\\_name & prefecture\\_cd & prefecture & address & \\\\\n",
       "\t\\hline\n",
       "\t& String7 & String31 & Int64 & String15 & String & \\\\\n",
       "\t\\hline\n",
       "\t1 & S14010 & 菊名店 & 14 & 神奈川県 & 神奈川県横浜市港北区菊名一丁目 & $\\dots$ \\\\\n",
       "\t2 & S14033 & 阿久和店 & 14 & 神奈川県 & 神奈川県横浜市瀬谷区阿久和西一丁目 & $\\dots$ \\\\\n",
       "\t3 & S14040 & 長津田店 & 14 & 神奈川県 & 神奈川県横浜市緑区長津田みなみ台五丁目 & $\\dots$ \\\\\n",
       "\t4 & S14050 & 阿久和西店 & 14 & 神奈川県 & 神奈川県横浜市瀬谷区阿久和西一丁目 & $\\dots$ \\\\\n",
       "\t5 & S14028 & 二ツ橋店 & 14 & 神奈川県 & 神奈川県横浜市瀬谷区二ツ橋町 & $\\dots$ \\\\\n",
       "\t6 & S14012 & 本牧和田店 & 14 & 神奈川県 & 神奈川県横浜市中区本牧和田 & $\\dots$ \\\\\n",
       "\t7 & S14046 & 北山田店 & 14 & 神奈川県 & 神奈川県横浜市都筑区北山田一丁目 & $\\dots$ \\\\\n",
       "\t8 & S14011 & 日吉本町店 & 14 & 神奈川県 & 神奈川県横浜市港北区日吉本町四丁目 & $\\dots$ \\\\\n",
       "\t9 & S14048 & 中川中央店 & 14 & 神奈川県 & 神奈川県横浜市都筑区中川中央二丁目 & $\\dots$ \\\\\n",
       "\t10 & S14042 & 新山下店 & 14 & 神奈川県 & 神奈川県横浜市中区新山下二丁目 & $\\dots$ \\\\\n",
       "\t11 & S14006 & 葛が谷店 & 14 & 神奈川県 & 神奈川県横浜市都筑区葛が谷 & $\\dots$ \\\\\n",
       "\\end{tabular}\n"
      ],
      "text/plain": [
       "\u001b[1m11×10 DataFrame\u001b[0m\n",
       "\u001b[1m Row \u001b[0m│\u001b[1m store_cd \u001b[0m\u001b[1m store_name \u001b[0m\u001b[1m prefecture_cd \u001b[0m\u001b[1m prefecture \u001b[0m\u001b[1m address               \u001b[0m ⋯\n",
       "     │\u001b[90m String7  \u001b[0m\u001b[90m String31   \u001b[0m\u001b[90m Int64         \u001b[0m\u001b[90m String15   \u001b[0m\u001b[90m String                \u001b[0m ⋯\n",
       "─────┼──────────────────────────────────────────────────────────────────────────\n",
       "   1 │ S14010    菊名店                 14  神奈川県    神奈川県横浜市港北区菊 ⋯\n",
       "   2 │ S14033    阿久和店               14  神奈川県    神奈川県横浜市瀬谷区阿\n",
       "   3 │ S14040    長津田店               14  神奈川県    神奈川県横浜市緑区長津\n",
       "   4 │ S14050    阿久和西店             14  神奈川県    神奈川県横浜市瀬谷区阿\n",
       "   5 │ S14028    二ツ橋店               14  神奈川県    神奈川県横浜市瀬谷区二 ⋯\n",
       "   6 │ S14012    本牧和田店             14  神奈川県    神奈川県横浜市中区本牧\n",
       "   7 │ S14046    北山田店               14  神奈川県    神奈川県横浜市都筑区北\n",
       "   8 │ S14011    日吉本町店             14  神奈川県    神奈川県横浜市港北区日\n",
       "   9 │ S14048    中川中央店             14  神奈川県    神奈川県横浜市都筑区中 ⋯\n",
       "  10 │ S14042    新山下店               14  神奈川県    神奈川県横浜市中区新山\n",
       "  11 │ S14006    葛が谷店               14  神奈川県    神奈川県横浜市都筑区葛\n",
       "\u001b[36m                                                               6 columns omitted\u001b[0m"
      ]
     },
     "execution_count": 19,
     "metadata": {},
     "output_type": "execute_result"
    }
   ],
   "source": [
    "# p12\n",
    "df_store |>\n",
    "    filter(row -> contains(row.address, \"横浜市\"))"
   ]
  },
  {
   "cell_type": "code",
   "execution_count": 20,
   "metadata": {},
   "outputs": [
    {
     "data": {
      "text/html": [
       "<div><div style = \"float: left;\"><span>10×11 DataFrame</span></div><div style = \"clear: both;\"></div></div><div class = \"data-frame\" style = \"overflow-x: scroll;\"><table class = \"data-frame\" style = \"margin-bottom: 6px;\"><thead><tr class = \"header\"><th class = \"rowNumber\" style = \"font-weight: bold; text-align: right;\">Row</th><th style = \"text-align: left;\">customer_id</th><th style = \"text-align: left;\">customer_name</th><th style = \"text-align: left;\">gender_cd</th><th style = \"text-align: left;\">gender</th><th style = \"text-align: left;\">birth_day</th><th style = \"text-align: left;\">age</th><th style = \"text-align: left;\">postal_cd</th><th style = \"text-align: left;\">address</th><th style = \"text-align: left;\">application_store_cd</th><th style = \"text-align: left;\">application_date</th><th style = \"text-align: left;\">status_cd</th></tr><tr class = \"subheader headerLastRow\"><th class = \"rowNumber\" style = \"font-weight: bold; text-align: right;\"></th><th title = \"String15\" style = \"text-align: left;\">String15</th><th title = \"String31\" style = \"text-align: left;\">String31</th><th title = \"Int64\" style = \"text-align: left;\">Int64</th><th title = \"String7\" style = \"text-align: left;\">String7</th><th title = \"Dates.Date\" style = \"text-align: left;\">Date</th><th title = \"Int64\" style = \"text-align: left;\">Int64</th><th title = \"String15\" style = \"text-align: left;\">String15</th><th title = \"String\" style = \"text-align: left;\">String</th><th title = \"String7\" style = \"text-align: left;\">String7</th><th title = \"Int64\" style = \"text-align: left;\">Int64</th><th title = \"String15\" style = \"text-align: left;\">String15</th></tr></thead><tbody><tr><td class = \"rowNumber\" style = \"font-weight: bold; text-align: right;\">1</td><td style = \"text-align: left;\">CS031415000172</td><td style = \"text-align: left;\">宇多田 貴美子</td><td style = \"text-align: right;\">1</td><td style = \"text-align: left;\">女性</td><td style = \"text-align: left;\">1976-10-04</td><td style = \"text-align: right;\">42</td><td style = \"text-align: left;\">151-0053</td><td style = \"text-align: left;\">東京都渋谷区代々木**********</td><td style = \"text-align: left;\">S13031</td><td style = \"text-align: right;\">20150529</td><td style = \"text-align: left;\">D-20100325-C</td></tr><tr><td class = \"rowNumber\" style = \"font-weight: bold; text-align: right;\">2</td><td style = \"text-align: left;\">CS015414000103</td><td style = \"text-align: left;\">奥野 陽子</td><td style = \"text-align: right;\">1</td><td style = \"text-align: left;\">女性</td><td style = \"text-align: left;\">1977-08-09</td><td style = \"text-align: right;\">41</td><td style = \"text-align: left;\">136-0073</td><td style = \"text-align: left;\">東京都江東区北砂**********</td><td style = \"text-align: left;\">S13015</td><td style = \"text-align: right;\">20150722</td><td style = \"text-align: left;\">B-20100609-B</td></tr><tr><td class = \"rowNumber\" style = \"font-weight: bold; text-align: right;\">3</td><td style = \"text-align: left;\">CS011215000048</td><td style = \"text-align: left;\">芦田 沙耶</td><td style = \"text-align: right;\">1</td><td style = \"text-align: left;\">女性</td><td style = \"text-align: left;\">1992-02-01</td><td style = \"text-align: right;\">27</td><td style = \"text-align: left;\">223-0062</td><td style = \"text-align: left;\">神奈川県横浜市港北区日吉本町**********</td><td style = \"text-align: left;\">S14011</td><td style = \"text-align: right;\">20150228</td><td style = \"text-align: left;\">C-20100421-9</td></tr><tr><td class = \"rowNumber\" style = \"font-weight: bold; text-align: right;\">4</td><td style = \"text-align: left;\">CS029415000023</td><td style = \"text-align: left;\">梅田 里穂</td><td style = \"text-align: right;\">1</td><td style = \"text-align: left;\">女性</td><td style = \"text-align: left;\">1976-01-17</td><td style = \"text-align: right;\">43</td><td style = \"text-align: left;\">279-0043</td><td style = \"text-align: left;\">千葉県浦安市富士見**********</td><td style = \"text-align: left;\">S12029</td><td style = \"text-align: right;\">20150610</td><td style = \"text-align: left;\">D-20100918-E</td></tr><tr><td class = \"rowNumber\" style = \"font-weight: bold; text-align: right;\">5</td><td style = \"text-align: left;\">CS035415000029</td><td style = \"text-align: left;\">寺沢 真希</td><td style = \"text-align: right;\">9</td><td style = \"text-align: left;\">不明</td><td style = \"text-align: left;\">1977-09-27</td><td style = \"text-align: right;\">41</td><td style = \"text-align: left;\">158-0096</td><td style = \"text-align: left;\">東京都世田谷区玉川台**********</td><td style = \"text-align: left;\">S13035</td><td style = \"text-align: right;\">20141220</td><td style = \"text-align: left;\">F-20101029-F</td></tr><tr><td class = \"rowNumber\" style = \"font-weight: bold; text-align: right;\">6</td><td style = \"text-align: left;\">CS031415000106</td><td style = \"text-align: left;\">宇野 由美子</td><td style = \"text-align: right;\">1</td><td style = \"text-align: left;\">女性</td><td style = \"text-align: left;\">1970-02-26</td><td style = \"text-align: right;\">49</td><td style = \"text-align: left;\">151-0053</td><td style = \"text-align: left;\">東京都渋谷区代々木**********</td><td style = \"text-align: left;\">S13031</td><td style = \"text-align: right;\">20150201</td><td style = \"text-align: left;\">F-20100511-E</td></tr><tr><td class = \"rowNumber\" style = \"font-weight: bold; text-align: right;\">7</td><td style = \"text-align: left;\">CS029215000025</td><td style = \"text-align: left;\">石倉 美帆</td><td style = \"text-align: right;\">1</td><td style = \"text-align: left;\">女性</td><td style = \"text-align: left;\">1993-09-28</td><td style = \"text-align: right;\">25</td><td style = \"text-align: left;\">279-0022</td><td style = \"text-align: left;\">千葉県浦安市今川**********</td><td style = \"text-align: left;\">S12029</td><td style = \"text-align: right;\">20150708</td><td style = \"text-align: left;\">B-20100820-C</td></tr><tr><td class = \"rowNumber\" style = \"font-weight: bold; text-align: right;\">8</td><td style = \"text-align: left;\">CS033605000005</td><td style = \"text-align: left;\">猪股 雄太</td><td style = \"text-align: right;\">0</td><td style = \"text-align: left;\">男性</td><td style = \"text-align: left;\">1955-12-05</td><td style = \"text-align: right;\">63</td><td style = \"text-align: left;\">246-0031</td><td style = \"text-align: left;\">神奈川県横浜市瀬谷区瀬谷**********</td><td style = \"text-align: left;\">S14033</td><td style = \"text-align: right;\">20150425</td><td style = \"text-align: left;\">F-20100917-E</td></tr><tr><td class = \"rowNumber\" style = \"font-weight: bold; text-align: right;\">9</td><td style = \"text-align: left;\">CS033415000229</td><td style = \"text-align: left;\">板垣 菜々美</td><td style = \"text-align: right;\">1</td><td style = \"text-align: left;\">女性</td><td style = \"text-align: left;\">1977-11-07</td><td style = \"text-align: right;\">41</td><td style = \"text-align: left;\">246-0021</td><td style = \"text-align: left;\">神奈川県横浜市瀬谷区二ツ橋町**********</td><td style = \"text-align: left;\">S14033</td><td style = \"text-align: right;\">20150712</td><td style = \"text-align: left;\">F-20100326-E</td></tr><tr><td class = \"rowNumber\" style = \"font-weight: bold; text-align: right;\">10</td><td style = \"text-align: left;\">CS008415000145</td><td style = \"text-align: left;\">黒谷 麻緒</td><td style = \"text-align: right;\">1</td><td style = \"text-align: left;\">女性</td><td style = \"text-align: left;\">1977-06-27</td><td style = \"text-align: right;\">41</td><td style = \"text-align: left;\">157-0067</td><td style = \"text-align: left;\">東京都世田谷区喜多見**********</td><td style = \"text-align: left;\">S13008</td><td style = \"text-align: right;\">20150829</td><td style = \"text-align: left;\">F-20100622-F</td></tr></tbody></table></div>"
      ],
      "text/latex": [
       "\\begin{tabular}{r|cccccccc}\n",
       "\t& customer\\_id & customer\\_name & gender\\_cd & gender & birth\\_day & age & postal\\_cd & \\\\\n",
       "\t\\hline\n",
       "\t& String15 & String31 & Int64 & String7 & Date & Int64 & String15 & \\\\\n",
       "\t\\hline\n",
       "\t1 & CS031415000172 & 宇多田 貴美子 & 1 & 女性 & 1976-10-04 & 42 & 151-0053 & $\\dots$ \\\\\n",
       "\t2 & CS015414000103 & 奥野 陽子 & 1 & 女性 & 1977-08-09 & 41 & 136-0073 & $\\dots$ \\\\\n",
       "\t3 & CS011215000048 & 芦田 沙耶 & 1 & 女性 & 1992-02-01 & 27 & 223-0062 & $\\dots$ \\\\\n",
       "\t4 & CS029415000023 & 梅田 里穂 & 1 & 女性 & 1976-01-17 & 43 & 279-0043 & $\\dots$ \\\\\n",
       "\t5 & CS035415000029 & 寺沢 真希 & 9 & 不明 & 1977-09-27 & 41 & 158-0096 & $\\dots$ \\\\\n",
       "\t6 & CS031415000106 & 宇野 由美子 & 1 & 女性 & 1970-02-26 & 49 & 151-0053 & $\\dots$ \\\\\n",
       "\t7 & CS029215000025 & 石倉 美帆 & 1 & 女性 & 1993-09-28 & 25 & 279-0022 & $\\dots$ \\\\\n",
       "\t8 & CS033605000005 & 猪股 雄太 & 0 & 男性 & 1955-12-05 & 63 & 246-0031 & $\\dots$ \\\\\n",
       "\t9 & CS033415000229 & 板垣 菜々美 & 1 & 女性 & 1977-11-07 & 41 & 246-0021 & $\\dots$ \\\\\n",
       "\t10 & CS008415000145 & 黒谷 麻緒 & 1 & 女性 & 1977-06-27 & 41 & 157-0067 & $\\dots$ \\\\\n",
       "\\end{tabular}\n"
      ],
      "text/plain": [
       "\u001b[1m10×11 DataFrame\u001b[0m\n",
       "\u001b[1m Row \u001b[0m│\u001b[1m customer_id    \u001b[0m\u001b[1m customer_name \u001b[0m\u001b[1m gender_cd \u001b[0m\u001b[1m gender  \u001b[0m\u001b[1m birth_day  \u001b[0m\u001b[1m age   \u001b[0m\u001b[1m p\u001b[0m ⋯\n",
       "     │\u001b[90m String15       \u001b[0m\u001b[90m String31      \u001b[0m\u001b[90m Int64     \u001b[0m\u001b[90m String7 \u001b[0m\u001b[90m Date       \u001b[0m\u001b[90m Int64 \u001b[0m\u001b[90m S\u001b[0m ⋯\n",
       "─────┼──────────────────────────────────────────────────────────────────────────\n",
       "   1 │ CS031415000172  宇多田 貴美子          1  女性     1976-10-04     42  1 ⋯\n",
       "   2 │ CS015414000103  奥野 陽子              1  女性     1977-08-09     41  1\n",
       "   3 │ CS011215000048  芦田 沙耶              1  女性     1992-02-01     27  2\n",
       "   4 │ CS029415000023  梅田 里穂              1  女性     1976-01-17     43  2\n",
       "   5 │ CS035415000029  寺沢 真希              9  不明     1977-09-27     41  1 ⋯\n",
       "   6 │ CS031415000106  宇野 由美子            1  女性     1970-02-26     49  1\n",
       "   7 │ CS029215000025  石倉 美帆              1  女性     1993-09-28     25  2\n",
       "   8 │ CS033605000005  猪股 雄太              0  男性     1955-12-05     63  2\n",
       "   9 │ CS033415000229  板垣 菜々美            1  女性     1977-11-07     41  2 ⋯\n",
       "  10 │ CS008415000145  黒谷 麻緒              1  女性     1977-06-27     41  1\n",
       "\u001b[36m                                                               5 columns omitted\u001b[0m"
      ]
     },
     "execution_count": 20,
     "metadata": {},
     "output_type": "execute_result"
    }
   ],
   "source": [
    "# p13\n",
    "\n",
    "# 解答1\n",
    "@chain df_customer begin\n",
    "    filter(row -> startswith(row.status_cd, ('A', 'B', 'C', 'D', 'E', 'F')), _) # chainでfilterする場合は，_を使用する．\n",
    "    first(10)\n",
    "end\n",
    "\n",
    "# 解答2\n",
    "@chain df_customer |>\n",
    "    filter(row -> startswith(row.status_cd, \"A\") ||\n",
    "        startswith(row.status_cd, \"B\") ||\n",
    "        startswith(row.status_cd, \"C\") ||\n",
    "        startswith(row.status_cd, \"D\") ||\n",
    "        startswith(row.status_cd, \"E\") ||\n",
    "        startswith(row.status_cd, \"F\")) begin\n",
    "            first(10)\n",
    "        end\n",
    "\n",
    "# 解答3\n",
    "first(filter(row -> startswith(row.status_cd, ('A', 'B', 'C', 'D', 'E', 'F')), df_customer), 10)"
   ]
  },
  {
   "cell_type": "code",
   "execution_count": 21,
   "metadata": {},
   "outputs": [
    {
     "data": {
      "text/html": [
       "<div><div style = \"float: left;\"><span>10×11 DataFrame</span></div><div style = \"clear: both;\"></div></div><div class = \"data-frame\" style = \"overflow-x: scroll;\"><table class = \"data-frame\" style = \"margin-bottom: 6px;\"><thead><tr class = \"header\"><th class = \"rowNumber\" style = \"font-weight: bold; text-align: right;\">Row</th><th style = \"text-align: left;\">customer_id</th><th style = \"text-align: left;\">customer_name</th><th style = \"text-align: left;\">gender_cd</th><th style = \"text-align: left;\">gender</th><th style = \"text-align: left;\">birth_day</th><th style = \"text-align: left;\">age</th><th style = \"text-align: left;\">postal_cd</th><th style = \"text-align: left;\">address</th><th style = \"text-align: left;\">application_store_cd</th><th style = \"text-align: left;\">application_date</th><th style = \"text-align: left;\">status_cd</th></tr><tr class = \"subheader headerLastRow\"><th class = \"rowNumber\" style = \"font-weight: bold; text-align: right;\"></th><th title = \"String15\" style = \"text-align: left;\">String15</th><th title = \"String31\" style = \"text-align: left;\">String31</th><th title = \"Int64\" style = \"text-align: left;\">Int64</th><th title = \"String7\" style = \"text-align: left;\">String7</th><th title = \"Dates.Date\" style = \"text-align: left;\">Date</th><th title = \"Int64\" style = \"text-align: left;\">Int64</th><th title = \"String15\" style = \"text-align: left;\">String15</th><th title = \"String\" style = \"text-align: left;\">String</th><th title = \"String7\" style = \"text-align: left;\">String7</th><th title = \"Int64\" style = \"text-align: left;\">Int64</th><th title = \"String15\" style = \"text-align: left;\">String15</th></tr></thead><tbody><tr><td class = \"rowNumber\" style = \"font-weight: bold; text-align: right;\">1</td><td style = \"text-align: left;\">CS001215000145</td><td style = \"text-align: left;\">田崎 美紀</td><td style = \"text-align: right;\">1</td><td style = \"text-align: left;\">女性</td><td style = \"text-align: left;\">1995-03-29</td><td style = \"text-align: right;\">24</td><td style = \"text-align: left;\">144-0055</td><td style = \"text-align: left;\">東京都大田区仲六郷**********</td><td style = \"text-align: left;\">S13001</td><td style = \"text-align: right;\">20170605</td><td style = \"text-align: left;\">6-20090929-2</td></tr><tr><td class = \"rowNumber\" style = \"font-weight: bold; text-align: right;\">2</td><td style = \"text-align: left;\">CS033513000180</td><td style = \"text-align: left;\">安斎 遥</td><td style = \"text-align: right;\">1</td><td style = \"text-align: left;\">女性</td><td style = \"text-align: left;\">1962-07-11</td><td style = \"text-align: right;\">56</td><td style = \"text-align: left;\">241-0823</td><td style = \"text-align: left;\">神奈川県横浜市旭区善部町**********</td><td style = \"text-align: left;\">S14033</td><td style = \"text-align: right;\">20150728</td><td style = \"text-align: left;\">6-20080506-5</td></tr><tr><td class = \"rowNumber\" style = \"font-weight: bold; text-align: right;\">3</td><td style = \"text-align: left;\">CS011215000048</td><td style = \"text-align: left;\">芦田 沙耶</td><td style = \"text-align: right;\">1</td><td style = \"text-align: left;\">女性</td><td style = \"text-align: left;\">1992-02-01</td><td style = \"text-align: right;\">27</td><td style = \"text-align: left;\">223-0062</td><td style = \"text-align: left;\">神奈川県横浜市港北区日吉本町**********</td><td style = \"text-align: left;\">S14011</td><td style = \"text-align: right;\">20150228</td><td style = \"text-align: left;\">C-20100421-9</td></tr><tr><td class = \"rowNumber\" style = \"font-weight: bold; text-align: right;\">4</td><td style = \"text-align: left;\">CS040412000191</td><td style = \"text-align: left;\">川井 郁恵</td><td style = \"text-align: right;\">1</td><td style = \"text-align: left;\">女性</td><td style = \"text-align: left;\">1977-01-05</td><td style = \"text-align: right;\">42</td><td style = \"text-align: left;\">226-0021</td><td style = \"text-align: left;\">神奈川県横浜市緑区北八朔町**********</td><td style = \"text-align: left;\">S14040</td><td style = \"text-align: right;\">20151101</td><td style = \"text-align: left;\">1-20091025-4</td></tr><tr><td class = \"rowNumber\" style = \"font-weight: bold; text-align: right;\">5</td><td style = \"text-align: left;\">CS009315000023</td><td style = \"text-align: left;\">皆川 文世</td><td style = \"text-align: right;\">1</td><td style = \"text-align: left;\">女性</td><td style = \"text-align: left;\">1980-04-15</td><td style = \"text-align: right;\">38</td><td style = \"text-align: left;\">154-0012</td><td style = \"text-align: left;\">東京都世田谷区駒沢**********</td><td style = \"text-align: left;\">S13009</td><td style = \"text-align: right;\">20150319</td><td style = \"text-align: left;\">5-20080322-1</td></tr><tr><td class = \"rowNumber\" style = \"font-weight: bold; text-align: right;\">6</td><td style = \"text-align: left;\">CS015315000033</td><td style = \"text-align: left;\">福士 璃奈子</td><td style = \"text-align: right;\">1</td><td style = \"text-align: left;\">女性</td><td style = \"text-align: left;\">1983-03-17</td><td style = \"text-align: right;\">36</td><td style = \"text-align: left;\">135-0043</td><td style = \"text-align: left;\">東京都江東区塩浜**********</td><td style = \"text-align: left;\">S13015</td><td style = \"text-align: right;\">20141024</td><td style = \"text-align: left;\">4-20080219-3</td></tr><tr><td class = \"rowNumber\" style = \"font-weight: bold; text-align: right;\">7</td><td style = \"text-align: left;\">CS023513000066</td><td style = \"text-align: left;\">神戸 そら</td><td style = \"text-align: right;\">1</td><td style = \"text-align: left;\">女性</td><td style = \"text-align: left;\">1961-12-17</td><td style = \"text-align: right;\">57</td><td style = \"text-align: left;\">210-0005</td><td style = \"text-align: left;\">神奈川県川崎市川崎区東田町**********</td><td style = \"text-align: left;\">S14023</td><td style = \"text-align: right;\">20150915</td><td style = \"text-align: left;\">5-20100524-9</td></tr><tr><td class = \"rowNumber\" style = \"font-weight: bold; text-align: right;\">8</td><td style = \"text-align: left;\">CS035513000134</td><td style = \"text-align: left;\">市川 美帆</td><td style = \"text-align: right;\">1</td><td style = \"text-align: left;\">女性</td><td style = \"text-align: left;\">1960-03-27</td><td style = \"text-align: right;\">59</td><td style = \"text-align: left;\">156-0053</td><td style = \"text-align: left;\">東京都世田谷区桜**********</td><td style = \"text-align: left;\">S13035</td><td style = \"text-align: right;\">20150227</td><td style = \"text-align: left;\">8-20100711-9</td></tr><tr><td class = \"rowNumber\" style = \"font-weight: bold; text-align: right;\">9</td><td style = \"text-align: left;\">CS001515000263</td><td style = \"text-align: left;\">高松 夏空</td><td style = \"text-align: right;\">1</td><td style = \"text-align: left;\">女性</td><td style = \"text-align: left;\">1962-11-09</td><td style = \"text-align: right;\">56</td><td style = \"text-align: left;\">144-0051</td><td style = \"text-align: left;\">東京都大田区西蒲田**********</td><td style = \"text-align: left;\">S13001</td><td style = \"text-align: right;\">20160812</td><td style = \"text-align: left;\">1-20100804-1</td></tr><tr><td class = \"rowNumber\" style = \"font-weight: bold; text-align: right;\">10</td><td style = \"text-align: left;\">CS040314000027</td><td style = \"text-align: left;\">鶴田 きみまろ</td><td style = \"text-align: right;\">9</td><td style = \"text-align: left;\">不明</td><td style = \"text-align: left;\">1986-03-26</td><td style = \"text-align: right;\">33</td><td style = \"text-align: left;\">226-0027</td><td style = \"text-align: left;\">神奈川県横浜市緑区長津田**********</td><td style = \"text-align: left;\">S14040</td><td style = \"text-align: right;\">20150122</td><td style = \"text-align: left;\">2-20080426-4</td></tr></tbody></table></div>"
      ],
      "text/latex": [
       "\\begin{tabular}{r|cccccccc}\n",
       "\t& customer\\_id & customer\\_name & gender\\_cd & gender & birth\\_day & age & postal\\_cd & \\\\\n",
       "\t\\hline\n",
       "\t& String15 & String31 & Int64 & String7 & Date & Int64 & String15 & \\\\\n",
       "\t\\hline\n",
       "\t1 & CS001215000145 & 田崎 美紀 & 1 & 女性 & 1995-03-29 & 24 & 144-0055 & $\\dots$ \\\\\n",
       "\t2 & CS033513000180 & 安斎 遥 & 1 & 女性 & 1962-07-11 & 56 & 241-0823 & $\\dots$ \\\\\n",
       "\t3 & CS011215000048 & 芦田 沙耶 & 1 & 女性 & 1992-02-01 & 27 & 223-0062 & $\\dots$ \\\\\n",
       "\t4 & CS040412000191 & 川井 郁恵 & 1 & 女性 & 1977-01-05 & 42 & 226-0021 & $\\dots$ \\\\\n",
       "\t5 & CS009315000023 & 皆川 文世 & 1 & 女性 & 1980-04-15 & 38 & 154-0012 & $\\dots$ \\\\\n",
       "\t6 & CS015315000033 & 福士 璃奈子 & 1 & 女性 & 1983-03-17 & 36 & 135-0043 & $\\dots$ \\\\\n",
       "\t7 & CS023513000066 & 神戸 そら & 1 & 女性 & 1961-12-17 & 57 & 210-0005 & $\\dots$ \\\\\n",
       "\t8 & CS035513000134 & 市川 美帆 & 1 & 女性 & 1960-03-27 & 59 & 156-0053 & $\\dots$ \\\\\n",
       "\t9 & CS001515000263 & 高松 夏空 & 1 & 女性 & 1962-11-09 & 56 & 144-0051 & $\\dots$ \\\\\n",
       "\t10 & CS040314000027 & 鶴田 きみまろ & 9 & 不明 & 1986-03-26 & 33 & 226-0027 & $\\dots$ \\\\\n",
       "\\end{tabular}\n"
      ],
      "text/plain": [
       "\u001b[1m10×11 DataFrame\u001b[0m\n",
       "\u001b[1m Row \u001b[0m│\u001b[1m customer_id    \u001b[0m\u001b[1m customer_name \u001b[0m\u001b[1m gender_cd \u001b[0m\u001b[1m gender  \u001b[0m\u001b[1m birth_day  \u001b[0m\u001b[1m age   \u001b[0m\u001b[1m p\u001b[0m ⋯\n",
       "     │\u001b[90m String15       \u001b[0m\u001b[90m String31      \u001b[0m\u001b[90m Int64     \u001b[0m\u001b[90m String7 \u001b[0m\u001b[90m Date       \u001b[0m\u001b[90m Int64 \u001b[0m\u001b[90m S\u001b[0m ⋯\n",
       "─────┼──────────────────────────────────────────────────────────────────────────\n",
       "   1 │ CS001215000145  田崎 美紀              1  女性     1995-03-29     24  1 ⋯\n",
       "   2 │ CS033513000180  安斎 遥                1  女性     1962-07-11     56  2\n",
       "   3 │ CS011215000048  芦田 沙耶              1  女性     1992-02-01     27  2\n",
       "   4 │ CS040412000191  川井 郁恵              1  女性     1977-01-05     42  2\n",
       "   5 │ CS009315000023  皆川 文世              1  女性     1980-04-15     38  1 ⋯\n",
       "   6 │ CS015315000033  福士 璃奈子            1  女性     1983-03-17     36  1\n",
       "   7 │ CS023513000066  神戸 そら              1  女性     1961-12-17     57  2\n",
       "   8 │ CS035513000134  市川 美帆              1  女性     1960-03-27     59  1\n",
       "   9 │ CS001515000263  高松 夏空              1  女性     1962-11-09     56  1 ⋯\n",
       "  10 │ CS040314000027  鶴田 きみまろ          9  不明     1986-03-26     33  2\n",
       "\u001b[36m                                                               5 columns omitted\u001b[0m"
      ]
     },
     "execution_count": 21,
     "metadata": {},
     "output_type": "execute_result"
    }
   ],
   "source": [
    "# p14\n",
    "@chain df_customer begin\n",
    "    filter(row -> endswith(row.status_cd, ('1', '2', '3', '4', '5', '6', '7', '8', '9')), _) \n",
    "    first(10)\n",
    "end"
   ]
  },
  {
   "cell_type": "code",
   "execution_count": 22,
   "metadata": {},
   "outputs": [
    {
     "data": {
      "text/html": [
       "<div><div style = \"float: left;\"><span>10×11 DataFrame</span></div><div style = \"clear: both;\"></div></div><div class = \"data-frame\" style = \"overflow-x: scroll;\"><table class = \"data-frame\" style = \"margin-bottom: 6px;\"><thead><tr class = \"header\"><th class = \"rowNumber\" style = \"font-weight: bold; text-align: right;\">Row</th><th style = \"text-align: left;\">customer_id</th><th style = \"text-align: left;\">customer_name</th><th style = \"text-align: left;\">gender_cd</th><th style = \"text-align: left;\">gender</th><th style = \"text-align: left;\">birth_day</th><th style = \"text-align: left;\">age</th><th style = \"text-align: left;\">postal_cd</th><th style = \"text-align: left;\">address</th><th style = \"text-align: left;\">application_store_cd</th><th style = \"text-align: left;\">application_date</th><th style = \"text-align: left;\">status_cd</th></tr><tr class = \"subheader headerLastRow\"><th class = \"rowNumber\" style = \"font-weight: bold; text-align: right;\"></th><th title = \"String15\" style = \"text-align: left;\">String15</th><th title = \"String31\" style = \"text-align: left;\">String31</th><th title = \"Int64\" style = \"text-align: left;\">Int64</th><th title = \"String7\" style = \"text-align: left;\">String7</th><th title = \"Dates.Date\" style = \"text-align: left;\">Date</th><th title = \"Int64\" style = \"text-align: left;\">Int64</th><th title = \"String15\" style = \"text-align: left;\">String15</th><th title = \"String\" style = \"text-align: left;\">String</th><th title = \"String7\" style = \"text-align: left;\">String7</th><th title = \"Int64\" style = \"text-align: left;\">Int64</th><th title = \"String15\" style = \"text-align: left;\">String15</th></tr></thead><tbody><tr><td class = \"rowNumber\" style = \"font-weight: bold; text-align: right;\">1</td><td style = \"text-align: left;\">CS011215000048</td><td style = \"text-align: left;\">芦田 沙耶</td><td style = \"text-align: right;\">1</td><td style = \"text-align: left;\">女性</td><td style = \"text-align: left;\">1992-02-01</td><td style = \"text-align: right;\">27</td><td style = \"text-align: left;\">223-0062</td><td style = \"text-align: left;\">神奈川県横浜市港北区日吉本町**********</td><td style = \"text-align: left;\">S14011</td><td style = \"text-align: right;\">20150228</td><td style = \"text-align: left;\">C-20100421-9</td></tr><tr><td class = \"rowNumber\" style = \"font-weight: bold; text-align: right;\">2</td><td style = \"text-align: left;\">CS022513000105</td><td style = \"text-align: left;\">島村 貴美子</td><td style = \"text-align: right;\">1</td><td style = \"text-align: left;\">女性</td><td style = \"text-align: left;\">1962-03-12</td><td style = \"text-align: right;\">57</td><td style = \"text-align: left;\">249-0002</td><td style = \"text-align: left;\">神奈川県逗子市山の根**********</td><td style = \"text-align: left;\">S14022</td><td style = \"text-align: right;\">20150320</td><td style = \"text-align: left;\">A-20091115-7</td></tr><tr><td class = \"rowNumber\" style = \"font-weight: bold; text-align: right;\">3</td><td style = \"text-align: left;\">CS001515000096</td><td style = \"text-align: left;\">水野 陽子</td><td style = \"text-align: right;\">9</td><td style = \"text-align: left;\">不明</td><td style = \"text-align: left;\">1960-11-29</td><td style = \"text-align: right;\">58</td><td style = \"text-align: left;\">144-0053</td><td style = \"text-align: left;\">東京都大田区蒲田本町**********</td><td style = \"text-align: left;\">S13001</td><td style = \"text-align: right;\">20150614</td><td style = \"text-align: left;\">A-20100724-7</td></tr><tr><td class = \"rowNumber\" style = \"font-weight: bold; text-align: right;\">4</td><td style = \"text-align: left;\">CS013615000053</td><td style = \"text-align: left;\">西脇 季衣</td><td style = \"text-align: right;\">1</td><td style = \"text-align: left;\">女性</td><td style = \"text-align: left;\">1953-10-18</td><td style = \"text-align: right;\">65</td><td style = \"text-align: left;\">261-0026</td><td style = \"text-align: left;\">千葉県千葉市美浜区幕張西**********</td><td style = \"text-align: left;\">S12013</td><td style = \"text-align: right;\">20150128</td><td style = \"text-align: left;\">B-20100329-6</td></tr><tr><td class = \"rowNumber\" style = \"font-weight: bold; text-align: right;\">5</td><td style = \"text-align: left;\">CS020412000161</td><td style = \"text-align: left;\">小宮 薫</td><td style = \"text-align: right;\">1</td><td style = \"text-align: left;\">女性</td><td style = \"text-align: left;\">1974-05-21</td><td style = \"text-align: right;\">44</td><td style = \"text-align: left;\">174-0042</td><td style = \"text-align: left;\">東京都板橋区東坂下**********</td><td style = \"text-align: left;\">S13020</td><td style = \"text-align: right;\">20150822</td><td style = \"text-align: left;\">B-20081021-3</td></tr><tr><td class = \"rowNumber\" style = \"font-weight: bold; text-align: right;\">6</td><td style = \"text-align: left;\">CS001215000097</td><td style = \"text-align: left;\">竹中 あさみ</td><td style = \"text-align: right;\">1</td><td style = \"text-align: left;\">女性</td><td style = \"text-align: left;\">1990-07-25</td><td style = \"text-align: right;\">28</td><td style = \"text-align: left;\">146-0095</td><td style = \"text-align: left;\">東京都大田区多摩川**********</td><td style = \"text-align: left;\">S13001</td><td style = \"text-align: right;\">20170315</td><td style = \"text-align: left;\">A-20100211-2</td></tr><tr><td class = \"rowNumber\" style = \"font-weight: bold; text-align: right;\">7</td><td style = \"text-align: left;\">CS035212000007</td><td style = \"text-align: left;\">内村 恵梨香</td><td style = \"text-align: right;\">1</td><td style = \"text-align: left;\">女性</td><td style = \"text-align: left;\">1990-12-04</td><td style = \"text-align: right;\">28</td><td style = \"text-align: left;\">152-0023</td><td style = \"text-align: left;\">東京都目黒区八雲**********</td><td style = \"text-align: left;\">S13035</td><td style = \"text-align: right;\">20151013</td><td style = \"text-align: left;\">B-20101018-6</td></tr><tr><td class = \"rowNumber\" style = \"font-weight: bold; text-align: right;\">8</td><td style = \"text-align: left;\">CS002515000386</td><td style = \"text-align: left;\">野田 コウ</td><td style = \"text-align: right;\">1</td><td style = \"text-align: left;\">女性</td><td style = \"text-align: left;\">1963-05-30</td><td style = \"text-align: right;\">55</td><td style = \"text-align: left;\">185-0013</td><td style = \"text-align: left;\">東京都国分寺市西恋ケ窪**********</td><td style = \"text-align: left;\">S13002</td><td style = \"text-align: right;\">20160410</td><td style = \"text-align: left;\">C-20100127-8</td></tr><tr><td class = \"rowNumber\" style = \"font-weight: bold; text-align: right;\">9</td><td style = \"text-align: left;\">CS001615000372</td><td style = \"text-align: left;\">稲垣 寿々花</td><td style = \"text-align: right;\">1</td><td style = \"text-align: left;\">女性</td><td style = \"text-align: left;\">1956-10-29</td><td style = \"text-align: right;\">62</td><td style = \"text-align: left;\">144-0035</td><td style = \"text-align: left;\">東京都大田区南蒲田**********</td><td style = \"text-align: left;\">S13001</td><td style = \"text-align: right;\">20170403</td><td style = \"text-align: left;\">A-20100104-1</td></tr><tr><td class = \"rowNumber\" style = \"font-weight: bold; text-align: right;\">10</td><td style = \"text-align: left;\">CS032512000121</td><td style = \"text-align: left;\">松井 知世</td><td style = \"text-align: right;\">1</td><td style = \"text-align: left;\">女性</td><td style = \"text-align: left;\">1962-09-04</td><td style = \"text-align: right;\">56</td><td style = \"text-align: left;\">210-0011</td><td style = \"text-align: left;\">神奈川県川崎市川崎区富士見**********</td><td style = \"text-align: left;\">S13032</td><td style = \"text-align: right;\">20150727</td><td style = \"text-align: left;\">A-20100103-5</td></tr></tbody></table></div>"
      ],
      "text/latex": [
       "\\begin{tabular}{r|cccccccc}\n",
       "\t& customer\\_id & customer\\_name & gender\\_cd & gender & birth\\_day & age & postal\\_cd & \\\\\n",
       "\t\\hline\n",
       "\t& String15 & String31 & Int64 & String7 & Date & Int64 & String15 & \\\\\n",
       "\t\\hline\n",
       "\t1 & CS011215000048 & 芦田 沙耶 & 1 & 女性 & 1992-02-01 & 27 & 223-0062 & $\\dots$ \\\\\n",
       "\t2 & CS022513000105 & 島村 貴美子 & 1 & 女性 & 1962-03-12 & 57 & 249-0002 & $\\dots$ \\\\\n",
       "\t3 & CS001515000096 & 水野 陽子 & 9 & 不明 & 1960-11-29 & 58 & 144-0053 & $\\dots$ \\\\\n",
       "\t4 & CS013615000053 & 西脇 季衣 & 1 & 女性 & 1953-10-18 & 65 & 261-0026 & $\\dots$ \\\\\n",
       "\t5 & CS020412000161 & 小宮 薫 & 1 & 女性 & 1974-05-21 & 44 & 174-0042 & $\\dots$ \\\\\n",
       "\t6 & CS001215000097 & 竹中 あさみ & 1 & 女性 & 1990-07-25 & 28 & 146-0095 & $\\dots$ \\\\\n",
       "\t7 & CS035212000007 & 内村 恵梨香 & 1 & 女性 & 1990-12-04 & 28 & 152-0023 & $\\dots$ \\\\\n",
       "\t8 & CS002515000386 & 野田 コウ & 1 & 女性 & 1963-05-30 & 55 & 185-0013 & $\\dots$ \\\\\n",
       "\t9 & CS001615000372 & 稲垣 寿々花 & 1 & 女性 & 1956-10-29 & 62 & 144-0035 & $\\dots$ \\\\\n",
       "\t10 & CS032512000121 & 松井 知世 & 1 & 女性 & 1962-09-04 & 56 & 210-0011 & $\\dots$ \\\\\n",
       "\\end{tabular}\n"
      ],
      "text/plain": [
       "\u001b[1m10×11 DataFrame\u001b[0m\n",
       "\u001b[1m Row \u001b[0m│\u001b[1m customer_id    \u001b[0m\u001b[1m customer_name \u001b[0m\u001b[1m gender_cd \u001b[0m\u001b[1m gender  \u001b[0m\u001b[1m birth_day  \u001b[0m\u001b[1m age   \u001b[0m\u001b[1m p\u001b[0m ⋯\n",
       "     │\u001b[90m String15       \u001b[0m\u001b[90m String31      \u001b[0m\u001b[90m Int64     \u001b[0m\u001b[90m String7 \u001b[0m\u001b[90m Date       \u001b[0m\u001b[90m Int64 \u001b[0m\u001b[90m S\u001b[0m ⋯\n",
       "─────┼──────────────────────────────────────────────────────────────────────────\n",
       "   1 │ CS011215000048  芦田 沙耶              1  女性     1992-02-01     27  2 ⋯\n",
       "   2 │ CS022513000105  島村 貴美子            1  女性     1962-03-12     57  2\n",
       "   3 │ CS001515000096  水野 陽子              9  不明     1960-11-29     58  1\n",
       "   4 │ CS013615000053  西脇 季衣              1  女性     1953-10-18     65  2\n",
       "   5 │ CS020412000161  小宮 薫                1  女性     1974-05-21     44  1 ⋯\n",
       "   6 │ CS001215000097  竹中 あさみ            1  女性     1990-07-25     28  1\n",
       "   7 │ CS035212000007  内村 恵梨香            1  女性     1990-12-04     28  1\n",
       "   8 │ CS002515000386  野田 コウ              1  女性     1963-05-30     55  1\n",
       "   9 │ CS001615000372  稲垣 寿々花            1  女性     1956-10-29     62  1 ⋯\n",
       "  10 │ CS032512000121  松井 知世              1  女性     1962-09-04     56  2\n",
       "\u001b[36m                                                               5 columns omitted\u001b[0m"
      ]
     },
     "execution_count": 22,
     "metadata": {},
     "output_type": "execute_result"
    }
   ],
   "source": [
    "# p15\n",
    "@chain df_customer begin\n",
    "    filter(row -> startswith(row.status_cd, ('A', 'B', 'C', 'D', 'E', 'F')), _)\n",
    "    filter(row -> endswith(row.status_cd, ('1', '2', '3', '4', '5', '6', '7', '8', '9')), _)\n",
    "    first(10)\n",
    "end"
   ]
  },
  {
   "cell_type": "code",
   "execution_count": 23,
   "metadata": {},
   "outputs": [],
   "source": [
    "# p16\n",
    "# get.(match.(r\"(\\d+)-(\\d+)-(\\d+)\", df_store.tel_no), 4, \"No Match\")"
   ]
  },
  {
   "cell_type": "code",
   "execution_count": 24,
   "metadata": {},
   "outputs": [
    {
     "data": {
      "text/html": [
       "<div><div style = \"float: left;\"><span>10×11 DataFrame</span></div><div style = \"clear: both;\"></div></div><div class = \"data-frame\" style = \"overflow-x: scroll;\"><table class = \"data-frame\" style = \"margin-bottom: 6px;\"><thead><tr class = \"header\"><th class = \"rowNumber\" style = \"font-weight: bold; text-align: right;\">Row</th><th style = \"text-align: left;\">customer_id</th><th style = \"text-align: left;\">customer_name</th><th style = \"text-align: left;\">gender_cd</th><th style = \"text-align: left;\">gender</th><th style = \"text-align: left;\">birth_day</th><th style = \"text-align: left;\">age</th><th style = \"text-align: left;\">postal_cd</th><th style = \"text-align: left;\">address</th><th style = \"text-align: left;\">application_store_cd</th><th style = \"text-align: left;\">application_date</th><th style = \"text-align: left;\">status_cd</th></tr><tr class = \"subheader headerLastRow\"><th class = \"rowNumber\" style = \"font-weight: bold; text-align: right;\"></th><th title = \"String15\" style = \"text-align: left;\">String15</th><th title = \"String31\" style = \"text-align: left;\">String31</th><th title = \"Int64\" style = \"text-align: left;\">Int64</th><th title = \"String7\" style = \"text-align: left;\">String7</th><th title = \"Dates.Date\" style = \"text-align: left;\">Date</th><th title = \"Int64\" style = \"text-align: left;\">Int64</th><th title = \"String15\" style = \"text-align: left;\">String15</th><th title = \"String\" style = \"text-align: left;\">String</th><th title = \"String7\" style = \"text-align: left;\">String7</th><th title = \"Int64\" style = \"text-align: left;\">Int64</th><th title = \"String15\" style = \"text-align: left;\">String15</th></tr></thead><tbody><tr><td class = \"rowNumber\" style = \"font-weight: bold; text-align: right;\">1</td><td style = \"text-align: left;\">CS003813000014</td><td style = \"text-align: left;\">村山 菜々美</td><td style = \"text-align: right;\">1</td><td style = \"text-align: left;\">女性</td><td style = \"text-align: left;\">1928-11-26</td><td style = \"text-align: right;\">90</td><td style = \"text-align: left;\">182-0007</td><td style = \"text-align: left;\">東京都調布市菊野台**********</td><td style = \"text-align: left;\">S13003</td><td style = \"text-align: right;\">20160214</td><td style = \"text-align: left;\">0-00000000-0</td></tr><tr><td class = \"rowNumber\" style = \"font-weight: bold; text-align: right;\">2</td><td style = \"text-align: left;\">CS026813000004</td><td style = \"text-align: left;\">吉村 朝陽</td><td style = \"text-align: right;\">1</td><td style = \"text-align: left;\">女性</td><td style = \"text-align: left;\">1928-12-14</td><td style = \"text-align: right;\">90</td><td style = \"text-align: left;\">251-0043</td><td style = \"text-align: left;\">神奈川県藤沢市辻堂元町**********</td><td style = \"text-align: left;\">S14026</td><td style = \"text-align: right;\">20150723</td><td style = \"text-align: left;\">0-00000000-0</td></tr><tr><td class = \"rowNumber\" style = \"font-weight: bold; text-align: right;\">3</td><td style = \"text-align: left;\">CS018811000003</td><td style = \"text-align: left;\">熊沢 美里</td><td style = \"text-align: right;\">1</td><td style = \"text-align: left;\">女性</td><td style = \"text-align: left;\">1929-01-07</td><td style = \"text-align: right;\">90</td><td style = \"text-align: left;\">204-0004</td><td style = \"text-align: left;\">東京都清瀬市野塩**********</td><td style = \"text-align: left;\">S13018</td><td style = \"text-align: right;\">20150403</td><td style = \"text-align: left;\">0-00000000-0</td></tr><tr><td class = \"rowNumber\" style = \"font-weight: bold; text-align: right;\">4</td><td style = \"text-align: left;\">CS027803000004</td><td style = \"text-align: left;\">内村 拓郎</td><td style = \"text-align: right;\">0</td><td style = \"text-align: left;\">男性</td><td style = \"text-align: left;\">1929-01-12</td><td style = \"text-align: right;\">90</td><td style = \"text-align: left;\">251-0031</td><td style = \"text-align: left;\">神奈川県藤沢市鵠沼藤が谷**********</td><td style = \"text-align: left;\">S14027</td><td style = \"text-align: right;\">20151227</td><td style = \"text-align: left;\">0-00000000-0</td></tr><tr><td class = \"rowNumber\" style = \"font-weight: bold; text-align: right;\">5</td><td style = \"text-align: left;\">CS013801000003</td><td style = \"text-align: left;\">天野 拓郎</td><td style = \"text-align: right;\">0</td><td style = \"text-align: left;\">男性</td><td style = \"text-align: left;\">1929-01-15</td><td style = \"text-align: right;\">90</td><td style = \"text-align: left;\">274-0824</td><td style = \"text-align: left;\">千葉県船橋市前原東**********</td><td style = \"text-align: left;\">S12013</td><td style = \"text-align: right;\">20160120</td><td style = \"text-align: left;\">0-00000000-0</td></tr><tr><td class = \"rowNumber\" style = \"font-weight: bold; text-align: right;\">6</td><td style = \"text-align: left;\">CS001814000022</td><td style = \"text-align: left;\">鶴田 里穂</td><td style = \"text-align: right;\">1</td><td style = \"text-align: left;\">女性</td><td style = \"text-align: left;\">1929-01-28</td><td style = \"text-align: right;\">90</td><td style = \"text-align: left;\">144-0045</td><td style = \"text-align: left;\">東京都大田区南六郷**********</td><td style = \"text-align: left;\">S13001</td><td style = \"text-align: right;\">20161012</td><td style = \"text-align: left;\">A-20090415-7</td></tr><tr><td class = \"rowNumber\" style = \"font-weight: bold; text-align: right;\">7</td><td style = \"text-align: left;\">CS016815000002</td><td style = \"text-align: left;\">山元 美紀</td><td style = \"text-align: right;\">1</td><td style = \"text-align: left;\">女性</td><td style = \"text-align: left;\">1929-02-22</td><td style = \"text-align: right;\">90</td><td style = \"text-align: left;\">184-0005</td><td style = \"text-align: left;\">東京都小金井市桜町**********</td><td style = \"text-align: left;\">S13016</td><td style = \"text-align: right;\">20150629</td><td style = \"text-align: left;\">C-20090923-C</td></tr><tr><td class = \"rowNumber\" style = \"font-weight: bold; text-align: right;\">8</td><td style = \"text-align: left;\">CS009815000003</td><td style = \"text-align: left;\">中田 里穂</td><td style = \"text-align: right;\">1</td><td style = \"text-align: left;\">女性</td><td style = \"text-align: left;\">1929-04-08</td><td style = \"text-align: right;\">89</td><td style = \"text-align: left;\">154-0014</td><td style = \"text-align: left;\">東京都世田谷区新町**********</td><td style = \"text-align: left;\">S13009</td><td style = \"text-align: right;\">20150421</td><td style = \"text-align: left;\">D-20091021-E</td></tr><tr><td class = \"rowNumber\" style = \"font-weight: bold; text-align: right;\">9</td><td style = \"text-align: left;\">CS012813000013</td><td style = \"text-align: left;\">宇野 南朋</td><td style = \"text-align: right;\">1</td><td style = \"text-align: left;\">女性</td><td style = \"text-align: left;\">1929-04-09</td><td style = \"text-align: right;\">89</td><td style = \"text-align: left;\">231-0806</td><td style = \"text-align: left;\">神奈川県横浜市中区本牧町**********</td><td style = \"text-align: left;\">S14012</td><td style = \"text-align: right;\">20150712</td><td style = \"text-align: left;\">0-00000000-0</td></tr><tr><td class = \"rowNumber\" style = \"font-weight: bold; text-align: right;\">10</td><td style = \"text-align: left;\">CS005813000015</td><td style = \"text-align: left;\">金谷 恵梨香</td><td style = \"text-align: right;\">1</td><td style = \"text-align: left;\">女性</td><td style = \"text-align: left;\">1929-04-09</td><td style = \"text-align: right;\">89</td><td style = \"text-align: left;\">165-0032</td><td style = \"text-align: left;\">東京都中野区鷺宮**********</td><td style = \"text-align: left;\">S13005</td><td style = \"text-align: right;\">20150506</td><td style = \"text-align: left;\">0-00000000-0</td></tr></tbody></table></div>"
      ],
      "text/latex": [
       "\\begin{tabular}{r|cccccccc}\n",
       "\t& customer\\_id & customer\\_name & gender\\_cd & gender & birth\\_day & age & postal\\_cd & \\\\\n",
       "\t\\hline\n",
       "\t& String15 & String31 & Int64 & String7 & Date & Int64 & String15 & \\\\\n",
       "\t\\hline\n",
       "\t1 & CS003813000014 & 村山 菜々美 & 1 & 女性 & 1928-11-26 & 90 & 182-0007 & $\\dots$ \\\\\n",
       "\t2 & CS026813000004 & 吉村 朝陽 & 1 & 女性 & 1928-12-14 & 90 & 251-0043 & $\\dots$ \\\\\n",
       "\t3 & CS018811000003 & 熊沢 美里 & 1 & 女性 & 1929-01-07 & 90 & 204-0004 & $\\dots$ \\\\\n",
       "\t4 & CS027803000004 & 内村 拓郎 & 0 & 男性 & 1929-01-12 & 90 & 251-0031 & $\\dots$ \\\\\n",
       "\t5 & CS013801000003 & 天野 拓郎 & 0 & 男性 & 1929-01-15 & 90 & 274-0824 & $\\dots$ \\\\\n",
       "\t6 & CS001814000022 & 鶴田 里穂 & 1 & 女性 & 1929-01-28 & 90 & 144-0045 & $\\dots$ \\\\\n",
       "\t7 & CS016815000002 & 山元 美紀 & 1 & 女性 & 1929-02-22 & 90 & 184-0005 & $\\dots$ \\\\\n",
       "\t8 & CS009815000003 & 中田 里穂 & 1 & 女性 & 1929-04-08 & 89 & 154-0014 & $\\dots$ \\\\\n",
       "\t9 & CS012813000013 & 宇野 南朋 & 1 & 女性 & 1929-04-09 & 89 & 231-0806 & $\\dots$ \\\\\n",
       "\t10 & CS005813000015 & 金谷 恵梨香 & 1 & 女性 & 1929-04-09 & 89 & 165-0032 & $\\dots$ \\\\\n",
       "\\end{tabular}\n"
      ],
      "text/plain": [
       "\u001b[1m10×11 DataFrame\u001b[0m\n",
       "\u001b[1m Row \u001b[0m│\u001b[1m customer_id    \u001b[0m\u001b[1m customer_name \u001b[0m\u001b[1m gender_cd \u001b[0m\u001b[1m gender  \u001b[0m\u001b[1m birth_day  \u001b[0m\u001b[1m age   \u001b[0m\u001b[1m p\u001b[0m ⋯\n",
       "     │\u001b[90m String15       \u001b[0m\u001b[90m String31      \u001b[0m\u001b[90m Int64     \u001b[0m\u001b[90m String7 \u001b[0m\u001b[90m Date       \u001b[0m\u001b[90m Int64 \u001b[0m\u001b[90m S\u001b[0m ⋯\n",
       "─────┼──────────────────────────────────────────────────────────────────────────\n",
       "   1 │ CS003813000014  村山 菜々美            1  女性     1928-11-26     90  1 ⋯\n",
       "   2 │ CS026813000004  吉村 朝陽              1  女性     1928-12-14     90  2\n",
       "   3 │ CS018811000003  熊沢 美里              1  女性     1929-01-07     90  2\n",
       "   4 │ CS027803000004  内村 拓郎              0  男性     1929-01-12     90  2\n",
       "   5 │ CS013801000003  天野 拓郎              0  男性     1929-01-15     90  2 ⋯\n",
       "   6 │ CS001814000022  鶴田 里穂              1  女性     1929-01-28     90  1\n",
       "   7 │ CS016815000002  山元 美紀              1  女性     1929-02-22     90  1\n",
       "   8 │ CS009815000003  中田 里穂              1  女性     1929-04-08     89  1\n",
       "   9 │ CS012813000013  宇野 南朋              1  女性     1929-04-09     89  2 ⋯\n",
       "  10 │ CS005813000015  金谷 恵梨香            1  女性     1929-04-09     89  1\n",
       "\u001b[36m                                                               5 columns omitted\u001b[0m"
      ]
     },
     "execution_count": 24,
     "metadata": {},
     "output_type": "execute_result"
    }
   ],
   "source": [
    "# p17\n",
    "@chain sort!(df_customer, :birth_day) begin\n",
    "    first(10)\n",
    "end"
   ]
  },
  {
   "cell_type": "code",
   "execution_count": 25,
   "metadata": {},
   "outputs": [
    {
     "data": {
      "text/html": [
       "<div><div style = \"float: left;\"><span>10×11 DataFrame</span></div><div style = \"clear: both;\"></div></div><div class = \"data-frame\" style = \"overflow-x: scroll;\"><table class = \"data-frame\" style = \"margin-bottom: 6px;\"><thead><tr class = \"header\"><th class = \"rowNumber\" style = \"font-weight: bold; text-align: right;\">Row</th><th style = \"text-align: left;\">customer_id</th><th style = \"text-align: left;\">customer_name</th><th style = \"text-align: left;\">gender_cd</th><th style = \"text-align: left;\">gender</th><th style = \"text-align: left;\">birth_day</th><th style = \"text-align: left;\">age</th><th style = \"text-align: left;\">postal_cd</th><th style = \"text-align: left;\">address</th><th style = \"text-align: left;\">application_store_cd</th><th style = \"text-align: left;\">application_date</th><th style = \"text-align: left;\">status_cd</th></tr><tr class = \"subheader headerLastRow\"><th class = \"rowNumber\" style = \"font-weight: bold; text-align: right;\"></th><th title = \"String15\" style = \"text-align: left;\">String15</th><th title = \"String31\" style = \"text-align: left;\">String31</th><th title = \"Int64\" style = \"text-align: left;\">Int64</th><th title = \"String7\" style = \"text-align: left;\">String7</th><th title = \"Dates.Date\" style = \"text-align: left;\">Date</th><th title = \"Int64\" style = \"text-align: left;\">Int64</th><th title = \"String15\" style = \"text-align: left;\">String15</th><th title = \"String\" style = \"text-align: left;\">String</th><th title = \"String7\" style = \"text-align: left;\">String7</th><th title = \"Int64\" style = \"text-align: left;\">Int64</th><th title = \"String15\" style = \"text-align: left;\">String15</th></tr></thead><tbody><tr><td class = \"rowNumber\" style = \"font-weight: bold; text-align: right;\">1</td><td style = \"text-align: left;\">CS035114000004</td><td style = \"text-align: left;\">大村 美里</td><td style = \"text-align: right;\">1</td><td style = \"text-align: left;\">女性</td><td style = \"text-align: left;\">2007-11-25</td><td style = \"text-align: right;\">11</td><td style = \"text-align: left;\">156-0053</td><td style = \"text-align: left;\">東京都世田谷区桜**********</td><td style = \"text-align: left;\">S13035</td><td style = \"text-align: right;\">20150619</td><td style = \"text-align: left;\">6-20091205-6</td></tr><tr><td class = \"rowNumber\" style = \"font-weight: bold; text-align: right;\">2</td><td style = \"text-align: left;\">CS022103000002</td><td style = \"text-align: left;\">福山 はじめ</td><td style = \"text-align: right;\">9</td><td style = \"text-align: left;\">不明</td><td style = \"text-align: left;\">2007-10-02</td><td style = \"text-align: right;\">11</td><td style = \"text-align: left;\">249-0006</td><td style = \"text-align: left;\">神奈川県逗子市逗子**********</td><td style = \"text-align: left;\">S14022</td><td style = \"text-align: right;\">20160909</td><td style = \"text-align: left;\">0-00000000-0</td></tr><tr><td class = \"rowNumber\" style = \"font-weight: bold; text-align: right;\">3</td><td style = \"text-align: left;\">CS002113000009</td><td style = \"text-align: left;\">柴田 真悠子</td><td style = \"text-align: right;\">1</td><td style = \"text-align: left;\">女性</td><td style = \"text-align: left;\">2007-09-17</td><td style = \"text-align: right;\">11</td><td style = \"text-align: left;\">184-0014</td><td style = \"text-align: left;\">東京都小金井市貫井南町**********</td><td style = \"text-align: left;\">S13002</td><td style = \"text-align: right;\">20160304</td><td style = \"text-align: left;\">0-00000000-0</td></tr><tr><td class = \"rowNumber\" style = \"font-weight: bold; text-align: right;\">4</td><td style = \"text-align: left;\">CS004115000014</td><td style = \"text-align: left;\">松井 京子</td><td style = \"text-align: right;\">1</td><td style = \"text-align: left;\">女性</td><td style = \"text-align: left;\">2007-08-09</td><td style = \"text-align: right;\">11</td><td style = \"text-align: left;\">165-0031</td><td style = \"text-align: left;\">東京都中野区上鷺宮**********</td><td style = \"text-align: left;\">S13004</td><td style = \"text-align: right;\">20161120</td><td style = \"text-align: left;\">1-20081231-1</td></tr><tr><td class = \"rowNumber\" style = \"font-weight: bold; text-align: right;\">5</td><td style = \"text-align: left;\">CS002114000010</td><td style = \"text-align: left;\">山内 遥</td><td style = \"text-align: right;\">1</td><td style = \"text-align: left;\">女性</td><td style = \"text-align: left;\">2007-06-03</td><td style = \"text-align: right;\">11</td><td style = \"text-align: left;\">184-0015</td><td style = \"text-align: left;\">東京都小金井市貫井北町**********</td><td style = \"text-align: left;\">S13002</td><td style = \"text-align: right;\">20160920</td><td style = \"text-align: left;\">6-20100510-1</td></tr><tr><td class = \"rowNumber\" style = \"font-weight: bold; text-align: right;\">6</td><td style = \"text-align: left;\">CS025115000002</td><td style = \"text-align: left;\">小柳 夏希</td><td style = \"text-align: right;\">1</td><td style = \"text-align: left;\">女性</td><td style = \"text-align: left;\">2007-04-18</td><td style = \"text-align: right;\">11</td><td style = \"text-align: left;\">245-0018</td><td style = \"text-align: left;\">神奈川県横浜市泉区上飯田町**********</td><td style = \"text-align: left;\">S14025</td><td style = \"text-align: right;\">20160116</td><td style = \"text-align: left;\">D-20100913-D</td></tr><tr><td class = \"rowNumber\" style = \"font-weight: bold; text-align: right;\">7</td><td style = \"text-align: left;\">CS002113000025</td><td style = \"text-align: left;\">広末 まなみ</td><td style = \"text-align: right;\">1</td><td style = \"text-align: left;\">女性</td><td style = \"text-align: left;\">2007-03-30</td><td style = \"text-align: right;\">12</td><td style = \"text-align: left;\">184-0015</td><td style = \"text-align: left;\">東京都小金井市貫井北町**********</td><td style = \"text-align: left;\">S13002</td><td style = \"text-align: right;\">20171030</td><td style = \"text-align: left;\">0-00000000-0</td></tr><tr><td class = \"rowNumber\" style = \"font-weight: bold; text-align: right;\">8</td><td style = \"text-align: left;\">CS033112000003</td><td style = \"text-align: left;\">長野 美紀</td><td style = \"text-align: right;\">1</td><td style = \"text-align: left;\">女性</td><td style = \"text-align: left;\">2007-03-22</td><td style = \"text-align: right;\">12</td><td style = \"text-align: left;\">245-0051</td><td style = \"text-align: left;\">神奈川県横浜市戸塚区名瀬町**********</td><td style = \"text-align: left;\">S14033</td><td style = \"text-align: right;\">20150606</td><td style = \"text-align: left;\">0-00000000-0</td></tr><tr><td class = \"rowNumber\" style = \"font-weight: bold; text-align: right;\">9</td><td style = \"text-align: left;\">CS007115000006</td><td style = \"text-align: left;\">福岡 瞬</td><td style = \"text-align: right;\">1</td><td style = \"text-align: left;\">女性</td><td style = \"text-align: left;\">2007-03-10</td><td style = \"text-align: right;\">12</td><td style = \"text-align: left;\">285-0845</td><td style = \"text-align: left;\">千葉県佐倉市西志津**********</td><td style = \"text-align: left;\">S12007</td><td style = \"text-align: right;\">20151118</td><td style = \"text-align: left;\">F-20101016-F</td></tr><tr><td class = \"rowNumber\" style = \"font-weight: bold; text-align: right;\">10</td><td style = \"text-align: left;\">CS014113000008</td><td style = \"text-align: left;\">矢口 莉緒</td><td style = \"text-align: right;\">1</td><td style = \"text-align: left;\">女性</td><td style = \"text-align: left;\">2007-03-05</td><td style = \"text-align: right;\">12</td><td style = \"text-align: left;\">260-0041</td><td style = \"text-align: left;\">千葉県千葉市中央区東千葉**********</td><td style = \"text-align: left;\">S12014</td><td style = \"text-align: right;\">20150622</td><td style = \"text-align: left;\">3-20091108-6</td></tr></tbody></table></div>"
      ],
      "text/latex": [
       "\\begin{tabular}{r|cccccccc}\n",
       "\t& customer\\_id & customer\\_name & gender\\_cd & gender & birth\\_day & age & postal\\_cd & \\\\\n",
       "\t\\hline\n",
       "\t& String15 & String31 & Int64 & String7 & Date & Int64 & String15 & \\\\\n",
       "\t\\hline\n",
       "\t1 & CS035114000004 & 大村 美里 & 1 & 女性 & 2007-11-25 & 11 & 156-0053 & $\\dots$ \\\\\n",
       "\t2 & CS022103000002 & 福山 はじめ & 9 & 不明 & 2007-10-02 & 11 & 249-0006 & $\\dots$ \\\\\n",
       "\t3 & CS002113000009 & 柴田 真悠子 & 1 & 女性 & 2007-09-17 & 11 & 184-0014 & $\\dots$ \\\\\n",
       "\t4 & CS004115000014 & 松井 京子 & 1 & 女性 & 2007-08-09 & 11 & 165-0031 & $\\dots$ \\\\\n",
       "\t5 & CS002114000010 & 山内 遥 & 1 & 女性 & 2007-06-03 & 11 & 184-0015 & $\\dots$ \\\\\n",
       "\t6 & CS025115000002 & 小柳 夏希 & 1 & 女性 & 2007-04-18 & 11 & 245-0018 & $\\dots$ \\\\\n",
       "\t7 & CS002113000025 & 広末 まなみ & 1 & 女性 & 2007-03-30 & 12 & 184-0015 & $\\dots$ \\\\\n",
       "\t8 & CS033112000003 & 長野 美紀 & 1 & 女性 & 2007-03-22 & 12 & 245-0051 & $\\dots$ \\\\\n",
       "\t9 & CS007115000006 & 福岡 瞬 & 1 & 女性 & 2007-03-10 & 12 & 285-0845 & $\\dots$ \\\\\n",
       "\t10 & CS014113000008 & 矢口 莉緒 & 1 & 女性 & 2007-03-05 & 12 & 260-0041 & $\\dots$ \\\\\n",
       "\\end{tabular}\n"
      ],
      "text/plain": [
       "\u001b[1m10×11 DataFrame\u001b[0m\n",
       "\u001b[1m Row \u001b[0m│\u001b[1m customer_id    \u001b[0m\u001b[1m customer_name \u001b[0m\u001b[1m gender_cd \u001b[0m\u001b[1m gender  \u001b[0m\u001b[1m birth_day  \u001b[0m\u001b[1m age   \u001b[0m\u001b[1m p\u001b[0m ⋯\n",
       "     │\u001b[90m String15       \u001b[0m\u001b[90m String31      \u001b[0m\u001b[90m Int64     \u001b[0m\u001b[90m String7 \u001b[0m\u001b[90m Date       \u001b[0m\u001b[90m Int64 \u001b[0m\u001b[90m S\u001b[0m ⋯\n",
       "─────┼──────────────────────────────────────────────────────────────────────────\n",
       "   1 │ CS035114000004  大村 美里              1  女性     2007-11-25     11  1 ⋯\n",
       "   2 │ CS022103000002  福山 はじめ            9  不明     2007-10-02     11  2\n",
       "   3 │ CS002113000009  柴田 真悠子            1  女性     2007-09-17     11  1\n",
       "   4 │ CS004115000014  松井 京子              1  女性     2007-08-09     11  1\n",
       "   5 │ CS002114000010  山内 遥                1  女性     2007-06-03     11  1 ⋯\n",
       "   6 │ CS025115000002  小柳 夏希              1  女性     2007-04-18     11  2\n",
       "   7 │ CS002113000025  広末 まなみ            1  女性     2007-03-30     12  1\n",
       "   8 │ CS033112000003  長野 美紀              1  女性     2007-03-22     12  2\n",
       "   9 │ CS007115000006  福岡 瞬                1  女性     2007-03-10     12  2 ⋯\n",
       "  10 │ CS014113000008  矢口 莉緒              1  女性     2007-03-05     12  2\n",
       "\u001b[36m                                                               5 columns omitted\u001b[0m"
      ]
     },
     "execution_count": 25,
     "metadata": {},
     "output_type": "execute_result"
    }
   ],
   "source": [
    "# p18\n",
    "@chain df_customer begin\n",
    "    sort!(:birth_day, rev = true)\n",
    "    first(10)\n",
    "end"
   ]
  },
  {
   "cell_type": "code",
   "execution_count": 26,
   "metadata": {},
   "outputs": [
    {
     "data": {
      "text/html": [
       "<div><div style = \"float: left;\"><span>10×3 DataFrame</span></div><div style = \"clear: both;\"></div></div><div class = \"data-frame\" style = \"overflow-x: scroll;\"><table class = \"data-frame\" style = \"margin-bottom: 6px;\"><thead><tr class = \"header\"><th class = \"rowNumber\" style = \"font-weight: bold; text-align: right;\">Row</th><th style = \"text-align: left;\">customer_id</th><th style = \"text-align: left;\">amount</th><th style = \"text-align: left;\">ranking</th></tr><tr class = \"subheader headerLastRow\"><th class = \"rowNumber\" style = \"font-weight: bold; text-align: right;\"></th><th title = \"String15\" style = \"text-align: left;\">String15</th><th title = \"Int64\" style = \"text-align: left;\">Int64</th><th title = \"Int64\" style = \"text-align: left;\">Int64</th></tr></thead><tbody><tr><td class = \"rowNumber\" style = \"font-weight: bold; text-align: right;\">1</td><td style = \"text-align: left;\">CS011415000006</td><td style = \"text-align: right;\">10925</td><td style = \"text-align: right;\">1</td></tr><tr><td class = \"rowNumber\" style = \"font-weight: bold; text-align: right;\">2</td><td style = \"text-align: left;\">ZZ000000000000</td><td style = \"text-align: right;\">6800</td><td style = \"text-align: right;\">2</td></tr><tr><td class = \"rowNumber\" style = \"font-weight: bold; text-align: right;\">3</td><td style = \"text-align: left;\">CS028605000002</td><td style = \"text-align: right;\">5780</td><td style = \"text-align: right;\">3</td></tr><tr><td class = \"rowNumber\" style = \"font-weight: bold; text-align: right;\">4</td><td style = \"text-align: left;\">CS015515000034</td><td style = \"text-align: right;\">5480</td><td style = \"text-align: right;\">4</td></tr><tr><td class = \"rowNumber\" style = \"font-weight: bold; text-align: right;\">5</td><td style = \"text-align: left;\">ZZ000000000000</td><td style = \"text-align: right;\">5480</td><td style = \"text-align: right;\">4</td></tr><tr><td class = \"rowNumber\" style = \"font-weight: bold; text-align: right;\">6</td><td style = \"text-align: left;\">ZZ000000000000</td><td style = \"text-align: right;\">5480</td><td style = \"text-align: right;\">4</td></tr><tr><td class = \"rowNumber\" style = \"font-weight: bold; text-align: right;\">7</td><td style = \"text-align: left;\">ZZ000000000000</td><td style = \"text-align: right;\">5440</td><td style = \"text-align: right;\">7</td></tr><tr><td class = \"rowNumber\" style = \"font-weight: bold; text-align: right;\">8</td><td style = \"text-align: left;\">CS021515000089</td><td style = \"text-align: right;\">5440</td><td style = \"text-align: right;\">7</td></tr><tr><td class = \"rowNumber\" style = \"font-weight: bold; text-align: right;\">9</td><td style = \"text-align: left;\">CS015515000083</td><td style = \"text-align: right;\">5280</td><td style = \"text-align: right;\">9</td></tr><tr><td class = \"rowNumber\" style = \"font-weight: bold; text-align: right;\">10</td><td style = \"text-align: left;\">CS017414000114</td><td style = \"text-align: right;\">5280</td><td style = \"text-align: right;\">9</td></tr></tbody></table></div>"
      ],
      "text/latex": [
       "\\begin{tabular}{r|ccc}\n",
       "\t& customer\\_id & amount & ranking\\\\\n",
       "\t\\hline\n",
       "\t& String15 & Int64 & Int64\\\\\n",
       "\t\\hline\n",
       "\t1 & CS011415000006 & 10925 & 1 \\\\\n",
       "\t2 & ZZ000000000000 & 6800 & 2 \\\\\n",
       "\t3 & CS028605000002 & 5780 & 3 \\\\\n",
       "\t4 & CS015515000034 & 5480 & 4 \\\\\n",
       "\t5 & ZZ000000000000 & 5480 & 4 \\\\\n",
       "\t6 & ZZ000000000000 & 5480 & 4 \\\\\n",
       "\t7 & ZZ000000000000 & 5440 & 7 \\\\\n",
       "\t8 & CS021515000089 & 5440 & 7 \\\\\n",
       "\t9 & CS015515000083 & 5280 & 9 \\\\\n",
       "\t10 & CS017414000114 & 5280 & 9 \\\\\n",
       "\\end{tabular}\n"
      ],
      "text/plain": [
       "\u001b[1m10×3 DataFrame\u001b[0m\n",
       "\u001b[1m Row \u001b[0m│\u001b[1m customer_id    \u001b[0m\u001b[1m amount \u001b[0m\u001b[1m ranking \u001b[0m\n",
       "     │\u001b[90m String15       \u001b[0m\u001b[90m Int64  \u001b[0m\u001b[90m Int64   \u001b[0m\n",
       "─────┼─────────────────────────────────\n",
       "   1 │ CS011415000006   10925        1\n",
       "   2 │ ZZ000000000000    6800        2\n",
       "   3 │ CS028605000002    5780        3\n",
       "   4 │ CS015515000034    5480        4\n",
       "   5 │ ZZ000000000000    5480        4\n",
       "   6 │ ZZ000000000000    5480        4\n",
       "   7 │ ZZ000000000000    5440        7\n",
       "   8 │ CS021515000089    5440        7\n",
       "   9 │ CS015515000083    5280        9\n",
       "  10 │ CS017414000114    5280        9"
      ]
     },
     "execution_count": 26,
     "metadata": {},
     "output_type": "execute_result"
    }
   ],
   "source": [
    "# p19\n",
    "df_receipt.ranking = competerank(df_receipt.amount, rev = true)\n",
    "@chain df_receipt begin\n",
    "    sort!(:amount, rev = true)\n",
    "    select(:customer_id, :amount, :ranking)\n",
    "    first(10)\n",
    "end"
   ]
  },
  {
   "cell_type": "code",
   "execution_count": 27,
   "metadata": {},
   "outputs": [
    {
     "data": {
      "text/html": [
       "<div><div style = \"float: left;\"><span>10×3 DataFrame</span></div><div style = \"clear: both;\"></div></div><div class = \"data-frame\" style = \"overflow-x: scroll;\"><table class = \"data-frame\" style = \"margin-bottom: 6px;\"><thead><tr class = \"header\"><th class = \"rowNumber\" style = \"font-weight: bold; text-align: right;\">Row</th><th style = \"text-align: left;\">customer_id</th><th style = \"text-align: left;\">amount</th><th style = \"text-align: left;\">ranking_ordinal</th></tr><tr class = \"subheader headerLastRow\"><th class = \"rowNumber\" style = \"font-weight: bold; text-align: right;\"></th><th title = \"String15\" style = \"text-align: left;\">String15</th><th title = \"Int64\" style = \"text-align: left;\">Int64</th><th title = \"Int64\" style = \"text-align: left;\">Int64</th></tr></thead><tbody><tr><td class = \"rowNumber\" style = \"font-weight: bold; text-align: right;\">1</td><td style = \"text-align: left;\">CS011415000006</td><td style = \"text-align: right;\">10925</td><td style = \"text-align: right;\">1</td></tr><tr><td class = \"rowNumber\" style = \"font-weight: bold; text-align: right;\">2</td><td style = \"text-align: left;\">ZZ000000000000</td><td style = \"text-align: right;\">6800</td><td style = \"text-align: right;\">2</td></tr><tr><td class = \"rowNumber\" style = \"font-weight: bold; text-align: right;\">3</td><td style = \"text-align: left;\">CS028605000002</td><td style = \"text-align: right;\">5780</td><td style = \"text-align: right;\">3</td></tr><tr><td class = \"rowNumber\" style = \"font-weight: bold; text-align: right;\">4</td><td style = \"text-align: left;\">CS015515000034</td><td style = \"text-align: right;\">5480</td><td style = \"text-align: right;\">4</td></tr><tr><td class = \"rowNumber\" style = \"font-weight: bold; text-align: right;\">5</td><td style = \"text-align: left;\">ZZ000000000000</td><td style = \"text-align: right;\">5480</td><td style = \"text-align: right;\">5</td></tr><tr><td class = \"rowNumber\" style = \"font-weight: bold; text-align: right;\">6</td><td style = \"text-align: left;\">ZZ000000000000</td><td style = \"text-align: right;\">5480</td><td style = \"text-align: right;\">6</td></tr><tr><td class = \"rowNumber\" style = \"font-weight: bold; text-align: right;\">7</td><td style = \"text-align: left;\">ZZ000000000000</td><td style = \"text-align: right;\">5440</td><td style = \"text-align: right;\">7</td></tr><tr><td class = \"rowNumber\" style = \"font-weight: bold; text-align: right;\">8</td><td style = \"text-align: left;\">CS021515000089</td><td style = \"text-align: right;\">5440</td><td style = \"text-align: right;\">8</td></tr><tr><td class = \"rowNumber\" style = \"font-weight: bold; text-align: right;\">9</td><td style = \"text-align: left;\">CS015515000083</td><td style = \"text-align: right;\">5280</td><td style = \"text-align: right;\">9</td></tr><tr><td class = \"rowNumber\" style = \"font-weight: bold; text-align: right;\">10</td><td style = \"text-align: left;\">CS017414000114</td><td style = \"text-align: right;\">5280</td><td style = \"text-align: right;\">10</td></tr></tbody></table></div>"
      ],
      "text/latex": [
       "\\begin{tabular}{r|ccc}\n",
       "\t& customer\\_id & amount & ranking\\_ordinal\\\\\n",
       "\t\\hline\n",
       "\t& String15 & Int64 & Int64\\\\\n",
       "\t\\hline\n",
       "\t1 & CS011415000006 & 10925 & 1 \\\\\n",
       "\t2 & ZZ000000000000 & 6800 & 2 \\\\\n",
       "\t3 & CS028605000002 & 5780 & 3 \\\\\n",
       "\t4 & CS015515000034 & 5480 & 4 \\\\\n",
       "\t5 & ZZ000000000000 & 5480 & 5 \\\\\n",
       "\t6 & ZZ000000000000 & 5480 & 6 \\\\\n",
       "\t7 & ZZ000000000000 & 5440 & 7 \\\\\n",
       "\t8 & CS021515000089 & 5440 & 8 \\\\\n",
       "\t9 & CS015515000083 & 5280 & 9 \\\\\n",
       "\t10 & CS017414000114 & 5280 & 10 \\\\\n",
       "\\end{tabular}\n"
      ],
      "text/plain": [
       "\u001b[1m10×3 DataFrame\u001b[0m\n",
       "\u001b[1m Row \u001b[0m│\u001b[1m customer_id    \u001b[0m\u001b[1m amount \u001b[0m\u001b[1m ranking_ordinal \u001b[0m\n",
       "     │\u001b[90m String15       \u001b[0m\u001b[90m Int64  \u001b[0m\u001b[90m Int64           \u001b[0m\n",
       "─────┼─────────────────────────────────────────\n",
       "   1 │ CS011415000006   10925                1\n",
       "   2 │ ZZ000000000000    6800                2\n",
       "   3 │ CS028605000002    5780                3\n",
       "   4 │ CS015515000034    5480                4\n",
       "   5 │ ZZ000000000000    5480                5\n",
       "   6 │ ZZ000000000000    5480                6\n",
       "   7 │ ZZ000000000000    5440                7\n",
       "   8 │ CS021515000089    5440                8\n",
       "   9 │ CS015515000083    5280                9\n",
       "  10 │ CS017414000114    5280               10"
      ]
     },
     "execution_count": 27,
     "metadata": {},
     "output_type": "execute_result"
    }
   ],
   "source": [
    "# p20\n",
    "df_receipt.ranking_ordinal = ordinalrank(df_receipt.amount, rev = true)\n",
    "@chain df_receipt begin\n",
    "    sort!(:amount, rev = true)\n",
    "    select(:customer_id, :amount, :ranking_ordinal)\n",
    "    first(10)\n",
    "end"
   ]
  },
  {
   "cell_type": "code",
   "execution_count": 28,
   "metadata": {},
   "outputs": [
    {
     "data": {
      "text/plain": [
       "104681"
      ]
     },
     "execution_count": 28,
     "metadata": {},
     "output_type": "execute_result"
    }
   ],
   "source": [
    "# p21\n",
    "df_receipt |> nrow"
   ]
  },
  {
   "cell_type": "code",
   "execution_count": 29,
   "metadata": {},
   "outputs": [
    {
     "data": {
      "text/plain": [
       "8307"
      ]
     },
     "execution_count": 29,
     "metadata": {},
     "output_type": "execute_result"
    }
   ],
   "source": [
    "# p22\n",
    "@chain df_receipt begin\n",
    "    select(:customer_id)\n",
    "    unique!\n",
    "    nrow\n",
    "end"
   ]
  },
  {
   "cell_type": "code",
   "execution_count": 30,
   "metadata": {},
   "outputs": [
    {
     "data": {
      "text/html": [
       "<div><div style = \"float: left;\"><span>52×3 DataFrame</span></div><div style = \"float: right;\"><span style = \"font-style: italic;\">27 rows omitted</span></div><div style = \"clear: both;\"></div></div><div class = \"data-frame\" style = \"overflow-x: scroll;\"><table class = \"data-frame\" style = \"margin-bottom: 6px;\"><thead><tr class = \"header\"><th class = \"rowNumber\" style = \"font-weight: bold; text-align: right;\">Row</th><th style = \"text-align: left;\">store_cd</th><th style = \"text-align: left;\">amount_sum</th><th style = \"text-align: left;\">quantity_sum</th></tr><tr class = \"subheader headerLastRow\"><th class = \"rowNumber\" style = \"font-weight: bold; text-align: right;\"></th><th title = \"String7\" style = \"text-align: left;\">String7</th><th title = \"Int64\" style = \"text-align: left;\">Int64</th><th title = \"Int64\" style = \"text-align: left;\">Int64</th></tr></thead><tbody><tr><td class = \"rowNumber\" style = \"font-weight: bold; text-align: right;\">1</td><td style = \"text-align: left;\">S14006</td><td style = \"text-align: right;\">712839</td><td style = \"text-align: right;\">2284</td></tr><tr><td class = \"rowNumber\" style = \"font-weight: bold; text-align: right;\">2</td><td style = \"text-align: left;\">S13008</td><td style = \"text-align: right;\">809288</td><td style = \"text-align: right;\">2491</td></tr><tr><td class = \"rowNumber\" style = \"font-weight: bold; text-align: right;\">3</td><td style = \"text-align: left;\">S14028</td><td style = \"text-align: right;\">786145</td><td style = \"text-align: right;\">2458</td></tr><tr><td class = \"rowNumber\" style = \"font-weight: bold; text-align: right;\">4</td><td style = \"text-align: left;\">S14042</td><td style = \"text-align: right;\">534689</td><td style = \"text-align: right;\">1935</td></tr><tr><td class = \"rowNumber\" style = \"font-weight: bold; text-align: right;\">5</td><td style = \"text-align: left;\">S14025</td><td style = \"text-align: right;\">755581</td><td style = \"text-align: right;\">2394</td></tr><tr><td class = \"rowNumber\" style = \"font-weight: bold; text-align: right;\">6</td><td style = \"text-align: left;\">S13003</td><td style = \"text-align: right;\">764294</td><td style = \"text-align: right;\">2197</td></tr><tr><td class = \"rowNumber\" style = \"font-weight: bold; text-align: right;\">7</td><td style = \"text-align: left;\">S14024</td><td style = \"text-align: right;\">736323</td><td style = \"text-align: right;\">2417</td></tr><tr><td class = \"rowNumber\" style = \"font-weight: bold; text-align: right;\">8</td><td style = \"text-align: left;\">S14040</td><td style = \"text-align: right;\">701858</td><td style = \"text-align: right;\">2233</td></tr><tr><td class = \"rowNumber\" style = \"font-weight: bold; text-align: right;\">9</td><td style = \"text-align: left;\">S13020</td><td style = \"text-align: right;\">796383</td><td style = \"text-align: right;\">2383</td></tr><tr><td class = \"rowNumber\" style = \"font-weight: bold; text-align: right;\">10</td><td style = \"text-align: left;\">S14027</td><td style = \"text-align: right;\">714550</td><td style = \"text-align: right;\">2303</td></tr><tr><td class = \"rowNumber\" style = \"font-weight: bold; text-align: right;\">11</td><td style = \"text-align: left;\">S14021</td><td style = \"text-align: right;\">699511</td><td style = \"text-align: right;\">2231</td></tr><tr><td class = \"rowNumber\" style = \"font-weight: bold; text-align: right;\">12</td><td style = \"text-align: left;\">S13039</td><td style = \"text-align: right;\">611888</td><td style = \"text-align: right;\">1981</td></tr><tr><td class = \"rowNumber\" style = \"font-weight: bold; text-align: right;\">13</td><td style = \"text-align: left;\">S13016</td><td style = \"text-align: right;\">793773</td><td style = \"text-align: right;\">2432</td></tr><tr><td style = \"text-align: right;\">&vellip;</td><td style = \"text-align: right;\">&vellip;</td><td style = \"text-align: right;\">&vellip;</td><td style = \"text-align: right;\">&vellip;</td></tr><tr><td class = \"rowNumber\" style = \"font-weight: bold; text-align: right;\">41</td><td style = \"text-align: left;\">S13009</td><td style = \"text-align: right;\">808870</td><td style = \"text-align: right;\">2486</td></tr><tr><td class = \"rowNumber\" style = \"font-weight: bold; text-align: right;\">42</td><td style = \"text-align: left;\">S13038</td><td style = \"text-align: right;\">708884</td><td style = \"text-align: right;\">2337</td></tr><tr><td class = \"rowNumber\" style = \"font-weight: bold; text-align: right;\">43</td><td style = \"text-align: left;\">S14048</td><td style = \"text-align: right;\">234276</td><td style = \"text-align: right;\">769</td></tr><tr><td class = \"rowNumber\" style = \"font-weight: bold; text-align: right;\">44</td><td style = \"text-align: left;\">S14022</td><td style = \"text-align: right;\">651328</td><td style = \"text-align: right;\">2047</td></tr><tr><td class = \"rowNumber\" style = \"font-weight: bold; text-align: right;\">45</td><td style = \"text-align: left;\">S14033</td><td style = \"text-align: right;\">725318</td><td style = \"text-align: right;\">2282</td></tr><tr><td class = \"rowNumber\" style = \"font-weight: bold; text-align: right;\">46</td><td style = \"text-align: left;\">S14047</td><td style = \"text-align: right;\">338329</td><td style = \"text-align: right;\">1041</td></tr><tr><td class = \"rowNumber\" style = \"font-weight: bold; text-align: right;\">47</td><td style = \"text-align: left;\">S13043</td><td style = \"text-align: right;\">587895</td><td style = \"text-align: right;\">1881</td></tr><tr><td class = \"rowNumber\" style = \"font-weight: bold; text-align: right;\">48</td><td style = \"text-align: left;\">S13035</td><td style = \"text-align: right;\">715869</td><td style = \"text-align: right;\">2219</td></tr><tr><td class = \"rowNumber\" style = \"font-weight: bold; text-align: right;\">49</td><td style = \"text-align: left;\">S14050</td><td style = \"text-align: right;\">167090</td><td style = \"text-align: right;\">580</td></tr><tr><td class = \"rowNumber\" style = \"font-weight: bold; text-align: right;\">50</td><td style = \"text-align: left;\">S14049</td><td style = \"text-align: right;\">230808</td><td style = \"text-align: right;\">788</td></tr><tr><td class = \"rowNumber\" style = \"font-weight: bold; text-align: right;\">51</td><td style = \"text-align: left;\">S13051</td><td style = \"text-align: right;\">107452</td><td style = \"text-align: right;\">354</td></tr><tr><td class = \"rowNumber\" style = \"font-weight: bold; text-align: right;\">52</td><td style = \"text-align: left;\">S13052</td><td style = \"text-align: right;\">100314</td><td style = \"text-align: right;\">250</td></tr></tbody></table></div>"
      ],
      "text/latex": [
       "\\begin{tabular}{r|ccc}\n",
       "\t& store\\_cd & amount\\_sum & quantity\\_sum\\\\\n",
       "\t\\hline\n",
       "\t& String7 & Int64 & Int64\\\\\n",
       "\t\\hline\n",
       "\t1 & S14006 & 712839 & 2284 \\\\\n",
       "\t2 & S13008 & 809288 & 2491 \\\\\n",
       "\t3 & S14028 & 786145 & 2458 \\\\\n",
       "\t4 & S14042 & 534689 & 1935 \\\\\n",
       "\t5 & S14025 & 755581 & 2394 \\\\\n",
       "\t6 & S13003 & 764294 & 2197 \\\\\n",
       "\t7 & S14024 & 736323 & 2417 \\\\\n",
       "\t8 & S14040 & 701858 & 2233 \\\\\n",
       "\t9 & S13020 & 796383 & 2383 \\\\\n",
       "\t10 & S14027 & 714550 & 2303 \\\\\n",
       "\t11 & S14021 & 699511 & 2231 \\\\\n",
       "\t12 & S13039 & 611888 & 1981 \\\\\n",
       "\t13 & S13016 & 793773 & 2432 \\\\\n",
       "\t14 & S12014 & 725167 & 2358 \\\\\n",
       "\t15 & S13002 & 727821 & 2340 \\\\\n",
       "\t16 & S13044 & 520764 & 1729 \\\\\n",
       "\t17 & S14026 & 824537 & 2503 \\\\\n",
       "\t18 & S14034 & 653681 & 2024 \\\\\n",
       "\t19 & S13041 & 728266 & 2233 \\\\\n",
       "\t20 & S13015 & 780873 & 2248 \\\\\n",
       "\t21 & S14045 & 458484 & 1398 \\\\\n",
       "\t22 & S12029 & 794741 & 2555 \\\\\n",
       "\t23 & S13017 & 748221 & 2376 \\\\\n",
       "\t24 & S12007 & 638761 & 2099 \\\\\n",
       "\t25 & S14012 & 720600 & 2412 \\\\\n",
       "\t26 & S13019 & 827833 & 2541 \\\\\n",
       "\t27 & S14011 & 805724 & 2434 \\\\\n",
       "\t28 & S13018 & 790535 & 2562 \\\\\n",
       "\t29 & S14023 & 727630 & 2258 \\\\\n",
       "\t30 & S13004 & 779373 & 2390 \\\\\n",
       "\t$\\dots$ & $\\dots$ & $\\dots$ & $\\dots$ \\\\\n",
       "\\end{tabular}\n"
      ],
      "text/plain": [
       "\u001b[1m52×3 DataFrame\u001b[0m\n",
       "\u001b[1m Row \u001b[0m│\u001b[1m store_cd \u001b[0m\u001b[1m amount_sum \u001b[0m\u001b[1m quantity_sum \u001b[0m\n",
       "     │\u001b[90m String7  \u001b[0m\u001b[90m Int64      \u001b[0m\u001b[90m Int64        \u001b[0m\n",
       "─────┼────────────────────────────────────\n",
       "   1 │ S14006        712839          2284\n",
       "   2 │ S13008        809288          2491\n",
       "   3 │ S14028        786145          2458\n",
       "   4 │ S14042        534689          1935\n",
       "   5 │ S14025        755581          2394\n",
       "   6 │ S13003        764294          2197\n",
       "   7 │ S14024        736323          2417\n",
       "   8 │ S14040        701858          2233\n",
       "   9 │ S13020        796383          2383\n",
       "  10 │ S14027        714550          2303\n",
       "  11 │ S14021        699511          2231\n",
       "  ⋮  │    ⋮          ⋮            ⋮\n",
       "  43 │ S14048        234276           769\n",
       "  44 │ S14022        651328          2047\n",
       "  45 │ S14033        725318          2282\n",
       "  46 │ S14047        338329          1041\n",
       "  47 │ S13043        587895          1881\n",
       "  48 │ S13035        715869          2219\n",
       "  49 │ S14050        167090           580\n",
       "  50 │ S14049        230808           788\n",
       "  51 │ S13051        107452           354\n",
       "  52 │ S13052        100314           250\n",
       "\u001b[36m                           31 rows omitted\u001b[0m"
      ]
     },
     "execution_count": 30,
     "metadata": {},
     "output_type": "execute_result"
    }
   ],
   "source": [
    "# p23\n",
    "@chain df_receipt begin\n",
    "    groupby(:store_cd)\n",
    "    combine([:amount, :quantity] .=> sum)\n",
    "end"
   ]
  },
  {
   "cell_type": "code",
   "execution_count": 31,
   "metadata": {},
   "outputs": [
    {
     "data": {
      "text/html": [
       "<div><div style = \"float: left;\"><span>10×2 DataFrame</span></div><div style = \"clear: both;\"></div></div><div class = \"data-frame\" style = \"overflow-x: scroll;\"><table class = \"data-frame\" style = \"margin-bottom: 6px;\"><thead><tr class = \"header\"><th class = \"rowNumber\" style = \"font-weight: bold; text-align: right;\">Row</th><th style = \"text-align: left;\">customer_id</th><th style = \"text-align: left;\">sales_ymd_maximum</th></tr><tr class = \"subheader headerLastRow\"><th class = \"rowNumber\" style = \"font-weight: bold; text-align: right;\"></th><th title = \"String15\" style = \"text-align: left;\">String15</th><th title = \"Int64\" style = \"text-align: left;\">Int64</th></tr></thead><tbody><tr><td class = \"rowNumber\" style = \"font-weight: bold; text-align: right;\">1</td><td style = \"text-align: left;\">CS011415000006</td><td style = \"text-align: right;\">20191029</td></tr><tr><td class = \"rowNumber\" style = \"font-weight: bold; text-align: right;\">2</td><td style = \"text-align: left;\">ZZ000000000000</td><td style = \"text-align: right;\">20191031</td></tr><tr><td class = \"rowNumber\" style = \"font-weight: bold; text-align: right;\">3</td><td style = \"text-align: left;\">CS028605000002</td><td style = \"text-align: right;\">20190416</td></tr><tr><td class = \"rowNumber\" style = \"font-weight: bold; text-align: right;\">4</td><td style = \"text-align: left;\">CS015515000034</td><td style = \"text-align: right;\">20191010</td></tr><tr><td class = \"rowNumber\" style = \"font-weight: bold; text-align: right;\">5</td><td style = \"text-align: left;\">CS021515000089</td><td style = \"text-align: right;\">20191027</td></tr><tr><td class = \"rowNumber\" style = \"font-weight: bold; text-align: right;\">6</td><td style = \"text-align: left;\">CS015515000083</td><td style = \"text-align: right;\">20190117</td></tr><tr><td class = \"rowNumber\" style = \"font-weight: bold; text-align: right;\">7</td><td style = \"text-align: left;\">CS017414000114</td><td style = \"text-align: right;\">20190721</td></tr><tr><td class = \"rowNumber\" style = \"font-weight: bold; text-align: right;\">8</td><td style = \"text-align: left;\">CS028515000029</td><td style = \"text-align: right;\">20190828</td></tr><tr><td class = \"rowNumber\" style = \"font-weight: bold; text-align: right;\">9</td><td style = \"text-align: left;\">CS035615000040</td><td style = \"text-align: right;\">20190830</td></tr><tr><td class = \"rowNumber\" style = \"font-weight: bold; text-align: right;\">10</td><td style = \"text-align: left;\">CS030515000189</td><td style = \"text-align: right;\">20190729</td></tr></tbody></table></div>"
      ],
      "text/latex": [
       "\\begin{tabular}{r|cc}\n",
       "\t& customer\\_id & sales\\_ymd\\_maximum\\\\\n",
       "\t\\hline\n",
       "\t& String15 & Int64\\\\\n",
       "\t\\hline\n",
       "\t1 & CS011415000006 & 20191029 \\\\\n",
       "\t2 & ZZ000000000000 & 20191031 \\\\\n",
       "\t3 & CS028605000002 & 20190416 \\\\\n",
       "\t4 & CS015515000034 & 20191010 \\\\\n",
       "\t5 & CS021515000089 & 20191027 \\\\\n",
       "\t6 & CS015515000083 & 20190117 \\\\\n",
       "\t7 & CS017414000114 & 20190721 \\\\\n",
       "\t8 & CS028515000029 & 20190828 \\\\\n",
       "\t9 & CS035615000040 & 20190830 \\\\\n",
       "\t10 & CS030515000189 & 20190729 \\\\\n",
       "\\end{tabular}\n"
      ],
      "text/plain": [
       "\u001b[1m10×2 DataFrame\u001b[0m\n",
       "\u001b[1m Row \u001b[0m│\u001b[1m customer_id    \u001b[0m\u001b[1m sales_ymd_maximum \u001b[0m\n",
       "     │\u001b[90m String15       \u001b[0m\u001b[90m Int64             \u001b[0m\n",
       "─────┼───────────────────────────────────\n",
       "   1 │ CS011415000006           20191029\n",
       "   2 │ ZZ000000000000           20191031\n",
       "   3 │ CS028605000002           20190416\n",
       "   4 │ CS015515000034           20191010\n",
       "   5 │ CS021515000089           20191027\n",
       "   6 │ CS015515000083           20190117\n",
       "   7 │ CS017414000114           20190721\n",
       "   8 │ CS028515000029           20190828\n",
       "   9 │ CS035615000040           20190830\n",
       "  10 │ CS030515000189           20190729"
      ]
     },
     "execution_count": 31,
     "metadata": {},
     "output_type": "execute_result"
    }
   ],
   "source": [
    "# p24\n",
    "@chain df_receipt begin\n",
    "    groupby(:customer_id)\n",
    "    combine(:sales_ymd => maximum)\n",
    "    first(10)\n",
    "end"
   ]
  },
  {
   "cell_type": "code",
   "execution_count": 32,
   "metadata": {},
   "outputs": [
    {
     "data": {
      "text/html": [
       "<div><div style = \"float: left;\"><span>10×2 DataFrame</span></div><div style = \"clear: both;\"></div></div><div class = \"data-frame\" style = \"overflow-x: scroll;\"><table class = \"data-frame\" style = \"margin-bottom: 6px;\"><thead><tr class = \"header\"><th class = \"rowNumber\" style = \"font-weight: bold; text-align: right;\">Row</th><th style = \"text-align: left;\">customer_id</th><th style = \"text-align: left;\">sales_ymd_minimum</th></tr><tr class = \"subheader headerLastRow\"><th class = \"rowNumber\" style = \"font-weight: bold; text-align: right;\"></th><th title = \"String15\" style = \"text-align: left;\">String15</th><th title = \"Int64\" style = \"text-align: left;\">Int64</th></tr></thead><tbody><tr><td class = \"rowNumber\" style = \"font-weight: bold; text-align: right;\">1</td><td style = \"text-align: left;\">CS011415000006</td><td style = \"text-align: right;\">20170111</td></tr><tr><td class = \"rowNumber\" style = \"font-weight: bold; text-align: right;\">2</td><td style = \"text-align: left;\">ZZ000000000000</td><td style = \"text-align: right;\">20170101</td></tr><tr><td class = \"rowNumber\" style = \"font-weight: bold; text-align: right;\">3</td><td style = \"text-align: left;\">CS028605000002</td><td style = \"text-align: right;\">20170521</td></tr><tr><td class = \"rowNumber\" style = \"font-weight: bold; text-align: right;\">4</td><td style = \"text-align: left;\">CS015515000034</td><td style = \"text-align: right;\">20170103</td></tr><tr><td class = \"rowNumber\" style = \"font-weight: bold; text-align: right;\">5</td><td style = \"text-align: left;\">CS021515000089</td><td style = \"text-align: right;\">20170117</td></tr><tr><td class = \"rowNumber\" style = \"font-weight: bold; text-align: right;\">6</td><td style = \"text-align: left;\">CS015515000083</td><td style = \"text-align: right;\">20170721</td></tr><tr><td class = \"rowNumber\" style = \"font-weight: bold; text-align: right;\">7</td><td style = \"text-align: left;\">CS017414000114</td><td style = \"text-align: right;\">20170224</td></tr><tr><td class = \"rowNumber\" style = \"font-weight: bold; text-align: right;\">8</td><td style = \"text-align: left;\">CS028515000029</td><td style = \"text-align: right;\">20171130</td></tr><tr><td class = \"rowNumber\" style = \"font-weight: bold; text-align: right;\">9</td><td style = \"text-align: left;\">CS035615000040</td><td style = \"text-align: right;\">20181102</td></tr><tr><td class = \"rowNumber\" style = \"font-weight: bold; text-align: right;\">10</td><td style = \"text-align: left;\">CS030515000189</td><td style = \"text-align: right;\">20170330</td></tr></tbody></table></div>"
      ],
      "text/latex": [
       "\\begin{tabular}{r|cc}\n",
       "\t& customer\\_id & sales\\_ymd\\_minimum\\\\\n",
       "\t\\hline\n",
       "\t& String15 & Int64\\\\\n",
       "\t\\hline\n",
       "\t1 & CS011415000006 & 20170111 \\\\\n",
       "\t2 & ZZ000000000000 & 20170101 \\\\\n",
       "\t3 & CS028605000002 & 20170521 \\\\\n",
       "\t4 & CS015515000034 & 20170103 \\\\\n",
       "\t5 & CS021515000089 & 20170117 \\\\\n",
       "\t6 & CS015515000083 & 20170721 \\\\\n",
       "\t7 & CS017414000114 & 20170224 \\\\\n",
       "\t8 & CS028515000029 & 20171130 \\\\\n",
       "\t9 & CS035615000040 & 20181102 \\\\\n",
       "\t10 & CS030515000189 & 20170330 \\\\\n",
       "\\end{tabular}\n"
      ],
      "text/plain": [
       "\u001b[1m10×2 DataFrame\u001b[0m\n",
       "\u001b[1m Row \u001b[0m│\u001b[1m customer_id    \u001b[0m\u001b[1m sales_ymd_minimum \u001b[0m\n",
       "     │\u001b[90m String15       \u001b[0m\u001b[90m Int64             \u001b[0m\n",
       "─────┼───────────────────────────────────\n",
       "   1 │ CS011415000006           20170111\n",
       "   2 │ ZZ000000000000           20170101\n",
       "   3 │ CS028605000002           20170521\n",
       "   4 │ CS015515000034           20170103\n",
       "   5 │ CS021515000089           20170117\n",
       "   6 │ CS015515000083           20170721\n",
       "   7 │ CS017414000114           20170224\n",
       "   8 │ CS028515000029           20171130\n",
       "   9 │ CS035615000040           20181102\n",
       "  10 │ CS030515000189           20170330"
      ]
     },
     "execution_count": 32,
     "metadata": {},
     "output_type": "execute_result"
    }
   ],
   "source": [
    "# p25\n",
    "@chain df_receipt begin\n",
    "    groupby(:customer_id)\n",
    "    combine(:sales_ymd => minimum)\n",
    "    first(10)\n",
    "end"
   ]
  },
  {
   "cell_type": "code",
   "execution_count": 33,
   "metadata": {},
   "outputs": [
    {
     "data": {
      "text/html": [
       "<div><div style = \"float: left;\"><span>10×3 DataFrame</span></div><div style = \"clear: both;\"></div></div><div class = \"data-frame\" style = \"overflow-x: scroll;\"><table class = \"data-frame\" style = \"margin-bottom: 6px;\"><thead><tr class = \"header\"><th class = \"rowNumber\" style = \"font-weight: bold; text-align: right;\">Row</th><th style = \"text-align: left;\">customer_id</th><th style = \"text-align: left;\">sales_ymd_maximum</th><th style = \"text-align: left;\">sales_ymd_minimum</th></tr><tr class = \"subheader headerLastRow\"><th class = \"rowNumber\" style = \"font-weight: bold; text-align: right;\"></th><th title = \"String15\" style = \"text-align: left;\">String15</th><th title = \"Int64\" style = \"text-align: left;\">Int64</th><th title = \"Int64\" style = \"text-align: left;\">Int64</th></tr></thead><tbody><tr><td class = \"rowNumber\" style = \"font-weight: bold; text-align: right;\">1</td><td style = \"text-align: left;\">CS011415000006</td><td style = \"text-align: right;\">20191029</td><td style = \"text-align: right;\">20170111</td></tr><tr><td class = \"rowNumber\" style = \"font-weight: bold; text-align: right;\">2</td><td style = \"text-align: left;\">ZZ000000000000</td><td style = \"text-align: right;\">20191031</td><td style = \"text-align: right;\">20170101</td></tr><tr><td class = \"rowNumber\" style = \"font-weight: bold; text-align: right;\">3</td><td style = \"text-align: left;\">CS028605000002</td><td style = \"text-align: right;\">20190416</td><td style = \"text-align: right;\">20170521</td></tr><tr><td class = \"rowNumber\" style = \"font-weight: bold; text-align: right;\">4</td><td style = \"text-align: left;\">CS015515000034</td><td style = \"text-align: right;\">20191010</td><td style = \"text-align: right;\">20170103</td></tr><tr><td class = \"rowNumber\" style = \"font-weight: bold; text-align: right;\">5</td><td style = \"text-align: left;\">CS021515000089</td><td style = \"text-align: right;\">20191027</td><td style = \"text-align: right;\">20170117</td></tr><tr><td class = \"rowNumber\" style = \"font-weight: bold; text-align: right;\">6</td><td style = \"text-align: left;\">CS015515000083</td><td style = \"text-align: right;\">20190117</td><td style = \"text-align: right;\">20170721</td></tr><tr><td class = \"rowNumber\" style = \"font-weight: bold; text-align: right;\">7</td><td style = \"text-align: left;\">CS017414000114</td><td style = \"text-align: right;\">20190721</td><td style = \"text-align: right;\">20170224</td></tr><tr><td class = \"rowNumber\" style = \"font-weight: bold; text-align: right;\">8</td><td style = \"text-align: left;\">CS028515000029</td><td style = \"text-align: right;\">20190828</td><td style = \"text-align: right;\">20171130</td></tr><tr><td class = \"rowNumber\" style = \"font-weight: bold; text-align: right;\">9</td><td style = \"text-align: left;\">CS035615000040</td><td style = \"text-align: right;\">20190830</td><td style = \"text-align: right;\">20181102</td></tr><tr><td class = \"rowNumber\" style = \"font-weight: bold; text-align: right;\">10</td><td style = \"text-align: left;\">CS030515000189</td><td style = \"text-align: right;\">20190729</td><td style = \"text-align: right;\">20170330</td></tr></tbody></table></div>"
      ],
      "text/latex": [
       "\\begin{tabular}{r|ccc}\n",
       "\t& customer\\_id & sales\\_ymd\\_maximum & sales\\_ymd\\_minimum\\\\\n",
       "\t\\hline\n",
       "\t& String15 & Int64 & Int64\\\\\n",
       "\t\\hline\n",
       "\t1 & CS011415000006 & 20191029 & 20170111 \\\\\n",
       "\t2 & ZZ000000000000 & 20191031 & 20170101 \\\\\n",
       "\t3 & CS028605000002 & 20190416 & 20170521 \\\\\n",
       "\t4 & CS015515000034 & 20191010 & 20170103 \\\\\n",
       "\t5 & CS021515000089 & 20191027 & 20170117 \\\\\n",
       "\t6 & CS015515000083 & 20190117 & 20170721 \\\\\n",
       "\t7 & CS017414000114 & 20190721 & 20170224 \\\\\n",
       "\t8 & CS028515000029 & 20190828 & 20171130 \\\\\n",
       "\t9 & CS035615000040 & 20190830 & 20181102 \\\\\n",
       "\t10 & CS030515000189 & 20190729 & 20170330 \\\\\n",
       "\\end{tabular}\n"
      ],
      "text/plain": [
       "\u001b[1m10×3 DataFrame\u001b[0m\n",
       "\u001b[1m Row \u001b[0m│\u001b[1m customer_id    \u001b[0m\u001b[1m sales_ymd_maximum \u001b[0m\u001b[1m sales_ymd_minimum \u001b[0m\n",
       "     │\u001b[90m String15       \u001b[0m\u001b[90m Int64             \u001b[0m\u001b[90m Int64             \u001b[0m\n",
       "─────┼──────────────────────────────────────────────────────\n",
       "   1 │ CS011415000006           20191029           20170111\n",
       "   2 │ ZZ000000000000           20191031           20170101\n",
       "   3 │ CS028605000002           20190416           20170521\n",
       "   4 │ CS015515000034           20191010           20170103\n",
       "   5 │ CS021515000089           20191027           20170117\n",
       "   6 │ CS015515000083           20190117           20170721\n",
       "   7 │ CS017414000114           20190721           20170224\n",
       "   8 │ CS028515000029           20190828           20171130\n",
       "   9 │ CS035615000040           20190830           20181102\n",
       "  10 │ CS030515000189           20190729           20170330"
      ]
     },
     "execution_count": 33,
     "metadata": {},
     "output_type": "execute_result"
    }
   ],
   "source": [
    "# p26\n",
    "@chain df_receipt begin\n",
    "    groupby(:customer_id)\n",
    "    combine(_, [:sales_ymd, :sales_ymd] .=> [maximum, minimum])\n",
    "    filter(row -> row.sales_ymd_maximum != row.sales_ymd_minimum ,_) # _は中間データを指す．\n",
    "    first(10)\n",
    "end"
   ]
  },
  {
   "cell_type": "code",
   "execution_count": 34,
   "metadata": {},
   "outputs": [
    {
     "data": {
      "text/html": [
       "<div><div style = \"float: left;\"><span>5×2 DataFrame</span></div><div style = \"clear: both;\"></div></div><div class = \"data-frame\" style = \"overflow-x: scroll;\"><table class = \"data-frame\" style = \"margin-bottom: 6px;\"><thead><tr class = \"header\"><th class = \"rowNumber\" style = \"font-weight: bold; text-align: right;\">Row</th><th style = \"text-align: left;\">store_cd</th><th style = \"text-align: left;\">amount_mean</th></tr><tr class = \"subheader headerLastRow\"><th class = \"rowNumber\" style = \"font-weight: bold; text-align: right;\"></th><th title = \"String7\" style = \"text-align: left;\">String7</th><th title = \"Float64\" style = \"text-align: left;\">Float64</th></tr></thead><tbody><tr><td class = \"rowNumber\" style = \"font-weight: bold; text-align: right;\">1</td><td style = \"text-align: left;\">S13052</td><td style = \"text-align: right;\">402.867</td></tr><tr><td class = \"rowNumber\" style = \"font-weight: bold; text-align: right;\">2</td><td style = \"text-align: left;\">S13015</td><td style = \"text-align: right;\">351.112</td></tr><tr><td class = \"rowNumber\" style = \"font-weight: bold; text-align: right;\">3</td><td style = \"text-align: left;\">S13003</td><td style = \"text-align: right;\">350.916</td></tr><tr><td class = \"rowNumber\" style = \"font-weight: bold; text-align: right;\">4</td><td style = \"text-align: left;\">S14010</td><td style = \"text-align: right;\">348.791</td></tr><tr><td class = \"rowNumber\" style = \"font-weight: bold; text-align: right;\">5</td><td style = \"text-align: left;\">S13001</td><td style = \"text-align: right;\">348.47</td></tr></tbody></table></div>"
      ],
      "text/latex": [
       "\\begin{tabular}{r|cc}\n",
       "\t& store\\_cd & amount\\_mean\\\\\n",
       "\t\\hline\n",
       "\t& String7 & Float64\\\\\n",
       "\t\\hline\n",
       "\t1 & S13052 & 402.867 \\\\\n",
       "\t2 & S13015 & 351.112 \\\\\n",
       "\t3 & S13003 & 350.916 \\\\\n",
       "\t4 & S14010 & 348.791 \\\\\n",
       "\t5 & S13001 & 348.47 \\\\\n",
       "\\end{tabular}\n"
      ],
      "text/plain": [
       "\u001b[1m5×2 DataFrame\u001b[0m\n",
       "\u001b[1m Row \u001b[0m│\u001b[1m store_cd \u001b[0m\u001b[1m amount_mean \u001b[0m\n",
       "     │\u001b[90m String7  \u001b[0m\u001b[90m Float64     \u001b[0m\n",
       "─────┼───────────────────────\n",
       "   1 │ S13052        402.867\n",
       "   2 │ S13015        351.112\n",
       "   3 │ S13003        350.916\n",
       "   4 │ S14010        348.791\n",
       "   5 │ S13001        348.47"
      ]
     },
     "execution_count": 34,
     "metadata": {},
     "output_type": "execute_result"
    }
   ],
   "source": [
    "# p27\n",
    "@chain df_receipt begin\n",
    "    groupby(:store_cd)\n",
    "    combine(:amount => mean)\n",
    "    sort(:amount_mean, rev = true)\n",
    "    first(5)\n",
    "end"
   ]
  },
  {
   "cell_type": "code",
   "execution_count": 35,
   "metadata": {},
   "outputs": [
    {
     "data": {
      "text/html": [
       "<div><div style = \"float: left;\"><span>5×2 DataFrame</span></div><div style = \"clear: both;\"></div></div><div class = \"data-frame\" style = \"overflow-x: scroll;\"><table class = \"data-frame\" style = \"margin-bottom: 6px;\"><thead><tr class = \"header\"><th class = \"rowNumber\" style = \"font-weight: bold; text-align: right;\">Row</th><th style = \"text-align: left;\">store_cd</th><th style = \"text-align: left;\">amount_median</th></tr><tr class = \"subheader headerLastRow\"><th class = \"rowNumber\" style = \"font-weight: bold; text-align: right;\"></th><th title = \"String7\" style = \"text-align: left;\">String7</th><th title = \"Float64\" style = \"text-align: left;\">Float64</th></tr></thead><tbody><tr><td class = \"rowNumber\" style = \"font-weight: bold; text-align: right;\">1</td><td style = \"text-align: left;\">S13052</td><td style = \"text-align: right;\">190.0</td></tr><tr><td class = \"rowNumber\" style = \"font-weight: bold; text-align: right;\">2</td><td style = \"text-align: left;\">S14010</td><td style = \"text-align: right;\">188.0</td></tr><tr><td class = \"rowNumber\" style = \"font-weight: bold; text-align: right;\">3</td><td style = \"text-align: left;\">S14050</td><td style = \"text-align: right;\">185.0</td></tr><tr><td class = \"rowNumber\" style = \"font-weight: bold; text-align: right;\">4</td><td style = \"text-align: left;\">S13003</td><td style = \"text-align: right;\">180.0</td></tr><tr><td class = \"rowNumber\" style = \"font-weight: bold; text-align: right;\">5</td><td style = \"text-align: left;\">S14040</td><td style = \"text-align: right;\">180.0</td></tr></tbody></table></div>"
      ],
      "text/latex": [
       "\\begin{tabular}{r|cc}\n",
       "\t& store\\_cd & amount\\_median\\\\\n",
       "\t\\hline\n",
       "\t& String7 & Float64\\\\\n",
       "\t\\hline\n",
       "\t1 & S13052 & 190.0 \\\\\n",
       "\t2 & S14010 & 188.0 \\\\\n",
       "\t3 & S14050 & 185.0 \\\\\n",
       "\t4 & S13003 & 180.0 \\\\\n",
       "\t5 & S14040 & 180.0 \\\\\n",
       "\\end{tabular}\n"
      ],
      "text/plain": [
       "\u001b[1m5×2 DataFrame\u001b[0m\n",
       "\u001b[1m Row \u001b[0m│\u001b[1m store_cd \u001b[0m\u001b[1m amount_median \u001b[0m\n",
       "     │\u001b[90m String7  \u001b[0m\u001b[90m Float64       \u001b[0m\n",
       "─────┼─────────────────────────\n",
       "   1 │ S13052            190.0\n",
       "   2 │ S14010            188.0\n",
       "   3 │ S14050            185.0\n",
       "   4 │ S13003            180.0\n",
       "   5 │ S14040            180.0"
      ]
     },
     "execution_count": 35,
     "metadata": {},
     "output_type": "execute_result"
    }
   ],
   "source": [
    "# p28\n",
    "@chain df_receipt begin\n",
    "    groupby(:store_cd)\n",
    "    combine(:amount => median)\n",
    "    sort(:amount_median, rev = true)\n",
    "    first(5)\n",
    "end"
   ]
  },
  {
   "cell_type": "code",
   "execution_count": 36,
   "metadata": {},
   "outputs": [
    {
     "data": {
      "text/html": [
       "<div><div style = \"float: left;\"><span>5×2 DataFrame</span></div><div style = \"clear: both;\"></div></div><div class = \"data-frame\" style = \"overflow-x: scroll;\"><table class = \"data-frame\" style = \"margin-bottom: 6px;\"><thead><tr class = \"header\"><th class = \"rowNumber\" style = \"font-weight: bold; text-align: right;\">Row</th><th style = \"text-align: left;\">store_cd</th><th style = \"text-align: left;\">amount_mode</th></tr><tr class = \"subheader headerLastRow\"><th class = \"rowNumber\" style = \"font-weight: bold; text-align: right;\"></th><th title = \"String7\" style = \"text-align: left;\">String7</th><th title = \"Int64\" style = \"text-align: left;\">Int64</th></tr></thead><tbody><tr><td class = \"rowNumber\" style = \"font-weight: bold; text-align: right;\">1</td><td style = \"text-align: left;\">S13003</td><td style = \"text-align: right;\">1100</td></tr><tr><td class = \"rowNumber\" style = \"font-weight: bold; text-align: right;\">2</td><td style = \"text-align: left;\">S13020</td><td style = \"text-align: right;\">1100</td></tr><tr><td class = \"rowNumber\" style = \"font-weight: bold; text-align: right;\">3</td><td style = \"text-align: left;\">S13041</td><td style = \"text-align: right;\">1100</td></tr><tr><td class = \"rowNumber\" style = \"font-weight: bold; text-align: right;\">4</td><td style = \"text-align: left;\">S13019</td><td style = \"text-align: right;\">1100</td></tr><tr><td class = \"rowNumber\" style = \"font-weight: bold; text-align: right;\">5</td><td style = \"text-align: left;\">S14040</td><td style = \"text-align: right;\">298</td></tr></tbody></table></div>"
      ],
      "text/latex": [
       "\\begin{tabular}{r|cc}\n",
       "\t& store\\_cd & amount\\_mode\\\\\n",
       "\t\\hline\n",
       "\t& String7 & Int64\\\\\n",
       "\t\\hline\n",
       "\t1 & S13003 & 1100 \\\\\n",
       "\t2 & S13020 & 1100 \\\\\n",
       "\t3 & S13041 & 1100 \\\\\n",
       "\t4 & S13019 & 1100 \\\\\n",
       "\t5 & S14040 & 298 \\\\\n",
       "\\end{tabular}\n"
      ],
      "text/plain": [
       "\u001b[1m5×2 DataFrame\u001b[0m\n",
       "\u001b[1m Row \u001b[0m│\u001b[1m store_cd \u001b[0m\u001b[1m amount_mode \u001b[0m\n",
       "     │\u001b[90m String7  \u001b[0m\u001b[90m Int64       \u001b[0m\n",
       "─────┼───────────────────────\n",
       "   1 │ S13003           1100\n",
       "   2 │ S13020           1100\n",
       "   3 │ S13041           1100\n",
       "   4 │ S13019           1100\n",
       "   5 │ S14040            298"
      ]
     },
     "execution_count": 36,
     "metadata": {},
     "output_type": "execute_result"
    }
   ],
   "source": [
    "# p29\n",
    "@chain df_receipt begin\n",
    "    groupby(:store_cd)\n",
    "    combine(:amount => mode)\n",
    "    sort(:amount_mode, rev = true)\n",
    "    first(5)\n",
    "end"
   ]
  },
  {
   "cell_type": "code",
   "execution_count": 37,
   "metadata": {},
   "outputs": [
    {
     "data": {
      "text/html": [
       "<div><div style = \"float: left;\"><span>5×2 DataFrame</span></div><div style = \"clear: both;\"></div></div><div class = \"data-frame\" style = \"overflow-x: scroll;\"><table class = \"data-frame\" style = \"margin-bottom: 6px;\"><thead><tr class = \"header\"><th class = \"rowNumber\" style = \"font-weight: bold; text-align: right;\">Row</th><th style = \"text-align: left;\">store_cd</th><th style = \"text-align: left;\">amount_var</th></tr><tr class = \"subheader headerLastRow\"><th class = \"rowNumber\" style = \"font-weight: bold; text-align: right;\"></th><th title = \"String7\" style = \"text-align: left;\">String7</th><th title = \"Float64\" style = \"text-align: left;\">Float64</th></tr></thead><tbody><tr><td class = \"rowNumber\" style = \"font-weight: bold; text-align: right;\">1</td><td style = \"text-align: left;\">S13052</td><td style = \"text-align: right;\">4.41863e5</td></tr><tr><td class = \"rowNumber\" style = \"font-weight: bold; text-align: right;\">2</td><td style = \"text-align: left;\">S14011</td><td style = \"text-align: right;\">3.06442e5</td></tr><tr><td class = \"rowNumber\" style = \"font-weight: bold; text-align: right;\">3</td><td style = \"text-align: left;\">S14034</td><td style = \"text-align: right;\">2.97068e5</td></tr><tr><td class = \"rowNumber\" style = \"font-weight: bold; text-align: right;\">4</td><td style = \"text-align: left;\">S13001</td><td style = \"text-align: right;\">2.95559e5</td></tr><tr><td class = \"rowNumber\" style = \"font-weight: bold; text-align: right;\">5</td><td style = \"text-align: left;\">S13015</td><td style = \"text-align: right;\">2.95427e5</td></tr></tbody></table></div>"
      ],
      "text/latex": [
       "\\begin{tabular}{r|cc}\n",
       "\t& store\\_cd & amount\\_var\\\\\n",
       "\t\\hline\n",
       "\t& String7 & Float64\\\\\n",
       "\t\\hline\n",
       "\t1 & S13052 & 4.41863e5 \\\\\n",
       "\t2 & S14011 & 3.06442e5 \\\\\n",
       "\t3 & S14034 & 2.97068e5 \\\\\n",
       "\t4 & S13001 & 2.95559e5 \\\\\n",
       "\t5 & S13015 & 2.95427e5 \\\\\n",
       "\\end{tabular}\n"
      ],
      "text/plain": [
       "\u001b[1m5×2 DataFrame\u001b[0m\n",
       "\u001b[1m Row \u001b[0m│\u001b[1m store_cd \u001b[0m\u001b[1m amount_var \u001b[0m\n",
       "     │\u001b[90m String7  \u001b[0m\u001b[90m Float64    \u001b[0m\n",
       "─────┼──────────────────────\n",
       "   1 │ S13052     4.41863e5\n",
       "   2 │ S14011     3.06442e5\n",
       "   3 │ S14034     2.97068e5\n",
       "   4 │ S13001     2.95559e5\n",
       "   5 │ S13015     2.95427e5"
      ]
     },
     "execution_count": 37,
     "metadata": {},
     "output_type": "execute_result"
    }
   ],
   "source": [
    "# p30\n",
    "@chain df_receipt begin\n",
    "    groupby(:store_cd)\n",
    "    combine(:amount => var)\n",
    "    sort(:amount_var, rev = true)\n",
    "    first(5)\n",
    "end"
   ]
  },
  {
   "cell_type": "code",
   "execution_count": 38,
   "metadata": {},
   "outputs": [
    {
     "data": {
      "text/html": [
       "<div><div style = \"float: left;\"><span>5×2 DataFrame</span></div><div style = \"clear: both;\"></div></div><div class = \"data-frame\" style = \"overflow-x: scroll;\"><table class = \"data-frame\" style = \"margin-bottom: 6px;\"><thead><tr class = \"header\"><th class = \"rowNumber\" style = \"font-weight: bold; text-align: right;\">Row</th><th style = \"text-align: left;\">store_cd</th><th style = \"text-align: left;\">amount_std</th></tr><tr class = \"subheader headerLastRow\"><th class = \"rowNumber\" style = \"font-weight: bold; text-align: right;\"></th><th title = \"String7\" style = \"text-align: left;\">String7</th><th title = \"Float64\" style = \"text-align: left;\">Float64</th></tr></thead><tbody><tr><td class = \"rowNumber\" style = \"font-weight: bold; text-align: right;\">1</td><td style = \"text-align: left;\">S13052</td><td style = \"text-align: right;\">664.728</td></tr><tr><td class = \"rowNumber\" style = \"font-weight: bold; text-align: right;\">2</td><td style = \"text-align: left;\">S14011</td><td style = \"text-align: right;\">553.572</td></tr><tr><td class = \"rowNumber\" style = \"font-weight: bold; text-align: right;\">3</td><td style = \"text-align: left;\">S14034</td><td style = \"text-align: right;\">545.04</td></tr><tr><td class = \"rowNumber\" style = \"font-weight: bold; text-align: right;\">4</td><td style = \"text-align: left;\">S13001</td><td style = \"text-align: right;\">543.653</td></tr><tr><td class = \"rowNumber\" style = \"font-weight: bold; text-align: right;\">5</td><td style = \"text-align: left;\">S13015</td><td style = \"text-align: right;\">543.532</td></tr></tbody></table></div>"
      ],
      "text/latex": [
       "\\begin{tabular}{r|cc}\n",
       "\t& store\\_cd & amount\\_std\\\\\n",
       "\t\\hline\n",
       "\t& String7 & Float64\\\\\n",
       "\t\\hline\n",
       "\t1 & S13052 & 664.728 \\\\\n",
       "\t2 & S14011 & 553.572 \\\\\n",
       "\t3 & S14034 & 545.04 \\\\\n",
       "\t4 & S13001 & 543.653 \\\\\n",
       "\t5 & S13015 & 543.532 \\\\\n",
       "\\end{tabular}\n"
      ],
      "text/plain": [
       "\u001b[1m5×2 DataFrame\u001b[0m\n",
       "\u001b[1m Row \u001b[0m│\u001b[1m store_cd \u001b[0m\u001b[1m amount_std \u001b[0m\n",
       "     │\u001b[90m String7  \u001b[0m\u001b[90m Float64    \u001b[0m\n",
       "─────┼──────────────────────\n",
       "   1 │ S13052       664.728\n",
       "   2 │ S14011       553.572\n",
       "   3 │ S14034       545.04\n",
       "   4 │ S13001       543.653\n",
       "   5 │ S13015       543.532"
      ]
     },
     "execution_count": 38,
     "metadata": {},
     "output_type": "execute_result"
    }
   ],
   "source": [
    "# p31\n",
    "@chain df_receipt begin\n",
    "    groupby(:store_cd)\n",
    "    combine(:amount => std)\n",
    "    sort(:amount_std, rev = true)\n",
    "    first(5)\n",
    "end"
   ]
  },
  {
   "cell_type": "code",
   "execution_count": 39,
   "metadata": {},
   "outputs": [
    {
     "data": {
      "text/html": [
       "<div><div style = \"float: left;\"><span>260×2 DataFrame</span></div><div style = \"float: right;\"><span style = \"font-style: italic;\">235 rows omitted</span></div><div style = \"clear: both;\"></div></div><div class = \"data-frame\" style = \"overflow-x: scroll;\"><table class = \"data-frame\" style = \"margin-bottom: 6px;\"><thead><tr class = \"header\"><th class = \"rowNumber\" style = \"font-weight: bold; text-align: right;\">Row</th><th style = \"text-align: left;\">store_cd</th><th style = \"text-align: left;\">amount_function</th></tr><tr class = \"subheader headerLastRow\"><th class = \"rowNumber\" style = \"font-weight: bold; text-align: right;\"></th><th title = \"String7\" style = \"text-align: left;\">String7</th><th title = \"Float64\" style = \"text-align: left;\">Float64</th></tr></thead><tbody><tr><td class = \"rowNumber\" style = \"font-weight: bold; text-align: right;\">1</td><td style = \"text-align: left;\">S14006</td><td style = \"text-align: right;\">10.0</td></tr><tr><td class = \"rowNumber\" style = \"font-weight: bold; text-align: right;\">2</td><td style = \"text-align: left;\">S14006</td><td style = \"text-align: right;\">102.0</td></tr><tr><td class = \"rowNumber\" style = \"font-weight: bold; text-align: right;\">3</td><td style = \"text-align: left;\">S14006</td><td style = \"text-align: right;\">175.0</td></tr><tr><td class = \"rowNumber\" style = \"font-weight: bold; text-align: right;\">4</td><td style = \"text-align: left;\">S14006</td><td style = \"text-align: right;\">288.0</td></tr><tr><td class = \"rowNumber\" style = \"font-weight: bold; text-align: right;\">5</td><td style = \"text-align: left;\">S14006</td><td style = \"text-align: right;\">5060.0</td></tr><tr><td class = \"rowNumber\" style = \"font-weight: bold; text-align: right;\">6</td><td style = \"text-align: left;\">S13008</td><td style = \"text-align: right;\">10.0</td></tr><tr><td class = \"rowNumber\" style = \"font-weight: bold; text-align: right;\">7</td><td style = \"text-align: left;\">S13008</td><td style = \"text-align: right;\">102.0</td></tr><tr><td class = \"rowNumber\" style = \"font-weight: bold; text-align: right;\">8</td><td style = \"text-align: left;\">S13008</td><td style = \"text-align: right;\">179.0</td></tr><tr><td class = \"rowNumber\" style = \"font-weight: bold; text-align: right;\">9</td><td style = \"text-align: left;\">S13008</td><td style = \"text-align: right;\">295.25</td></tr><tr><td class = \"rowNumber\" style = \"font-weight: bold; text-align: right;\">10</td><td style = \"text-align: left;\">S13008</td><td style = \"text-align: right;\">5280.0</td></tr><tr><td class = \"rowNumber\" style = \"font-weight: bold; text-align: right;\">11</td><td style = \"text-align: left;\">S14028</td><td style = \"text-align: right;\">10.0</td></tr><tr><td class = \"rowNumber\" style = \"font-weight: bold; text-align: right;\">12</td><td style = \"text-align: left;\">S14028</td><td style = \"text-align: right;\">108.0</td></tr><tr><td class = \"rowNumber\" style = \"font-weight: bold; text-align: right;\">13</td><td style = \"text-align: left;\">S14028</td><td style = \"text-align: right;\">168.0</td></tr><tr><td style = \"text-align: right;\">&vellip;</td><td style = \"text-align: right;\">&vellip;</td><td style = \"text-align: right;\">&vellip;</td></tr><tr><td class = \"rowNumber\" style = \"font-weight: bold; text-align: right;\">249</td><td style = \"text-align: left;\">S14049</td><td style = \"text-align: right;\">280.0</td></tr><tr><td class = \"rowNumber\" style = \"font-weight: bold; text-align: right;\">250</td><td style = \"text-align: left;\">S14049</td><td style = \"text-align: right;\">4400.0</td></tr><tr><td class = \"rowNumber\" style = \"font-weight: bold; text-align: right;\">251</td><td style = \"text-align: left;\">S13051</td><td style = \"text-align: right;\">10.0</td></tr><tr><td class = \"rowNumber\" style = \"font-weight: bold; text-align: right;\">252</td><td style = \"text-align: left;\">S13051</td><td style = \"text-align: right;\">102.0</td></tr><tr><td class = \"rowNumber\" style = \"font-weight: bold; text-align: right;\">253</td><td style = \"text-align: left;\">S13051</td><td style = \"text-align: right;\">176.0</td></tr><tr><td class = \"rowNumber\" style = \"font-weight: bold; text-align: right;\">254</td><td style = \"text-align: left;\">S13051</td><td style = \"text-align: right;\">288.0</td></tr><tr><td class = \"rowNumber\" style = \"font-weight: bold; text-align: right;\">255</td><td style = \"text-align: left;\">S13051</td><td style = \"text-align: right;\">4800.0</td></tr><tr><td class = \"rowNumber\" style = \"font-weight: bold; text-align: right;\">256</td><td style = \"text-align: left;\">S13052</td><td style = \"text-align: right;\">36.0</td></tr><tr><td class = \"rowNumber\" style = \"font-weight: bold; text-align: right;\">257</td><td style = \"text-align: left;\">S13052</td><td style = \"text-align: right;\">102.0</td></tr><tr><td class = \"rowNumber\" style = \"font-weight: bold; text-align: right;\">258</td><td style = \"text-align: left;\">S13052</td><td style = \"text-align: right;\">190.0</td></tr><tr><td class = \"rowNumber\" style = \"font-weight: bold; text-align: right;\">259</td><td style = \"text-align: left;\">S13052</td><td style = \"text-align: right;\">298.0</td></tr><tr><td class = \"rowNumber\" style = \"font-weight: bold; text-align: right;\">260</td><td style = \"text-align: left;\">S13052</td><td style = \"text-align: right;\">5000.0</td></tr></tbody></table></div>"
      ],
      "text/latex": [
       "\\begin{tabular}{r|cc}\n",
       "\t& store\\_cd & amount\\_function\\\\\n",
       "\t\\hline\n",
       "\t& String7 & Float64\\\\\n",
       "\t\\hline\n",
       "\t1 & S14006 & 10.0 \\\\\n",
       "\t2 & S14006 & 102.0 \\\\\n",
       "\t3 & S14006 & 175.0 \\\\\n",
       "\t4 & S14006 & 288.0 \\\\\n",
       "\t5 & S14006 & 5060.0 \\\\\n",
       "\t6 & S13008 & 10.0 \\\\\n",
       "\t7 & S13008 & 102.0 \\\\\n",
       "\t8 & S13008 & 179.0 \\\\\n",
       "\t9 & S13008 & 295.25 \\\\\n",
       "\t10 & S13008 & 5280.0 \\\\\n",
       "\t11 & S14028 & 10.0 \\\\\n",
       "\t12 & S14028 & 108.0 \\\\\n",
       "\t13 & S14028 & 168.0 \\\\\n",
       "\t14 & S14028 & 285.75 \\\\\n",
       "\t15 & S14028 & 5780.0 \\\\\n",
       "\t16 & S14042 & 10.0 \\\\\n",
       "\t17 & S14042 & 102.0 \\\\\n",
       "\t18 & S14042 & 168.0 \\\\\n",
       "\t19 & S14042 & 258.0 \\\\\n",
       "\t20 & S14042 & 5280.0 \\\\\n",
       "\t21 & S14025 & 10.0 \\\\\n",
       "\t22 & S14025 & 102.0 \\\\\n",
       "\t23 & S14025 & 178.0 \\\\\n",
       "\t24 & S14025 & 288.0 \\\\\n",
       "\t25 & S14025 & 5060.0 \\\\\n",
       "\t26 & S13003 & 10.0 \\\\\n",
       "\t27 & S13003 & 102.0 \\\\\n",
       "\t28 & S13003 & 180.0 \\\\\n",
       "\t29 & S13003 & 298.0 \\\\\n",
       "\t30 & S13003 & 5060.0 \\\\\n",
       "\t$\\dots$ & $\\dots$ & $\\dots$ \\\\\n",
       "\\end{tabular}\n"
      ],
      "text/plain": [
       "\u001b[1m260×2 DataFrame\u001b[0m\n",
       "\u001b[1m Row \u001b[0m│\u001b[1m store_cd \u001b[0m\u001b[1m amount_function \u001b[0m\n",
       "     │\u001b[90m String7  \u001b[0m\u001b[90m Float64         \u001b[0m\n",
       "─────┼───────────────────────────\n",
       "   1 │ S14006              10.0\n",
       "   2 │ S14006             102.0\n",
       "   3 │ S14006             175.0\n",
       "   4 │ S14006             288.0\n",
       "   5 │ S14006            5060.0\n",
       "   6 │ S13008              10.0\n",
       "   7 │ S13008             102.0\n",
       "   8 │ S13008             179.0\n",
       "   9 │ S13008             295.25\n",
       "  10 │ S13008            5280.0\n",
       "  11 │ S14028              10.0\n",
       "  ⋮  │    ⋮             ⋮\n",
       " 251 │ S13051              10.0\n",
       " 252 │ S13051             102.0\n",
       " 253 │ S13051             176.0\n",
       " 254 │ S13051             288.0\n",
       " 255 │ S13051            4800.0\n",
       " 256 │ S13052              36.0\n",
       " 257 │ S13052             102.0\n",
       " 258 │ S13052             190.0\n",
       " 259 │ S13052             298.0\n",
       " 260 │ S13052            5000.0\n",
       "\u001b[36m                 239 rows omitted\u001b[0m"
      ]
     },
     "execution_count": 39,
     "metadata": {},
     "output_type": "execute_result"
    }
   ],
   "source": [
    "# p32\n",
    "@chain df_receipt begin\n",
    "    groupby(:store_cd)\n",
    "    combine(:amount => x -> quantile(x, [0, 0.25, 0.5, 0.75, 1]))\n",
    "end"
   ]
  },
  {
   "cell_type": "code",
   "execution_count": 40,
   "metadata": {},
   "outputs": [
    {
     "data": {
      "text/html": [
       "<div><div style = \"float: left;\"><span>13×2 DataFrame</span></div><div style = \"clear: both;\"></div></div><div class = \"data-frame\" style = \"overflow-x: scroll;\"><table class = \"data-frame\" style = \"margin-bottom: 6px;\"><thead><tr class = \"header\"><th class = \"rowNumber\" style = \"font-weight: bold; text-align: right;\">Row</th><th style = \"text-align: left;\">store_cd</th><th style = \"text-align: left;\">amount_mean</th></tr><tr class = \"subheader headerLastRow\"><th class = \"rowNumber\" style = \"font-weight: bold; text-align: right;\"></th><th title = \"String7\" style = \"text-align: left;\">String7</th><th title = \"Float64\" style = \"text-align: left;\">Float64</th></tr></thead><tbody><tr><td class = \"rowNumber\" style = \"font-weight: bold; text-align: right;\">1</td><td style = \"text-align: left;\">S13003</td><td style = \"text-align: right;\">350.916</td></tr><tr><td class = \"rowNumber\" style = \"font-weight: bold; text-align: right;\">2</td><td style = \"text-align: left;\">S13020</td><td style = \"text-align: right;\">337.88</td></tr><tr><td class = \"rowNumber\" style = \"font-weight: bold; text-align: right;\">3</td><td style = \"text-align: left;\">S14026</td><td style = \"text-align: right;\">332.341</td></tr><tr><td class = \"rowNumber\" style = \"font-weight: bold; text-align: right;\">4</td><td style = \"text-align: left;\">S13015</td><td style = \"text-align: right;\">351.112</td></tr><tr><td class = \"rowNumber\" style = \"font-weight: bold; text-align: right;\">5</td><td style = \"text-align: left;\">S14045</td><td style = \"text-align: right;\">330.082</td></tr><tr><td class = \"rowNumber\" style = \"font-weight: bold; text-align: right;\">6</td><td style = \"text-align: left;\">S13019</td><td style = \"text-align: right;\">330.209</td></tr><tr><td class = \"rowNumber\" style = \"font-weight: bold; text-align: right;\">7</td><td style = \"text-align: left;\">S14011</td><td style = \"text-align: right;\">335.718</td></tr><tr><td class = \"rowNumber\" style = \"font-weight: bold; text-align: right;\">8</td><td style = \"text-align: left;\">S13004</td><td style = \"text-align: right;\">330.944</td></tr><tr><td class = \"rowNumber\" style = \"font-weight: bold; text-align: right;\">9</td><td style = \"text-align: left;\">S14010</td><td style = \"text-align: right;\">348.791</td></tr><tr><td class = \"rowNumber\" style = \"font-weight: bold; text-align: right;\">10</td><td style = \"text-align: left;\">S12013</td><td style = \"text-align: right;\">330.194</td></tr><tr><td class = \"rowNumber\" style = \"font-weight: bold; text-align: right;\">11</td><td style = \"text-align: left;\">S13001</td><td style = \"text-align: right;\">348.47</td></tr><tr><td class = \"rowNumber\" style = \"font-weight: bold; text-align: right;\">12</td><td style = \"text-align: left;\">S14047</td><td style = \"text-align: right;\">330.077</td></tr><tr><td class = \"rowNumber\" style = \"font-weight: bold; text-align: right;\">13</td><td style = \"text-align: left;\">S13052</td><td style = \"text-align: right;\">402.867</td></tr></tbody></table></div>"
      ],
      "text/latex": [
       "\\begin{tabular}{r|cc}\n",
       "\t& store\\_cd & amount\\_mean\\\\\n",
       "\t\\hline\n",
       "\t& String7 & Float64\\\\\n",
       "\t\\hline\n",
       "\t1 & S13003 & 350.916 \\\\\n",
       "\t2 & S13020 & 337.88 \\\\\n",
       "\t3 & S14026 & 332.341 \\\\\n",
       "\t4 & S13015 & 351.112 \\\\\n",
       "\t5 & S14045 & 330.082 \\\\\n",
       "\t6 & S13019 & 330.209 \\\\\n",
       "\t7 & S14011 & 335.718 \\\\\n",
       "\t8 & S13004 & 330.944 \\\\\n",
       "\t9 & S14010 & 348.791 \\\\\n",
       "\t10 & S12013 & 330.194 \\\\\n",
       "\t11 & S13001 & 348.47 \\\\\n",
       "\t12 & S14047 & 330.077 \\\\\n",
       "\t13 & S13052 & 402.867 \\\\\n",
       "\\end{tabular}\n"
      ],
      "text/plain": [
       "\u001b[1m13×2 DataFrame\u001b[0m\n",
       "\u001b[1m Row \u001b[0m│\u001b[1m store_cd \u001b[0m\u001b[1m amount_mean \u001b[0m\n",
       "     │\u001b[90m String7  \u001b[0m\u001b[90m Float64     \u001b[0m\n",
       "─────┼───────────────────────\n",
       "   1 │ S13003        350.916\n",
       "   2 │ S13020        337.88\n",
       "   3 │ S14026        332.341\n",
       "   4 │ S13015        351.112\n",
       "   5 │ S14045        330.082\n",
       "   6 │ S13019        330.209\n",
       "   7 │ S14011        335.718\n",
       "   8 │ S13004        330.944\n",
       "   9 │ S14010        348.791\n",
       "  10 │ S12013        330.194\n",
       "  11 │ S13001        348.47\n",
       "  12 │ S14047        330.077\n",
       "  13 │ S13052        402.867"
      ]
     },
     "execution_count": 40,
     "metadata": {},
     "output_type": "execute_result"
    }
   ],
   "source": [
    "# p33\n",
    "@chain df_receipt begin\n",
    "    groupby(:store_cd)\n",
    "    combine(:amount => mean)\n",
    "    subset(:amount_mean => x -> x .>=330)\n",
    "end\n",
    "\n",
    "@chain df_receipt begin\n",
    "    groupby(:store_cd)\n",
    "    combine(:amount => mean)\n",
    "    filter(row -> row.amount_mean >= 330, _)\n",
    "end"
   ]
  },
  {
   "cell_type": "code",
   "execution_count": 41,
   "metadata": {},
   "outputs": [
    {
     "data": {
      "text/plain": [
       "2547.742234529256"
      ]
     },
     "execution_count": 41,
     "metadata": {},
     "output_type": "execute_result"
    }
   ],
   "source": [
    "# p34\n",
    "mean_value = @chain df_receipt begin\n",
    "    filter(row -> !startswith(row.customer_id, \"Z\"), _)\n",
    "    groupby(:customer_id)\n",
    "    combine(:amount => sum)\n",
    "    combine(:amount_sum => mean)\n",
    "    _[1,1]\n",
    "end"
   ]
  },
  {
   "cell_type": "code",
   "execution_count": 42,
   "metadata": {},
   "outputs": [
    {
     "data": {
      "text/html": [
       "<div><div style = \"float: left;\"><span>8×2 DataFrame</span></div><div style = \"clear: both;\"></div></div><div class = \"data-frame\" style = \"overflow-x: scroll;\"><table class = \"data-frame\" style = \"margin-bottom: 6px;\"><thead><tr class = \"header\"><th class = \"rowNumber\" style = \"font-weight: bold; text-align: right;\">Row</th><th style = \"text-align: left;\">customer_id</th><th style = \"text-align: left;\">amount_mean</th></tr><tr class = \"subheader headerLastRow\"><th class = \"rowNumber\" style = \"font-weight: bold; text-align: right;\"></th><th title = \"String15\" style = \"text-align: left;\">String15</th><th title = \"Float64\" style = \"text-align: left;\">Float64</th></tr></thead><tbody><tr><td class = \"rowNumber\" style = \"font-weight: bold; text-align: right;\">1</td><td style = \"text-align: left;\">CS008513000063</td><td style = \"text-align: right;\">2694.0</td></tr><tr><td class = \"rowNumber\" style = \"font-weight: bold; text-align: right;\">2</td><td style = \"text-align: left;\">CS011315000133</td><td style = \"text-align: right;\">2579.0</td></tr><tr><td class = \"rowNumber\" style = \"font-weight: bold; text-align: right;\">3</td><td style = \"text-align: left;\">CS003803000016</td><td style = \"text-align: right;\">2580.0</td></tr><tr><td class = \"rowNumber\" style = \"font-weight: bold; text-align: right;\">4</td><td style = \"text-align: left;\">CS013413000099</td><td style = \"text-align: right;\">2554.0</td></tr><tr><td class = \"rowNumber\" style = \"font-weight: bold; text-align: right;\">5</td><td style = \"text-align: left;\">CS012815000021</td><td style = \"text-align: right;\">2551.0</td></tr><tr><td class = \"rowNumber\" style = \"font-weight: bold; text-align: right;\">6</td><td style = \"text-align: left;\">CS015615000147</td><td style = \"text-align: right;\">2634.0</td></tr><tr><td class = \"rowNumber\" style = \"font-weight: bold; text-align: right;\">7</td><td style = \"text-align: left;\">CS001615000201</td><td style = \"text-align: right;\">2550.0</td></tr><tr><td class = \"rowNumber\" style = \"font-weight: bold; text-align: right;\">8</td><td style = \"text-align: left;\">CS035412000064</td><td style = \"text-align: right;\">2564.0</td></tr></tbody></table></div>"
      ],
      "text/latex": [
       "\\begin{tabular}{r|cc}\n",
       "\t& customer\\_id & amount\\_mean\\\\\n",
       "\t\\hline\n",
       "\t& String15 & Float64\\\\\n",
       "\t\\hline\n",
       "\t1 & CS008513000063 & 2694.0 \\\\\n",
       "\t2 & CS011315000133 & 2579.0 \\\\\n",
       "\t3 & CS003803000016 & 2580.0 \\\\\n",
       "\t4 & CS013413000099 & 2554.0 \\\\\n",
       "\t5 & CS012815000021 & 2551.0 \\\\\n",
       "\t6 & CS015615000147 & 2634.0 \\\\\n",
       "\t7 & CS001615000201 & 2550.0 \\\\\n",
       "\t8 & CS035412000064 & 2564.0 \\\\\n",
       "\\end{tabular}\n"
      ],
      "text/plain": [
       "\u001b[1m8×2 DataFrame\u001b[0m\n",
       "\u001b[1m Row \u001b[0m│\u001b[1m customer_id    \u001b[0m\u001b[1m amount_mean \u001b[0m\n",
       "     │\u001b[90m String15       \u001b[0m\u001b[90m Float64     \u001b[0m\n",
       "─────┼─────────────────────────────\n",
       "   1 │ CS008513000063       2694.0\n",
       "   2 │ CS011315000133       2579.0\n",
       "   3 │ CS003803000016       2580.0\n",
       "   4 │ CS013413000099       2554.0\n",
       "   5 │ CS012815000021       2551.0\n",
       "   6 │ CS015615000147       2634.0\n",
       "   7 │ CS001615000201       2550.0\n",
       "   8 │ CS035412000064       2564.0"
      ]
     },
     "execution_count": 42,
     "metadata": {},
     "output_type": "execute_result"
    }
   ],
   "source": [
    "# p35\n",
    "@chain df_receipt begin\n",
    "    filter(row -> !startswith(row.customer_id, \"Z\"), _)\n",
    "    groupby(:customer_id)\n",
    "    combine(:amount => mean)\n",
    "    filter(row -> row.amount_mean >= mean_value, _)\n",
    "end"
   ]
  },
  {
   "cell_type": "code",
   "execution_count": 43,
   "metadata": {},
   "outputs": [
    {
     "data": {
      "text/html": [
       "<div><div style = \"float: left;\"><span>10×12 DataFrame</span></div><div style = \"clear: both;\"></div></div><div class = \"data-frame\" style = \"overflow-x: scroll;\"><table class = \"data-frame\" style = \"margin-bottom: 6px;\"><thead><tr class = \"header\"><th class = \"rowNumber\" style = \"font-weight: bold; text-align: right;\">Row</th><th style = \"text-align: left;\">sales_ymd</th><th style = \"text-align: left;\">sales_epoch</th><th style = \"text-align: left;\">store_cd</th><th style = \"text-align: left;\">receipt_no</th><th style = \"text-align: left;\">receipt_sub_no</th><th style = \"text-align: left;\">customer_id</th><th style = \"text-align: left;\">product_cd</th><th style = \"text-align: left;\">quantity</th><th style = \"text-align: left;\">amount</th><th style = \"text-align: left;\">ranking</th><th style = \"text-align: left;\">ranking_ordinal</th><th style = \"text-align: left;\">store_name</th></tr><tr class = \"subheader headerLastRow\"><th class = \"rowNumber\" style = \"font-weight: bold; text-align: right;\"></th><th title = \"Int64\" style = \"text-align: left;\">Int64</th><th title = \"Int64\" style = \"text-align: left;\">Int64</th><th title = \"String7\" style = \"text-align: left;\">String7</th><th title = \"Int64\" style = \"text-align: left;\">Int64</th><th title = \"Int64\" style = \"text-align: left;\">Int64</th><th title = \"String15\" style = \"text-align: left;\">String15</th><th title = \"String15\" style = \"text-align: left;\">String15</th><th title = \"Int64\" style = \"text-align: left;\">Int64</th><th title = \"Int64\" style = \"text-align: left;\">Int64</th><th title = \"Int64\" style = \"text-align: left;\">Int64</th><th title = \"Int64\" style = \"text-align: left;\">Int64</th><th title = \"String31\" style = \"text-align: left;\">String31</th></tr></thead><tbody><tr><td class = \"rowNumber\" style = \"font-weight: bold; text-align: right;\">1</td><td style = \"text-align: right;\">20190903</td><td style = \"text-align: right;\">1567468800</td><td style = \"text-align: left;\">S14011</td><td style = \"text-align: right;\">1192</td><td style = \"text-align: right;\">2</td><td style = \"text-align: left;\">CS011415000006</td><td style = \"text-align: left;\">P080104055</td><td style = \"text-align: right;\">1</td><td style = \"text-align: right;\">10925</td><td style = \"text-align: right;\">1</td><td style = \"text-align: right;\">1</td><td style = \"text-align: left;\">日吉本町店</td></tr><tr><td class = \"rowNumber\" style = \"font-weight: bold; text-align: right;\">2</td><td style = \"text-align: right;\">20190304</td><td style = \"text-align: right;\">1551657600</td><td style = \"text-align: left;\">S14046</td><td style = \"text-align: right;\">1152</td><td style = \"text-align: right;\">2</td><td style = \"text-align: left;\">ZZ000000000000</td><td style = \"text-align: left;\">P090302118</td><td style = \"text-align: right;\">1</td><td style = \"text-align: right;\">6800</td><td style = \"text-align: right;\">2</td><td style = \"text-align: right;\">2</td><td style = \"text-align: left;\">北山田店</td></tr><tr><td class = \"rowNumber\" style = \"font-weight: bold; text-align: right;\">3</td><td style = \"text-align: right;\">20170921</td><td style = \"text-align: right;\">1505952000</td><td style = \"text-align: left;\">S14028</td><td style = \"text-align: right;\">1192</td><td style = \"text-align: right;\">2</td><td style = \"text-align: left;\">CS028605000002</td><td style = \"text-align: left;\">P090907210</td><td style = \"text-align: right;\">1</td><td style = \"text-align: right;\">5780</td><td style = \"text-align: right;\">3</td><td style = \"text-align: right;\">3</td><td style = \"text-align: left;\">二ツ橋店</td></tr><tr><td class = \"rowNumber\" style = \"font-weight: bold; text-align: right;\">4</td><td style = \"text-align: right;\">20170721</td><td style = \"text-align: right;\">1500595200</td><td style = \"text-align: left;\">S13015</td><td style = \"text-align: right;\">1112</td><td style = \"text-align: right;\">1</td><td style = \"text-align: left;\">CS015515000034</td><td style = \"text-align: left;\">P090907208</td><td style = \"text-align: right;\">1</td><td style = \"text-align: right;\">5480</td><td style = \"text-align: right;\">4</td><td style = \"text-align: right;\">4</td><td style = \"text-align: left;\">南砂店</td></tr><tr><td class = \"rowNumber\" style = \"font-weight: bold; text-align: right;\">5</td><td style = \"text-align: right;\">20190103</td><td style = \"text-align: right;\">1546473600</td><td style = \"text-align: left;\">S14021</td><td style = \"text-align: right;\">1162</td><td style = \"text-align: right;\">2</td><td style = \"text-align: left;\">ZZ000000000000</td><td style = \"text-align: left;\">P090907208</td><td style = \"text-align: right;\">1</td><td style = \"text-align: right;\">5480</td><td style = \"text-align: right;\">4</td><td style = \"text-align: right;\">5</td><td style = \"text-align: left;\">伊勢原店</td></tr><tr><td class = \"rowNumber\" style = \"font-weight: bold; text-align: right;\">6</td><td style = \"text-align: right;\">20190724</td><td style = \"text-align: right;\">1563926400</td><td style = \"text-align: left;\">S13009</td><td style = \"text-align: right;\">1192</td><td style = \"text-align: right;\">2</td><td style = \"text-align: left;\">ZZ000000000000</td><td style = \"text-align: left;\">P090907209</td><td style = \"text-align: right;\">1</td><td style = \"text-align: right;\">5480</td><td style = \"text-align: right;\">4</td><td style = \"text-align: right;\">6</td><td style = \"text-align: left;\">用賀店</td></tr><tr><td class = \"rowNumber\" style = \"font-weight: bold; text-align: right;\">7</td><td style = \"text-align: right;\">20180621</td><td style = \"text-align: right;\">1529539200</td><td style = \"text-align: left;\">S13004</td><td style = \"text-align: right;\">1172</td><td style = \"text-align: right;\">2</td><td style = \"text-align: left;\">ZZ000000000000</td><td style = \"text-align: left;\">P090907206</td><td style = \"text-align: right;\">1</td><td style = \"text-align: right;\">5440</td><td style = \"text-align: right;\">7</td><td style = \"text-align: right;\">7</td><td style = \"text-align: left;\">鷺宮店</td></tr><tr><td class = \"rowNumber\" style = \"font-weight: bold; text-align: right;\">8</td><td style = \"text-align: right;\">20190209</td><td style = \"text-align: right;\">1549670400</td><td style = \"text-align: left;\">S14021</td><td style = \"text-align: right;\">1142</td><td style = \"text-align: right;\">2</td><td style = \"text-align: left;\">CS021515000089</td><td style = \"text-align: left;\">P090907206</td><td style = \"text-align: right;\">1</td><td style = \"text-align: right;\">5440</td><td style = \"text-align: right;\">7</td><td style = \"text-align: right;\">8</td><td style = \"text-align: left;\">伊勢原店</td></tr><tr><td class = \"rowNumber\" style = \"font-weight: bold; text-align: right;\">9</td><td style = \"text-align: right;\">20181219</td><td style = \"text-align: right;\">1545177600</td><td style = \"text-align: left;\">S13015</td><td style = \"text-align: right;\">1132</td><td style = \"text-align: right;\">1</td><td style = \"text-align: left;\">CS015515000083</td><td style = \"text-align: left;\">P071301009</td><td style = \"text-align: right;\">1</td><td style = \"text-align: right;\">5280</td><td style = \"text-align: right;\">9</td><td style = \"text-align: right;\">9</td><td style = \"text-align: left;\">南砂店</td></tr><tr><td class = \"rowNumber\" style = \"font-weight: bold; text-align: right;\">10</td><td style = \"text-align: right;\">20180603</td><td style = \"text-align: right;\">1527984000</td><td style = \"text-align: left;\">S13017</td><td style = \"text-align: right;\">1192</td><td style = \"text-align: right;\">1</td><td style = \"text-align: left;\">CS017414000114</td><td style = \"text-align: left;\">P071301009</td><td style = \"text-align: right;\">1</td><td style = \"text-align: right;\">5280</td><td style = \"text-align: right;\">9</td><td style = \"text-align: right;\">10</td><td style = \"text-align: left;\">高円寺南店</td></tr></tbody></table></div>"
      ],
      "text/latex": [
       "\\begin{tabular}{r|cccccccc}\n",
       "\t& sales\\_ymd & sales\\_epoch & store\\_cd & receipt\\_no & receipt\\_sub\\_no & customer\\_id & product\\_cd & \\\\\n",
       "\t\\hline\n",
       "\t& Int64 & Int64 & String7 & Int64 & Int64 & String15 & String15 & \\\\\n",
       "\t\\hline\n",
       "\t1 & 20190903 & 1567468800 & S14011 & 1192 & 2 & CS011415000006 & P080104055 & $\\dots$ \\\\\n",
       "\t2 & 20190304 & 1551657600 & S14046 & 1152 & 2 & ZZ000000000000 & P090302118 & $\\dots$ \\\\\n",
       "\t3 & 20170921 & 1505952000 & S14028 & 1192 & 2 & CS028605000002 & P090907210 & $\\dots$ \\\\\n",
       "\t4 & 20170721 & 1500595200 & S13015 & 1112 & 1 & CS015515000034 & P090907208 & $\\dots$ \\\\\n",
       "\t5 & 20190103 & 1546473600 & S14021 & 1162 & 2 & ZZ000000000000 & P090907208 & $\\dots$ \\\\\n",
       "\t6 & 20190724 & 1563926400 & S13009 & 1192 & 2 & ZZ000000000000 & P090907209 & $\\dots$ \\\\\n",
       "\t7 & 20180621 & 1529539200 & S13004 & 1172 & 2 & ZZ000000000000 & P090907206 & $\\dots$ \\\\\n",
       "\t8 & 20190209 & 1549670400 & S14021 & 1142 & 2 & CS021515000089 & P090907206 & $\\dots$ \\\\\n",
       "\t9 & 20181219 & 1545177600 & S13015 & 1132 & 1 & CS015515000083 & P071301009 & $\\dots$ \\\\\n",
       "\t10 & 20180603 & 1527984000 & S13017 & 1192 & 1 & CS017414000114 & P071301009 & $\\dots$ \\\\\n",
       "\\end{tabular}\n"
      ],
      "text/plain": [
       "\u001b[1m10×12 DataFrame\u001b[0m\n",
       "\u001b[1m Row \u001b[0m│\u001b[1m sales_ymd \u001b[0m\u001b[1m sales_epoch \u001b[0m\u001b[1m store_cd \u001b[0m\u001b[1m receipt_no \u001b[0m\u001b[1m receipt_sub_no \u001b[0m\u001b[1m customer_\u001b[0m ⋯\n",
       "     │\u001b[90m Int64     \u001b[0m\u001b[90m Int64       \u001b[0m\u001b[90m String7  \u001b[0m\u001b[90m Int64      \u001b[0m\u001b[90m Int64          \u001b[0m\u001b[90m String15 \u001b[0m ⋯\n",
       "─────┼──────────────────────────────────────────────────────────────────────────\n",
       "   1 │  20190903   1567468800  S14011          1192               2  CS0114150 ⋯\n",
       "   2 │  20190304   1551657600  S14046          1152               2  ZZ0000000\n",
       "   3 │  20170921   1505952000  S14028          1192               2  CS0286050\n",
       "   4 │  20170721   1500595200  S13015          1112               1  CS0155150\n",
       "   5 │  20190103   1546473600  S14021          1162               2  ZZ0000000 ⋯\n",
       "   6 │  20190724   1563926400  S13009          1192               2  ZZ0000000\n",
       "   7 │  20180621   1529539200  S13004          1172               2  ZZ0000000\n",
       "   8 │  20190209   1549670400  S14021          1142               2  CS0215150\n",
       "   9 │  20181219   1545177600  S13015          1132               1  CS0155150 ⋯\n",
       "  10 │  20180603   1527984000  S13017          1192               1  CS0174140\n",
       "\u001b[36m                                                               7 columns omitted\u001b[0m"
      ]
     },
     "execution_count": 43,
     "metadata": {},
     "output_type": "execute_result"
    }
   ],
   "source": [
    "# p36\n",
    "@chain innerjoin(df_receipt, df_store, on = :store_cd) begin\n",
    "        select(names(df_receipt), :store_name)\n",
    "        first(10)\n",
    "    end"
   ]
  },
  {
   "cell_type": "code",
   "execution_count": 44,
   "metadata": {},
   "outputs": [
    {
     "data": {
      "text/html": [
       "<div><div style = \"float: left;\"><span>10×7 DataFrame</span></div><div style = \"clear: both;\"></div></div><div class = \"data-frame\" style = \"overflow-x: scroll;\"><table class = \"data-frame\" style = \"margin-bottom: 6px;\"><thead><tr class = \"header\"><th class = \"rowNumber\" style = \"font-weight: bold; text-align: right;\">Row</th><th style = \"text-align: left;\">\\ufeffproduct_cd</th><th style = \"text-align: left;\">category_major_cd</th><th style = \"text-align: left;\">category_medium_cd</th><th style = \"text-align: left;\">category_small_cd</th><th style = \"text-align: left;\">unit_price</th><th style = \"text-align: left;\">unit_cost</th><th style = \"text-align: left;\">category_small_name</th></tr><tr class = \"subheader headerLastRow\"><th class = \"rowNumber\" style = \"font-weight: bold; text-align: right;\"></th><th title = \"String15\" style = \"text-align: left;\">String15</th><th title = \"Int64\" style = \"text-align: left;\">Int64</th><th title = \"Int64\" style = \"text-align: left;\">Int64</th><th title = \"Int64\" style = \"text-align: left;\">Int64</th><th title = \"Union{Missing, Int64}\" style = \"text-align: left;\">Int64?</th><th title = \"Union{Missing, Int64}\" style = \"text-align: left;\">Int64?</th><th title = \"String\" style = \"text-align: left;\">String</th></tr></thead><tbody><tr><td class = \"rowNumber\" style = \"font-weight: bold; text-align: right;\">1</td><td style = \"text-align: left;\">P040101001</td><td style = \"text-align: right;\">4</td><td style = \"text-align: right;\">401</td><td style = \"text-align: right;\">40101</td><td style = \"text-align: right;\">198</td><td style = \"text-align: right;\">149</td><td style = \"text-align: left;\">弁当類</td></tr><tr><td class = \"rowNumber\" style = \"font-weight: bold; text-align: right;\">2</td><td style = \"text-align: left;\">P040101002</td><td style = \"text-align: right;\">4</td><td style = \"text-align: right;\">401</td><td style = \"text-align: right;\">40101</td><td style = \"text-align: right;\">218</td><td style = \"text-align: right;\">164</td><td style = \"text-align: left;\">弁当類</td></tr><tr><td class = \"rowNumber\" style = \"font-weight: bold; text-align: right;\">3</td><td style = \"text-align: left;\">P040101003</td><td style = \"text-align: right;\">4</td><td style = \"text-align: right;\">401</td><td style = \"text-align: right;\">40101</td><td style = \"text-align: right;\">230</td><td style = \"text-align: right;\">173</td><td style = \"text-align: left;\">弁当類</td></tr><tr><td class = \"rowNumber\" style = \"font-weight: bold; text-align: right;\">4</td><td style = \"text-align: left;\">P040101004</td><td style = \"text-align: right;\">4</td><td style = \"text-align: right;\">401</td><td style = \"text-align: right;\">40101</td><td style = \"text-align: right;\">248</td><td style = \"text-align: right;\">186</td><td style = \"text-align: left;\">弁当類</td></tr><tr><td class = \"rowNumber\" style = \"font-weight: bold; text-align: right;\">5</td><td style = \"text-align: left;\">P040101005</td><td style = \"text-align: right;\">4</td><td style = \"text-align: right;\">401</td><td style = \"text-align: right;\">40101</td><td style = \"text-align: right;\">268</td><td style = \"text-align: right;\">201</td><td style = \"text-align: left;\">弁当類</td></tr><tr><td class = \"rowNumber\" style = \"font-weight: bold; text-align: right;\">6</td><td style = \"text-align: left;\">P040101006</td><td style = \"text-align: right;\">4</td><td style = \"text-align: right;\">401</td><td style = \"text-align: right;\">40101</td><td style = \"text-align: right;\">298</td><td style = \"text-align: right;\">224</td><td style = \"text-align: left;\">弁当類</td></tr><tr><td class = \"rowNumber\" style = \"font-weight: bold; text-align: right;\">7</td><td style = \"text-align: left;\">P040101007</td><td style = \"text-align: right;\">4</td><td style = \"text-align: right;\">401</td><td style = \"text-align: right;\">40101</td><td style = \"text-align: right;\">338</td><td style = \"text-align: right;\">254</td><td style = \"text-align: left;\">弁当類</td></tr><tr><td class = \"rowNumber\" style = \"font-weight: bold; text-align: right;\">8</td><td style = \"text-align: left;\">P040101008</td><td style = \"text-align: right;\">4</td><td style = \"text-align: right;\">401</td><td style = \"text-align: right;\">40101</td><td style = \"text-align: right;\">420</td><td style = \"text-align: right;\">315</td><td style = \"text-align: left;\">弁当類</td></tr><tr><td class = \"rowNumber\" style = \"font-weight: bold; text-align: right;\">9</td><td style = \"text-align: left;\">P040101009</td><td style = \"text-align: right;\">4</td><td style = \"text-align: right;\">401</td><td style = \"text-align: right;\">40101</td><td style = \"text-align: right;\">498</td><td style = \"text-align: right;\">374</td><td style = \"text-align: left;\">弁当類</td></tr><tr><td class = \"rowNumber\" style = \"font-weight: bold; text-align: right;\">10</td><td style = \"text-align: left;\">P040101010</td><td style = \"text-align: right;\">4</td><td style = \"text-align: right;\">401</td><td style = \"text-align: right;\">40101</td><td style = \"text-align: right;\">580</td><td style = \"text-align: right;\">435</td><td style = \"text-align: left;\">弁当類</td></tr></tbody></table></div>"
      ],
      "text/latex": [
       "\\begin{tabular}{r|cccccc}\n",
       "\t& ﻿product\\_cd & category\\_major\\_cd & category\\_medium\\_cd & category\\_small\\_cd & unit\\_price & \\\\\n",
       "\t\\hline\n",
       "\t& String15 & Int64 & Int64 & Int64 & Int64? & \\\\\n",
       "\t\\hline\n",
       "\t1 & P040101001 & 4 & 401 & 40101 & 198 & $\\dots$ \\\\\n",
       "\t2 & P040101002 & 4 & 401 & 40101 & 218 & $\\dots$ \\\\\n",
       "\t3 & P040101003 & 4 & 401 & 40101 & 230 & $\\dots$ \\\\\n",
       "\t4 & P040101004 & 4 & 401 & 40101 & 248 & $\\dots$ \\\\\n",
       "\t5 & P040101005 & 4 & 401 & 40101 & 268 & $\\dots$ \\\\\n",
       "\t6 & P040101006 & 4 & 401 & 40101 & 298 & $\\dots$ \\\\\n",
       "\t7 & P040101007 & 4 & 401 & 40101 & 338 & $\\dots$ \\\\\n",
       "\t8 & P040101008 & 4 & 401 & 40101 & 420 & $\\dots$ \\\\\n",
       "\t9 & P040101009 & 4 & 401 & 40101 & 498 & $\\dots$ \\\\\n",
       "\t10 & P040101010 & 4 & 401 & 40101 & 580 & $\\dots$ \\\\\n",
       "\\end{tabular}\n"
      ],
      "text/plain": [
       "\u001b[1m10×7 DataFrame\u001b[0m\n",
       "\u001b[1m Row \u001b[0m│\u001b[1m \\ufeffproduct_cd \u001b[0m\u001b[1m category_major_cd \u001b[0m\u001b[1m category_medium_cd \u001b[0m\u001b[1m category_small\u001b[0m ⋯\n",
       "     │\u001b[90m String15         \u001b[0m\u001b[90m Int64             \u001b[0m\u001b[90m Int64              \u001b[0m\u001b[90m Int64         \u001b[0m ⋯\n",
       "─────┼──────────────────────────────────────────────────────────────────────────\n",
       "   1 │ P040101001                        4                 401              40 ⋯\n",
       "   2 │ P040101002                        4                 401              40\n",
       "   3 │ P040101003                        4                 401              40\n",
       "   4 │ P040101004                        4                 401              40\n",
       "   5 │ P040101005                        4                 401              40 ⋯\n",
       "   6 │ P040101006                        4                 401              40\n",
       "   7 │ P040101007                        4                 401              40\n",
       "   8 │ P040101008                        4                 401              40\n",
       "   9 │ P040101009                        4                 401              40 ⋯\n",
       "  10 │ P040101010                        4                 401              40\n",
       "\u001b[36m                                                               4 columns omitted\u001b[0m"
      ]
     },
     "execution_count": 44,
     "metadata": {},
     "output_type": "execute_result"
    }
   ],
   "source": [
    "# p37\n",
    "@chain innerjoin(df_product, df_category, on = [:category_medium_cd, :category_small_cd]) begin\n",
    "        select(names(df_product), :category_small_name)\n",
    "        first(10)\n",
    "    end"
   ]
  },
  {
   "cell_type": "code",
   "execution_count": 45,
   "metadata": {},
   "outputs": [
    {
     "data": {
      "text/html": [
       "<div><div style = \"float: left;\"><span>10×12 DataFrame</span></div><div style = \"clear: both;\"></div></div><div class = \"data-frame\" style = \"overflow-x: scroll;\"><table class = \"data-frame\" style = \"margin-bottom: 6px;\"><thead><tr class = \"header\"><th class = \"rowNumber\" style = \"font-weight: bold; text-align: right;\">Row</th><th style = \"text-align: left;\">customer_id</th><th style = \"text-align: left;\">customer_name</th><th style = \"text-align: left;\">gender_cd</th><th style = \"text-align: left;\">gender</th><th style = \"text-align: left;\">birth_day</th><th style = \"text-align: left;\">age</th><th style = \"text-align: left;\">postal_cd</th><th style = \"text-align: left;\">address</th><th style = \"text-align: left;\">application_store_cd</th><th style = \"text-align: left;\">application_date</th><th style = \"text-align: left;\">status_cd</th><th style = \"text-align: left;\">amount_sum</th></tr><tr class = \"subheader headerLastRow\"><th class = \"rowNumber\" style = \"font-weight: bold; text-align: right;\"></th><th title = \"String15\" style = \"text-align: left;\">String15</th><th title = \"String31\" style = \"text-align: left;\">String31</th><th title = \"Int64\" style = \"text-align: left;\">Int64</th><th title = \"String7\" style = \"text-align: left;\">String7</th><th title = \"Dates.Date\" style = \"text-align: left;\">Date</th><th title = \"Int64\" style = \"text-align: left;\">Int64</th><th title = \"String15\" style = \"text-align: left;\">String15</th><th title = \"String\" style = \"text-align: left;\">String</th><th title = \"String7\" style = \"text-align: left;\">String7</th><th title = \"Int64\" style = \"text-align: left;\">Int64</th><th title = \"String15\" style = \"text-align: left;\">String15</th><th title = \"Union{Missing, Int64}\" style = \"text-align: left;\">Int64?</th></tr></thead><tbody><tr><td class = \"rowNumber\" style = \"font-weight: bold; text-align: right;\">1</td><td style = \"text-align: left;\">CS035114000004</td><td style = \"text-align: left;\">大村 美里</td><td style = \"text-align: right;\">1</td><td style = \"text-align: left;\">女性</td><td style = \"text-align: left;\">2007-11-25</td><td style = \"text-align: right;\">11</td><td style = \"text-align: left;\">156-0053</td><td style = \"text-align: left;\">東京都世田谷区桜**********</td><td style = \"text-align: left;\">S13035</td><td style = \"text-align: right;\">20150619</td><td style = \"text-align: left;\">6-20091205-6</td><td style = \"text-align: right;\">812</td></tr><tr><td class = \"rowNumber\" style = \"font-weight: bold; text-align: right;\">2</td><td style = \"text-align: left;\">CS004115000014</td><td style = \"text-align: left;\">松井 京子</td><td style = \"text-align: right;\">1</td><td style = \"text-align: left;\">女性</td><td style = \"text-align: left;\">2007-08-09</td><td style = \"text-align: right;\">11</td><td style = \"text-align: left;\">165-0031</td><td style = \"text-align: left;\">東京都中野区上鷺宮**********</td><td style = \"text-align: left;\">S13004</td><td style = \"text-align: right;\">20161120</td><td style = \"text-align: left;\">1-20081231-1</td><td style = \"text-align: right;\">247</td></tr><tr><td class = \"rowNumber\" style = \"font-weight: bold; text-align: right;\">3</td><td style = \"text-align: left;\">CS002114000010</td><td style = \"text-align: left;\">山内 遥</td><td style = \"text-align: right;\">1</td><td style = \"text-align: left;\">女性</td><td style = \"text-align: left;\">2007-06-03</td><td style = \"text-align: right;\">11</td><td style = \"text-align: left;\">184-0015</td><td style = \"text-align: left;\">東京都小金井市貫井北町**********</td><td style = \"text-align: left;\">S13002</td><td style = \"text-align: right;\">20160920</td><td style = \"text-align: left;\">6-20100510-1</td><td style = \"text-align: right;\">828</td></tr><tr><td class = \"rowNumber\" style = \"font-weight: bold; text-align: right;\">4</td><td style = \"text-align: left;\">CS025115000002</td><td style = \"text-align: left;\">小柳 夏希</td><td style = \"text-align: right;\">1</td><td style = \"text-align: left;\">女性</td><td style = \"text-align: left;\">2007-04-18</td><td style = \"text-align: right;\">11</td><td style = \"text-align: left;\">245-0018</td><td style = \"text-align: left;\">神奈川県横浜市泉区上飯田町**********</td><td style = \"text-align: left;\">S14025</td><td style = \"text-align: right;\">20160116</td><td style = \"text-align: left;\">D-20100913-D</td><td style = \"text-align: right;\">4641</td></tr><tr><td class = \"rowNumber\" style = \"font-weight: bold; text-align: right;\">5</td><td style = \"text-align: left;\">CS007115000006</td><td style = \"text-align: left;\">福岡 瞬</td><td style = \"text-align: right;\">1</td><td style = \"text-align: left;\">女性</td><td style = \"text-align: left;\">2007-03-10</td><td style = \"text-align: right;\">12</td><td style = \"text-align: left;\">285-0845</td><td style = \"text-align: left;\">千葉県佐倉市西志津**********</td><td style = \"text-align: left;\">S12007</td><td style = \"text-align: right;\">20151118</td><td style = \"text-align: left;\">F-20101016-F</td><td style = \"text-align: right;\">11528</td></tr><tr><td class = \"rowNumber\" style = \"font-weight: bold; text-align: right;\">6</td><td style = \"text-align: left;\">CS014113000008</td><td style = \"text-align: left;\">矢口 莉緒</td><td style = \"text-align: right;\">1</td><td style = \"text-align: left;\">女性</td><td style = \"text-align: left;\">2007-03-05</td><td style = \"text-align: right;\">12</td><td style = \"text-align: left;\">260-0041</td><td style = \"text-align: left;\">千葉県千葉市中央区東千葉**********</td><td style = \"text-align: left;\">S12014</td><td style = \"text-align: right;\">20150622</td><td style = \"text-align: left;\">3-20091108-6</td><td style = \"text-align: right;\">438</td></tr><tr><td class = \"rowNumber\" style = \"font-weight: bold; text-align: right;\">7</td><td style = \"text-align: left;\">CS035112000001</td><td style = \"text-align: left;\">宮下 ひろ子</td><td style = \"text-align: right;\">1</td><td style = \"text-align: left;\">女性</td><td style = \"text-align: left;\">2007-01-11</td><td style = \"text-align: right;\">12</td><td style = \"text-align: left;\">152-0035</td><td style = \"text-align: left;\">東京都目黒区自由が丘**********</td><td style = \"text-align: left;\">S13035</td><td style = \"text-align: right;\">20150227</td><td style = \"text-align: left;\">7-20101003-6</td><td style = \"text-align: right;\">1174</td></tr><tr><td class = \"rowNumber\" style = \"font-weight: bold; text-align: right;\">8</td><td style = \"text-align: left;\">CS029113000009</td><td style = \"text-align: left;\">長田 沙知絵</td><td style = \"text-align: right;\">1</td><td style = \"text-align: left;\">女性</td><td style = \"text-align: left;\">2006-11-25</td><td style = \"text-align: right;\">12</td><td style = \"text-align: left;\">279-0004</td><td style = \"text-align: left;\">千葉県浦安市猫実**********</td><td style = \"text-align: left;\">S12029</td><td style = \"text-align: right;\">20150903</td><td style = \"text-align: left;\">5-20100823-5</td><td style = \"text-align: right;\">762</td></tr><tr><td class = \"rowNumber\" style = \"font-weight: bold; text-align: right;\">9</td><td style = \"text-align: left;\">CS023114000002</td><td style = \"text-align: left;\">葛西 茜</td><td style = \"text-align: right;\">1</td><td style = \"text-align: left;\">女性</td><td style = \"text-align: left;\">2006-10-10</td><td style = \"text-align: right;\">12</td><td style = \"text-align: left;\">144-0046</td><td style = \"text-align: left;\">東京都大田区東六郷**********</td><td style = \"text-align: left;\">S14023</td><td style = \"text-align: right;\">20150117</td><td style = \"text-align: left;\">A-20100228-D</td><td style = \"text-align: right;\">2262</td></tr><tr><td class = \"rowNumber\" style = \"font-weight: bold; text-align: right;\">10</td><td style = \"text-align: left;\">CS049113000002</td><td style = \"text-align: left;\">瀬川 美嘉</td><td style = \"text-align: right;\">1</td><td style = \"text-align: left;\">女性</td><td style = \"text-align: left;\">2006-09-20</td><td style = \"text-align: right;\">12</td><td style = \"text-align: left;\">144-0045</td><td style = \"text-align: left;\">東京都大田区南六郷**********</td><td style = \"text-align: left;\">S14049</td><td style = \"text-align: right;\">20170623</td><td style = \"text-align: left;\">9-20100524-6</td><td style = \"text-align: right;\">1723</td></tr></tbody></table></div>"
      ],
      "text/latex": [
       "\\begin{tabular}{r|cccccccc}\n",
       "\t& customer\\_id & customer\\_name & gender\\_cd & gender & birth\\_day & age & postal\\_cd & \\\\\n",
       "\t\\hline\n",
       "\t& String15 & String31 & Int64 & String7 & Date & Int64 & String15 & \\\\\n",
       "\t\\hline\n",
       "\t1 & CS035114000004 & 大村 美里 & 1 & 女性 & 2007-11-25 & 11 & 156-0053 & $\\dots$ \\\\\n",
       "\t2 & CS004115000014 & 松井 京子 & 1 & 女性 & 2007-08-09 & 11 & 165-0031 & $\\dots$ \\\\\n",
       "\t3 & CS002114000010 & 山内 遥 & 1 & 女性 & 2007-06-03 & 11 & 184-0015 & $\\dots$ \\\\\n",
       "\t4 & CS025115000002 & 小柳 夏希 & 1 & 女性 & 2007-04-18 & 11 & 245-0018 & $\\dots$ \\\\\n",
       "\t5 & CS007115000006 & 福岡 瞬 & 1 & 女性 & 2007-03-10 & 12 & 285-0845 & $\\dots$ \\\\\n",
       "\t6 & CS014113000008 & 矢口 莉緒 & 1 & 女性 & 2007-03-05 & 12 & 260-0041 & $\\dots$ \\\\\n",
       "\t7 & CS035112000001 & 宮下 ひろ子 & 1 & 女性 & 2007-01-11 & 12 & 152-0035 & $\\dots$ \\\\\n",
       "\t8 & CS029113000009 & 長田 沙知絵 & 1 & 女性 & 2006-11-25 & 12 & 279-0004 & $\\dots$ \\\\\n",
       "\t9 & CS023114000002 & 葛西 茜 & 1 & 女性 & 2006-10-10 & 12 & 144-0046 & $\\dots$ \\\\\n",
       "\t10 & CS049113000002 & 瀬川 美嘉 & 1 & 女性 & 2006-09-20 & 12 & 144-0045 & $\\dots$ \\\\\n",
       "\\end{tabular}\n"
      ],
      "text/plain": [
       "\u001b[1m10×12 DataFrame\u001b[0m\n",
       "\u001b[1m Row \u001b[0m│\u001b[1m customer_id    \u001b[0m\u001b[1m customer_name \u001b[0m\u001b[1m gender_cd \u001b[0m\u001b[1m gender  \u001b[0m\u001b[1m birth_day  \u001b[0m\u001b[1m age   \u001b[0m\u001b[1m p\u001b[0m ⋯\n",
       "     │\u001b[90m String15       \u001b[0m\u001b[90m String31      \u001b[0m\u001b[90m Int64     \u001b[0m\u001b[90m String7 \u001b[0m\u001b[90m Date       \u001b[0m\u001b[90m Int64 \u001b[0m\u001b[90m S\u001b[0m ⋯\n",
       "─────┼──────────────────────────────────────────────────────────────────────────\n",
       "   1 │ CS035114000004  大村 美里              1  女性     2007-11-25     11  1 ⋯\n",
       "   2 │ CS004115000014  松井 京子              1  女性     2007-08-09     11  1\n",
       "   3 │ CS002114000010  山内 遥                1  女性     2007-06-03     11  1\n",
       "   4 │ CS025115000002  小柳 夏希              1  女性     2007-04-18     11  2\n",
       "   5 │ CS007115000006  福岡 瞬                1  女性     2007-03-10     12  2 ⋯\n",
       "   6 │ CS014113000008  矢口 莉緒              1  女性     2007-03-05     12  2\n",
       "   7 │ CS035112000001  宮下 ひろ子            1  女性     2007-01-11     12  1\n",
       "   8 │ CS029113000009  長田 沙知絵            1  女性     2006-11-25     12  2\n",
       "   9 │ CS023114000002  葛西 茜                1  女性     2006-10-10     12  1 ⋯\n",
       "  10 │ CS049113000002  瀬川 美嘉              1  女性     2006-09-20     12  1\n",
       "\u001b[36m                                                               6 columns omitted\u001b[0m"
      ]
     },
     "execution_count": 45,
     "metadata": {},
     "output_type": "execute_result"
    }
   ],
   "source": [
    "# p38\n",
    "p38 = @chain df_receipt begin\n",
    "    groupby(:customer_id)\n",
    "    combine(:amount => sum)\n",
    "    leftjoin(df_customer,_, on = :customer_id)\n",
    "    filter(row -> row.gender_cd == 1, _)\n",
    "    filter(row -> !startswith(row.customer_id, \"Z\"),_)\n",
    "end\n",
    "replace!(p38.amount_sum, missing => 0) # coalesce.(p38.amount_sum, 0) # 別解\n",
    "first(p38, 10)"
   ]
  },
  {
   "cell_type": "code",
   "execution_count": 46,
   "metadata": {},
   "outputs": [
    {
     "data": {
      "text/html": [
       "<div><div style = \"float: left;\"><span>40×3 DataFrame</span></div><div style = \"float: right;\"><span style = \"font-style: italic;\">15 rows omitted</span></div><div style = \"clear: both;\"></div></div><div class = \"data-frame\" style = \"overflow-x: scroll;\"><table class = \"data-frame\" style = \"margin-bottom: 6px;\"><thead><tr class = \"header\"><th class = \"rowNumber\" style = \"font-weight: bold; text-align: right;\">Row</th><th style = \"text-align: left;\">customer_id</th><th style = \"text-align: left;\">nrow</th><th style = \"text-align: left;\">amount_sum</th></tr><tr class = \"subheader headerLastRow\"><th class = \"rowNumber\" style = \"font-weight: bold; text-align: right;\"></th><th title = \"String15\" style = \"text-align: left;\">String15</th><th title = \"Union{Missing, Int64}\" style = \"text-align: left;\">Int64?</th><th title = \"Union{Missing, Int64}\" style = \"text-align: left;\">Int64?</th></tr></thead><tbody><tr><td class = \"rowNumber\" style = \"font-weight: bold; text-align: right;\">1</td><td style = \"text-align: left;\">CS040214000008</td><td style = \"text-align: right;\">46</td><td style = \"font-style: italic; text-align: right;\">missing</td></tr><tr><td class = \"rowNumber\" style = \"font-weight: bold; text-align: right;\">2</td><td style = \"text-align: left;\">CS015415000185</td><td style = \"text-align: right;\">44</td><td style = \"font-style: italic; text-align: right;\">missing</td></tr><tr><td class = \"rowNumber\" style = \"font-weight: bold; text-align: right;\">3</td><td style = \"text-align: left;\">CS010214000010</td><td style = \"text-align: right;\">44</td><td style = \"font-style: italic; text-align: right;\">missing</td></tr><tr><td class = \"rowNumber\" style = \"font-weight: bold; text-align: right;\">4</td><td style = \"text-align: left;\">CS028415000007</td><td style = \"text-align: right;\">42</td><td style = \"font-style: italic; text-align: right;\">missing</td></tr><tr><td class = \"rowNumber\" style = \"font-weight: bold; text-align: right;\">5</td><td style = \"text-align: left;\">CS010214000002</td><td style = \"text-align: right;\">42</td><td style = \"font-style: italic; text-align: right;\">missing</td></tr><tr><td class = \"rowNumber\" style = \"font-weight: bold; text-align: right;\">6</td><td style = \"text-align: left;\">CS017415000097</td><td style = \"text-align: right;\">40</td><td style = \"font-style: italic; text-align: right;\">missing</td></tr><tr><td class = \"rowNumber\" style = \"font-weight: bold; text-align: right;\">7</td><td style = \"text-align: left;\">CS016415000141</td><td style = \"text-align: right;\">40</td><td style = \"font-style: italic; text-align: right;\">missing</td></tr><tr><td class = \"rowNumber\" style = \"font-weight: bold; text-align: right;\">8</td><td style = \"text-align: left;\">CS021514000045</td><td style = \"text-align: right;\">40</td><td style = \"font-style: italic; text-align: right;\">missing</td></tr><tr><td class = \"rowNumber\" style = \"font-weight: bold; text-align: right;\">9</td><td style = \"text-align: left;\">CS007515000107</td><td style = \"text-align: right;\">40</td><td style = \"font-style: italic; text-align: right;\">missing</td></tr><tr><td class = \"rowNumber\" style = \"font-weight: bold; text-align: right;\">10</td><td style = \"text-align: left;\">CS031414000051</td><td style = \"text-align: right;\">38</td><td style = \"font-style: italic; text-align: right;\">missing</td></tr><tr><td class = \"rowNumber\" style = \"font-weight: bold; text-align: right;\">11</td><td style = \"text-align: left;\">CS021515000172</td><td style = \"text-align: right;\">38</td><td style = \"font-style: italic; text-align: right;\">missing</td></tr><tr><td class = \"rowNumber\" style = \"font-weight: bold; text-align: right;\">12</td><td style = \"text-align: left;\">CS014415000077</td><td style = \"text-align: right;\">38</td><td style = \"font-style: italic; text-align: right;\">missing</td></tr><tr><td class = \"rowNumber\" style = \"font-weight: bold; text-align: right;\">13</td><td style = \"text-align: left;\">CS032415000209</td><td style = \"text-align: right;\">38</td><td style = \"font-style: italic; text-align: right;\">missing</td></tr><tr><td style = \"text-align: right;\">&vellip;</td><td style = \"text-align: right;\">&vellip;</td><td style = \"text-align: right;\">&vellip;</td><td style = \"text-align: right;\">&vellip;</td></tr><tr><td class = \"rowNumber\" style = \"font-weight: bold; text-align: right;\">29</td><td style = \"text-align: left;\">CS030515000189</td><td style = \"font-style: italic; text-align: right;\">missing</td><td style = \"text-align: right;\">11913</td></tr><tr><td class = \"rowNumber\" style = \"font-weight: bold; text-align: right;\">30</td><td style = \"text-align: left;\">CS035414000024</td><td style = \"font-style: italic; text-align: right;\">missing</td><td style = \"text-align: right;\">17615</td></tr><tr><td class = \"rowNumber\" style = \"font-weight: bold; text-align: right;\">31</td><td style = \"text-align: left;\">CS039415000073</td><td style = \"font-style: italic; text-align: right;\">missing</td><td style = \"text-align: right;\">9594</td></tr><tr><td class = \"rowNumber\" style = \"font-weight: bold; text-align: right;\">32</td><td style = \"text-align: left;\">CS038415000071</td><td style = \"font-style: italic; text-align: right;\">missing</td><td style = \"text-align: right;\">12696</td></tr><tr><td class = \"rowNumber\" style = \"font-weight: bold; text-align: right;\">33</td><td style = \"text-align: left;\">CS032414000072</td><td style = \"font-style: italic; text-align: right;\">missing</td><td style = \"text-align: right;\">16563</td></tr><tr><td class = \"rowNumber\" style = \"font-weight: bold; text-align: right;\">34</td><td style = \"text-align: left;\">CS040415000200</td><td style = \"font-style: italic; text-align: right;\">missing</td><td style = \"text-align: right;\">11137</td></tr><tr><td class = \"rowNumber\" style = \"font-weight: bold; text-align: right;\">35</td><td style = \"text-align: left;\">CS020515000102</td><td style = \"font-style: italic; text-align: right;\">missing</td><td style = \"text-align: right;\">9920</td></tr><tr><td class = \"rowNumber\" style = \"font-weight: bold; text-align: right;\">36</td><td style = \"text-align: left;\">CS027415000133</td><td style = \"font-style: italic; text-align: right;\">missing</td><td style = \"text-align: right;\">7793</td></tr><tr><td class = \"rowNumber\" style = \"font-weight: bold; text-align: right;\">37</td><td style = \"text-align: left;\">CS002415000728</td><td style = \"font-style: italic; text-align: right;\">missing</td><td style = \"text-align: right;\">7658</td></tr><tr><td class = \"rowNumber\" style = \"font-weight: bold; text-align: right;\">38</td><td style = \"text-align: left;\">CS016415000004</td><td style = \"font-style: italic; text-align: right;\">missing</td><td style = \"text-align: right;\">11330</td></tr><tr><td class = \"rowNumber\" style = \"font-weight: bold; text-align: right;\">39</td><td style = \"text-align: left;\">CS008513000063</td><td style = \"font-style: italic; text-align: right;\">missing</td><td style = \"text-align: right;\">5388</td></tr><tr><td class = \"rowNumber\" style = \"font-weight: bold; text-align: right;\">40</td><td style = \"text-align: left;\">CS009415000038</td><td style = \"font-style: italic; text-align: right;\">missing</td><td style = \"text-align: right;\">14033</td></tr></tbody></table></div>"
      ],
      "text/latex": [
       "\\begin{tabular}{r|ccc}\n",
       "\t& customer\\_id & nrow & amount\\_sum\\\\\n",
       "\t\\hline\n",
       "\t& String15 & Int64? & Int64?\\\\\n",
       "\t\\hline\n",
       "\t1 & CS040214000008 & 46 & \\emph{missing} \\\\\n",
       "\t2 & CS015415000185 & 44 & \\emph{missing} \\\\\n",
       "\t3 & CS010214000010 & 44 & \\emph{missing} \\\\\n",
       "\t4 & CS028415000007 & 42 & \\emph{missing} \\\\\n",
       "\t5 & CS010214000002 & 42 & \\emph{missing} \\\\\n",
       "\t6 & CS017415000097 & 40 & \\emph{missing} \\\\\n",
       "\t7 & CS016415000141 & 40 & \\emph{missing} \\\\\n",
       "\t8 & CS021514000045 & 40 & \\emph{missing} \\\\\n",
       "\t9 & CS007515000107 & 40 & \\emph{missing} \\\\\n",
       "\t10 & CS031414000051 & 38 & \\emph{missing} \\\\\n",
       "\t11 & CS021515000172 & 38 & \\emph{missing} \\\\\n",
       "\t12 & CS014415000077 & 38 & \\emph{missing} \\\\\n",
       "\t13 & CS032415000209 & 38 & \\emph{missing} \\\\\n",
       "\t14 & CS031414000073 & 38 & \\emph{missing} \\\\\n",
       "\t15 & CS039414000052 & 38 & \\emph{missing} \\\\\n",
       "\t16 & CS014214000023 & 38 & \\emph{missing} \\\\\n",
       "\t17 & CS022515000226 & 38 & \\emph{missing} \\\\\n",
       "\t18 & CS022515000028 & 36 & \\emph{missing} \\\\\n",
       "\t19 & CS021514000008 & 36 & \\emph{missing} \\\\\n",
       "\t20 & CS021515000101 & 36 & \\emph{missing} \\\\\n",
       "\t21 & CS011415000006 & \\emph{missing} & 16094 \\\\\n",
       "\t22 & CS028605000002 & \\emph{missing} & 11270 \\\\\n",
       "\t23 & CS015515000034 & \\emph{missing} & 15300 \\\\\n",
       "\t24 & CS021515000089 & \\emph{missing} & 17580 \\\\\n",
       "\t25 & CS015515000083 & \\emph{missing} & 9229 \\\\\n",
       "\t26 & CS017414000114 & \\emph{missing} & 8745 \\\\\n",
       "\t27 & CS028515000029 & \\emph{missing} & 8536 \\\\\n",
       "\t28 & CS035615000040 & \\emph{missing} & 5608 \\\\\n",
       "\t29 & CS030515000189 & \\emph{missing} & 11913 \\\\\n",
       "\t30 & CS035414000024 & \\emph{missing} & 17615 \\\\\n",
       "\t$\\dots$ & $\\dots$ & $\\dots$ & $\\dots$ \\\\\n",
       "\\end{tabular}\n"
      ],
      "text/plain": [
       "\u001b[1m40×3 DataFrame\u001b[0m\n",
       "\u001b[1m Row \u001b[0m│\u001b[1m customer_id    \u001b[0m\u001b[1m nrow    \u001b[0m\u001b[1m amount_sum \u001b[0m\n",
       "     │\u001b[90m String15       \u001b[0m\u001b[90m Int64?  \u001b[0m\u001b[90m Int64?     \u001b[0m\n",
       "─────┼─────────────────────────────────────\n",
       "   1 │ CS040214000008       46 \u001b[90m    missing \u001b[0m\n",
       "   2 │ CS015415000185       44 \u001b[90m    missing \u001b[0m\n",
       "   3 │ CS010214000010       44 \u001b[90m    missing \u001b[0m\n",
       "   4 │ CS028415000007       42 \u001b[90m    missing \u001b[0m\n",
       "   5 │ CS010214000002       42 \u001b[90m    missing \u001b[0m\n",
       "   6 │ CS017415000097       40 \u001b[90m    missing \u001b[0m\n",
       "   7 │ CS016415000141       40 \u001b[90m    missing \u001b[0m\n",
       "   8 │ CS021514000045       40 \u001b[90m    missing \u001b[0m\n",
       "   9 │ CS007515000107       40 \u001b[90m    missing \u001b[0m\n",
       "  10 │ CS031414000051       38 \u001b[90m    missing \u001b[0m\n",
       "  11 │ CS021515000172       38 \u001b[90m    missing \u001b[0m\n",
       "  ⋮  │       ⋮            ⋮         ⋮\n",
       "  31 │ CS039415000073 \u001b[90m missing \u001b[0m       9594\n",
       "  32 │ CS038415000071 \u001b[90m missing \u001b[0m      12696\n",
       "  33 │ CS032414000072 \u001b[90m missing \u001b[0m      16563\n",
       "  34 │ CS040415000200 \u001b[90m missing \u001b[0m      11137\n",
       "  35 │ CS020515000102 \u001b[90m missing \u001b[0m       9920\n",
       "  36 │ CS027415000133 \u001b[90m missing \u001b[0m       7793\n",
       "  37 │ CS002415000728 \u001b[90m missing \u001b[0m       7658\n",
       "  38 │ CS016415000004 \u001b[90m missing \u001b[0m      11330\n",
       "  39 │ CS008513000063 \u001b[90m missing \u001b[0m       5388\n",
       "  40 │ CS009415000038 \u001b[90m missing \u001b[0m      14033\n",
       "\u001b[36m                            19 rows omitted\u001b[0m"
      ]
     },
     "execution_count": 46,
     "metadata": {},
     "output_type": "execute_result"
    }
   ],
   "source": [
    "# 39\n",
    "p39_sale = @chain df_receipt begin\n",
    "    filter(row -> !startswith(row.customer_id, \"Z\"), _)\n",
    "    groupby(:customer_id)\n",
    "    combine(nrow)\n",
    "    sort!(:nrow, rev = true)\n",
    "    first(20)\n",
    "end\n",
    "\n",
    "p39_amount = @chain df_receipt begin\n",
    "    filter(row -> !startswith(row.customer_id, \"Z\"), _)\n",
    "    groupby(:customer_id)\n",
    "    combine(:amount => sum)\n",
    "    first(20)\n",
    "end\n",
    "\n",
    "outerjoin(p39_sale, p39_amount, on = \"customer_id\")"
   ]
  },
  {
   "cell_type": "code",
   "execution_count": 47,
   "metadata": {},
   "outputs": [
    {
     "data": {
      "text/plain": [
       "531590"
      ]
     },
     "execution_count": 47,
     "metadata": {},
     "output_type": "execute_result"
    }
   ],
   "source": [
    "# p40\n",
    "# 意図がよくわからない\n",
    "nrow(df_store) * nrow(df_product)"
   ]
  },
  {
   "cell_type": "code",
   "execution_count": 48,
   "metadata": {},
   "outputs": [
    {
     "data": {
      "text/html": [
       "<div><div style = \"float: left;\"><span>10×3 DataFrame</span></div><div style = \"clear: both;\"></div></div><div class = \"data-frame\" style = \"overflow-x: scroll;\"><table class = \"data-frame\" style = \"margin-bottom: 6px;\"><thead><tr class = \"header\"><th class = \"rowNumber\" style = \"font-weight: bold; text-align: right;\">Row</th><th style = \"text-align: left;\">sales_ymd</th><th style = \"text-align: left;\">amount_sum</th><th style = \"text-align: left;\">amout_sum_diff</th></tr><tr class = \"subheader headerLastRow\"><th class = \"rowNumber\" style = \"font-weight: bold; text-align: right;\"></th><th title = \"Int64\" style = \"text-align: left;\">Int64</th><th title = \"Int64\" style = \"text-align: left;\">Int64</th><th title = \"Union{Missing, Int64}\" style = \"text-align: left;\">Int64?</th></tr></thead><tbody><tr><td class = \"rowNumber\" style = \"font-weight: bold; text-align: right;\">1</td><td style = \"text-align: right;\">20170101</td><td style = \"text-align: right;\">33723</td><td style = \"font-style: italic; text-align: right;\">missing</td></tr><tr><td class = \"rowNumber\" style = \"font-weight: bold; text-align: right;\">2</td><td style = \"text-align: right;\">20170102</td><td style = \"text-align: right;\">24165</td><td style = \"text-align: right;\">-9558</td></tr><tr><td class = \"rowNumber\" style = \"font-weight: bold; text-align: right;\">3</td><td style = \"text-align: right;\">20170103</td><td style = \"text-align: right;\">27503</td><td style = \"text-align: right;\">3338</td></tr><tr><td class = \"rowNumber\" style = \"font-weight: bold; text-align: right;\">4</td><td style = \"text-align: right;\">20170104</td><td style = \"text-align: right;\">36165</td><td style = \"text-align: right;\">8662</td></tr><tr><td class = \"rowNumber\" style = \"font-weight: bold; text-align: right;\">5</td><td style = \"text-align: right;\">20170105</td><td style = \"text-align: right;\">37830</td><td style = \"text-align: right;\">1665</td></tr><tr><td class = \"rowNumber\" style = \"font-weight: bold; text-align: right;\">6</td><td style = \"text-align: right;\">20170106</td><td style = \"text-align: right;\">32387</td><td style = \"text-align: right;\">-5443</td></tr><tr><td class = \"rowNumber\" style = \"font-weight: bold; text-align: right;\">7</td><td style = \"text-align: right;\">20170107</td><td style = \"text-align: right;\">23415</td><td style = \"text-align: right;\">-8972</td></tr><tr><td class = \"rowNumber\" style = \"font-weight: bold; text-align: right;\">8</td><td style = \"text-align: right;\">20170108</td><td style = \"text-align: right;\">24737</td><td style = \"text-align: right;\">1322</td></tr><tr><td class = \"rowNumber\" style = \"font-weight: bold; text-align: right;\">9</td><td style = \"text-align: right;\">20170109</td><td style = \"text-align: right;\">26718</td><td style = \"text-align: right;\">1981</td></tr><tr><td class = \"rowNumber\" style = \"font-weight: bold; text-align: right;\">10</td><td style = \"text-align: right;\">20170110</td><td style = \"text-align: right;\">20143</td><td style = \"text-align: right;\">-6575</td></tr></tbody></table></div>"
      ],
      "text/latex": [
       "\\begin{tabular}{r|ccc}\n",
       "\t& sales\\_ymd & amount\\_sum & amout\\_sum\\_diff\\\\\n",
       "\t\\hline\n",
       "\t& Int64 & Int64 & Int64?\\\\\n",
       "\t\\hline\n",
       "\t1 & 20170101 & 33723 & \\emph{missing} \\\\\n",
       "\t2 & 20170102 & 24165 & -9558 \\\\\n",
       "\t3 & 20170103 & 27503 & 3338 \\\\\n",
       "\t4 & 20170104 & 36165 & 8662 \\\\\n",
       "\t5 & 20170105 & 37830 & 1665 \\\\\n",
       "\t6 & 20170106 & 32387 & -5443 \\\\\n",
       "\t7 & 20170107 & 23415 & -8972 \\\\\n",
       "\t8 & 20170108 & 24737 & 1322 \\\\\n",
       "\t9 & 20170109 & 26718 & 1981 \\\\\n",
       "\t10 & 20170110 & 20143 & -6575 \\\\\n",
       "\\end{tabular}\n"
      ],
      "text/plain": [
       "\u001b[1m10×3 DataFrame\u001b[0m\n",
       "\u001b[1m Row \u001b[0m│\u001b[1m sales_ymd \u001b[0m\u001b[1m amount_sum \u001b[0m\u001b[1m amout_sum_diff \u001b[0m\n",
       "     │\u001b[90m Int64     \u001b[0m\u001b[90m Int64      \u001b[0m\u001b[90m Int64?         \u001b[0m\n",
       "─────┼───────────────────────────────────────\n",
       "   1 │  20170101       33723 \u001b[90m        missing \u001b[0m\n",
       "   2 │  20170102       24165           -9558\n",
       "   3 │  20170103       27503            3338\n",
       "   4 │  20170104       36165            8662\n",
       "   5 │  20170105       37830            1665\n",
       "   6 │  20170106       32387           -5443\n",
       "   7 │  20170107       23415           -8972\n",
       "   8 │  20170108       24737            1322\n",
       "   9 │  20170109       26718            1981\n",
       "  10 │  20170110       20143           -6575"
      ]
     },
     "execution_count": 48,
     "metadata": {},
     "output_type": "execute_result"
    }
   ],
   "source": [
    "# p41\n",
    "# using ShiftedArrays: lag\n",
    "@chain df_receipt begin\n",
    "    groupby(:sales_ymd)\n",
    "    combine(:amount => sum)\n",
    "    sort!(:sales_ymd)\n",
    "    transform(_, :amount_sum => (x -> x - lag(x)) => :amout_sum_diff)\n",
    "    first(10)\n",
    "end"
   ]
  },
  {
   "cell_type": "code",
   "execution_count": 49,
   "metadata": {},
   "outputs": [
    {
     "data": {
      "text/html": [
       "<div><div style = \"float: left;\"><span>10×5 DataFrame</span></div><div style = \"clear: both;\"></div></div><div class = \"data-frame\" style = \"overflow-x: scroll;\"><table class = \"data-frame\" style = \"margin-bottom: 6px;\"><thead><tr class = \"header\"><th class = \"rowNumber\" style = \"font-weight: bold; text-align: right;\">Row</th><th style = \"text-align: left;\">sales_ymd</th><th style = \"text-align: left;\">amount_sum</th><th style = \"text-align: left;\">amount_sum_lag_1</th><th style = \"text-align: left;\">amount_sum_lag_2</th><th style = \"text-align: left;\">amount_sum_lag_3</th></tr><tr class = \"subheader headerLastRow\"><th class = \"rowNumber\" style = \"font-weight: bold; text-align: right;\"></th><th title = \"Int64\" style = \"text-align: left;\">Int64</th><th title = \"Int64\" style = \"text-align: left;\">Int64</th><th title = \"Union{Missing, Int64}\" style = \"text-align: left;\">Int64?</th><th title = \"Union{Missing, Int64}\" style = \"text-align: left;\">Int64?</th><th title = \"Union{Missing, Int64}\" style = \"text-align: left;\">Int64?</th></tr></thead><tbody><tr><td class = \"rowNumber\" style = \"font-weight: bold; text-align: right;\">1</td><td style = \"text-align: right;\">20170101</td><td style = \"text-align: right;\">33723</td><td style = \"font-style: italic; text-align: right;\">missing</td><td style = \"font-style: italic; text-align: right;\">missing</td><td style = \"font-style: italic; text-align: right;\">missing</td></tr><tr><td class = \"rowNumber\" style = \"font-weight: bold; text-align: right;\">2</td><td style = \"text-align: right;\">20170102</td><td style = \"text-align: right;\">24165</td><td style = \"text-align: right;\">33723</td><td style = \"font-style: italic; text-align: right;\">missing</td><td style = \"font-style: italic; text-align: right;\">missing</td></tr><tr><td class = \"rowNumber\" style = \"font-weight: bold; text-align: right;\">3</td><td style = \"text-align: right;\">20170103</td><td style = \"text-align: right;\">27503</td><td style = \"text-align: right;\">24165</td><td style = \"text-align: right;\">33723</td><td style = \"font-style: italic; text-align: right;\">missing</td></tr><tr><td class = \"rowNumber\" style = \"font-weight: bold; text-align: right;\">4</td><td style = \"text-align: right;\">20170104</td><td style = \"text-align: right;\">36165</td><td style = \"text-align: right;\">27503</td><td style = \"text-align: right;\">24165</td><td style = \"text-align: right;\">33723</td></tr><tr><td class = \"rowNumber\" style = \"font-weight: bold; text-align: right;\">5</td><td style = \"text-align: right;\">20170105</td><td style = \"text-align: right;\">37830</td><td style = \"text-align: right;\">36165</td><td style = \"text-align: right;\">27503</td><td style = \"text-align: right;\">24165</td></tr><tr><td class = \"rowNumber\" style = \"font-weight: bold; text-align: right;\">6</td><td style = \"text-align: right;\">20170106</td><td style = \"text-align: right;\">32387</td><td style = \"text-align: right;\">37830</td><td style = \"text-align: right;\">36165</td><td style = \"text-align: right;\">27503</td></tr><tr><td class = \"rowNumber\" style = \"font-weight: bold; text-align: right;\">7</td><td style = \"text-align: right;\">20170107</td><td style = \"text-align: right;\">23415</td><td style = \"text-align: right;\">32387</td><td style = \"text-align: right;\">37830</td><td style = \"text-align: right;\">36165</td></tr><tr><td class = \"rowNumber\" style = \"font-weight: bold; text-align: right;\">8</td><td style = \"text-align: right;\">20170108</td><td style = \"text-align: right;\">24737</td><td style = \"text-align: right;\">23415</td><td style = \"text-align: right;\">32387</td><td style = \"text-align: right;\">37830</td></tr><tr><td class = \"rowNumber\" style = \"font-weight: bold; text-align: right;\">9</td><td style = \"text-align: right;\">20170109</td><td style = \"text-align: right;\">26718</td><td style = \"text-align: right;\">24737</td><td style = \"text-align: right;\">23415</td><td style = \"text-align: right;\">32387</td></tr><tr><td class = \"rowNumber\" style = \"font-weight: bold; text-align: right;\">10</td><td style = \"text-align: right;\">20170110</td><td style = \"text-align: right;\">20143</td><td style = \"text-align: right;\">26718</td><td style = \"text-align: right;\">24737</td><td style = \"text-align: right;\">23415</td></tr></tbody></table></div>"
      ],
      "text/latex": [
       "\\begin{tabular}{r|ccccc}\n",
       "\t& sales\\_ymd & amount\\_sum & amount\\_sum\\_lag\\_1 & amount\\_sum\\_lag\\_2 & amount\\_sum\\_lag\\_3\\\\\n",
       "\t\\hline\n",
       "\t& Int64 & Int64 & Int64? & Int64? & Int64?\\\\\n",
       "\t\\hline\n",
       "\t1 & 20170101 & 33723 & \\emph{missing} & \\emph{missing} & \\emph{missing} \\\\\n",
       "\t2 & 20170102 & 24165 & 33723 & \\emph{missing} & \\emph{missing} \\\\\n",
       "\t3 & 20170103 & 27503 & 24165 & 33723 & \\emph{missing} \\\\\n",
       "\t4 & 20170104 & 36165 & 27503 & 24165 & 33723 \\\\\n",
       "\t5 & 20170105 & 37830 & 36165 & 27503 & 24165 \\\\\n",
       "\t6 & 20170106 & 32387 & 37830 & 36165 & 27503 \\\\\n",
       "\t7 & 20170107 & 23415 & 32387 & 37830 & 36165 \\\\\n",
       "\t8 & 20170108 & 24737 & 23415 & 32387 & 37830 \\\\\n",
       "\t9 & 20170109 & 26718 & 24737 & 23415 & 32387 \\\\\n",
       "\t10 & 20170110 & 20143 & 26718 & 24737 & 23415 \\\\\n",
       "\\end{tabular}\n"
      ],
      "text/plain": [
       "\u001b[1m10×5 DataFrame\u001b[0m\n",
       "\u001b[1m Row \u001b[0m│\u001b[1m sales_ymd \u001b[0m\u001b[1m amount_sum \u001b[0m\u001b[1m amount_sum_lag_1 \u001b[0m\u001b[1m amount_sum_lag_2 \u001b[0m\u001b[1m amount_sum_l\u001b[0m ⋯\n",
       "     │\u001b[90m Int64     \u001b[0m\u001b[90m Int64      \u001b[0m\u001b[90m Int64?           \u001b[0m\u001b[90m Int64?           \u001b[0m\u001b[90m Int64?      \u001b[0m ⋯\n",
       "─────┼──────────────────────────────────────────────────────────────────────────\n",
       "   1 │  20170101       33723 \u001b[90m          missing \u001b[0m\u001b[90m          missing \u001b[0m\u001b[90m          mis\u001b[0m ⋯\n",
       "   2 │  20170102       24165             33723 \u001b[90m          missing \u001b[0m\u001b[90m          mis\u001b[0m\n",
       "   3 │  20170103       27503             24165             33723 \u001b[90m          mis\u001b[0m\n",
       "   4 │  20170104       36165             27503             24165             3\n",
       "   5 │  20170105       37830             36165             27503             2 ⋯\n",
       "   6 │  20170106       32387             37830             36165             2\n",
       "   7 │  20170107       23415             32387             37830             3\n",
       "   8 │  20170108       24737             23415             32387             3\n",
       "   9 │  20170109       26718             24737             23415             3 ⋯\n",
       "  10 │  20170110       20143             26718             24737             2\n",
       "\u001b[36m                                                                1 column omitted\u001b[0m"
      ]
     },
     "execution_count": 49,
     "metadata": {},
     "output_type": "execute_result"
    }
   ],
   "source": [
    "# p42\n",
    "@chain df_receipt begin\n",
    "    groupby(:sales_ymd)\n",
    "    combine(:amount => sum)\n",
    "    sort!(:sales_ymd)\n",
    "    transform(_, :amount_sum => (x -> lag(x, 1)) => :amount_sum_lag_1)\n",
    "    transform(_, :amount_sum => (x -> lag(x, 2)) => :amount_sum_lag_2)\n",
    "    transform(_, :amount_sum => (x -> lag(x, 3)) => :amount_sum_lag_3)\n",
    "    first(10)\n",
    "end"
   ]
  },
  {
   "cell_type": "code",
   "execution_count": 176,
   "metadata": {},
   "outputs": [
    {
     "data": {
      "text/html": [
       "<div><div style = \"float: left;\"><span>10×4 DataFrame</span></div><div style = \"clear: both;\"></div></div><div class = \"data-frame\" style = \"overflow-x: scroll;\"><table class = \"data-frame\" style = \"margin-bottom: 6px;\"><thead><tr class = \"header\"><th class = \"rowNumber\" style = \"font-weight: bold; text-align: right;\">Row</th><th style = \"text-align: left;\">age_bin</th><th style = \"text-align: left;\">female</th><th style = \"text-align: left;\">male</th><th style = \"text-align: left;\">unknown</th></tr><tr class = \"subheader headerLastRow\"><th class = \"rowNumber\" style = \"font-weight: bold; text-align: right;\"></th><th title = \"Union{Missing, Float64}\" style = \"text-align: left;\">Float64?</th><th title = \"Union{Missing, Int64}\" style = \"text-align: left;\">Int64?</th><th title = \"Union{Missing, Int64}\" style = \"text-align: left;\">Int64?</th><th title = \"Union{Missing, Int64}\" style = \"text-align: left;\">Int64?</th></tr></thead><tbody><tr><td class = \"rowNumber\" style = \"font-weight: bold; text-align: right;\">1</td><td style = \"text-align: right;\">10.0</td><td style = \"text-align: right;\">1591</td><td style = \"text-align: right;\">149836</td><td style = \"text-align: right;\">4317</td></tr><tr><td class = \"rowNumber\" style = \"font-weight: bold; text-align: right;\">2</td><td style = \"text-align: right;\">20.0</td><td style = \"text-align: right;\">72940</td><td style = \"text-align: right;\">1363724</td><td style = \"text-align: right;\">44328</td></tr><tr><td class = \"rowNumber\" style = \"font-weight: bold; text-align: right;\">3</td><td style = \"text-align: right;\">30.0</td><td style = \"text-align: right;\">177322</td><td style = \"text-align: right;\">693047</td><td style = \"text-align: right;\">50441</td></tr><tr><td class = \"rowNumber\" style = \"font-weight: bold; text-align: right;\">4</td><td style = \"text-align: right;\">40.0</td><td style = \"text-align: right;\">19355</td><td style = \"text-align: right;\">9320791</td><td style = \"text-align: right;\">483512</td></tr><tr><td class = \"rowNumber\" style = \"font-weight: bold; text-align: right;\">5</td><td style = \"text-align: right;\">50.0</td><td style = \"text-align: right;\">54320</td><td style = \"text-align: right;\">6685192</td><td style = \"text-align: right;\">342923</td></tr><tr><td class = \"rowNumber\" style = \"font-weight: bold; text-align: right;\">6</td><td style = \"text-align: right;\">60.0</td><td style = \"text-align: right;\">272469</td><td style = \"text-align: right;\">987741</td><td style = \"text-align: right;\">71418</td></tr><tr><td class = \"rowNumber\" style = \"font-weight: bold; text-align: right;\">7</td><td style = \"text-align: right;\">70.0</td><td style = \"text-align: right;\">13435</td><td style = \"text-align: right;\">29764</td><td style = \"text-align: right;\">2427</td></tr><tr><td class = \"rowNumber\" style = \"font-weight: bold; text-align: right;\">8</td><td style = \"text-align: right;\">80.0</td><td style = \"text-align: right;\">46360</td><td style = \"text-align: right;\">262923</td><td style = \"text-align: right;\">5111</td></tr><tr><td class = \"rowNumber\" style = \"font-weight: bold; text-align: right;\">9</td><td style = \"text-align: right;\">90.0</td><td style = \"font-style: italic; text-align: right;\">missing</td><td style = \"text-align: right;\">6260</td><td style = \"font-style: italic; text-align: right;\">missing</td></tr><tr><td class = \"rowNumber\" style = \"font-weight: bold; text-align: right;\">10</td><td style = \"font-style: italic; text-align: right;\">missing</td><td style = \"font-style: italic; text-align: right;\">missing</td><td style = \"font-style: italic; text-align: right;\">missing</td><td style = \"font-style: italic; text-align: right;\">missing</td></tr></tbody></table></div>"
      ],
      "text/latex": [
       "\\begin{tabular}{r|cccc}\n",
       "\t& age\\_bin & female & male & unknown\\\\\n",
       "\t\\hline\n",
       "\t& Float64? & Int64? & Int64? & Int64?\\\\\n",
       "\t\\hline\n",
       "\t1 & 10.0 & 1591 & 149836 & 4317 \\\\\n",
       "\t2 & 20.0 & 72940 & 1363724 & 44328 \\\\\n",
       "\t3 & 30.0 & 177322 & 693047 & 50441 \\\\\n",
       "\t4 & 40.0 & 19355 & 9320791 & 483512 \\\\\n",
       "\t5 & 50.0 & 54320 & 6685192 & 342923 \\\\\n",
       "\t6 & 60.0 & 272469 & 987741 & 71418 \\\\\n",
       "\t7 & 70.0 & 13435 & 29764 & 2427 \\\\\n",
       "\t8 & 80.0 & 46360 & 262923 & 5111 \\\\\n",
       "\t9 & 90.0 & \\emph{missing} & 6260 & \\emph{missing} \\\\\n",
       "\t10 & \\emph{missing} & \\emph{missing} & \\emph{missing} & \\emph{missing} \\\\\n",
       "\\end{tabular}\n"
      ],
      "text/plain": [
       "\u001b[1m10×4 DataFrame\u001b[0m\n",
       "\u001b[1m Row \u001b[0m│\u001b[1m age_bin   \u001b[0m\u001b[1m female  \u001b[0m\u001b[1m male    \u001b[0m\u001b[1m unknown \u001b[0m\n",
       "     │\u001b[90m Float64?  \u001b[0m\u001b[90m Int64?  \u001b[0m\u001b[90m Int64?  \u001b[0m\u001b[90m Int64?  \u001b[0m\n",
       "─────┼──────────────────────────────────────\n",
       "   1 │      10.0     1591   149836     4317\n",
       "   2 │      20.0    72940  1363724    44328\n",
       "   3 │      30.0   177322   693047    50441\n",
       "   4 │      40.0    19355  9320791   483512\n",
       "   5 │      50.0    54320  6685192   342923\n",
       "   6 │      60.0   272469   987741    71418\n",
       "   7 │      70.0    13435    29764     2427\n",
       "   8 │      80.0    46360   262923     5111\n",
       "   9 │      90.0 \u001b[90m missing \u001b[0m    6260 \u001b[90m missing \u001b[0m\n",
       "  10 │\u001b[90m missing   \u001b[0m\u001b[90m missing \u001b[0m\u001b[90m missing \u001b[0m\u001b[90m missing \u001b[0m"
      ]
     },
     "execution_count": 176,
     "metadata": {},
     "output_type": "execute_result"
    }
   ],
   "source": [
    "# p43\n",
    "@chain leftjoin(df_receipt, df_customer, on = :customer_id) begin\n",
    "    transform(:age => (x -> floor.(x / 10) * 10) => :age_bin)\n",
    "    groupby([:age_bin, :gender_cd])\n",
    "    combine(:amount => sum)\n",
    "    unstack(:age_bin, :gender_cd, :amount_sum, allowmissing=true)\n",
    "    rename!([\"age_bin\", \"female\", \"male\", \"unknown\", \"missing\"])\n",
    "    select(:age_bin, :female, :male, :unknown)\n",
    "end"
   ]
  },
  {
   "cell_type": "code",
   "execution_count": null,
   "metadata": {},
   "outputs": [
    {
     "data": {
      "text/html": [
       "<div><div style = \"float: left;\"><span>4×11 DataFrame</span></div><div style = \"clear: both;\"></div></div><div class = \"data-frame\" style = \"overflow-x: scroll;\"><table class = \"data-frame\" style = \"margin-bottom: 6px;\"><thead><tr class = \"header\"><th class = \"rowNumber\" style = \"font-weight: bold; text-align: right;\">Row</th><th style = \"text-align: left;\">gender_cd</th><th style = \"text-align: left;\">10.0</th><th style = \"text-align: left;\">20.0</th><th style = \"text-align: left;\">30.0</th><th style = \"text-align: left;\">40.0</th><th style = \"text-align: left;\">50.0</th><th style = \"text-align: left;\">60.0</th><th style = \"text-align: left;\">70.0</th><th style = \"text-align: left;\">80.0</th><th style = \"text-align: left;\">90.0</th><th style = \"text-align: left;\">missing</th></tr><tr class = \"subheader headerLastRow\"><th class = \"rowNumber\" style = \"font-weight: bold; text-align: right;\"></th><th title = \"Union{Missing, Int64}\" style = \"text-align: left;\">Int64?</th><th title = \"Union{Missing, Int64}\" style = \"text-align: left;\">Int64?</th><th title = \"Union{Missing, Int64}\" style = \"text-align: left;\">Int64?</th><th title = \"Union{Missing, Int64}\" style = \"text-align: left;\">Int64?</th><th title = \"Union{Missing, Int64}\" style = \"text-align: left;\">Int64?</th><th title = \"Union{Missing, Int64}\" style = \"text-align: left;\">Int64?</th><th title = \"Union{Missing, Int64}\" style = \"text-align: left;\">Int64?</th><th title = \"Union{Missing, Int64}\" style = \"text-align: left;\">Int64?</th><th title = \"Union{Missing, Int64}\" style = \"text-align: left;\">Int64?</th><th title = \"Union{Missing, Int64}\" style = \"text-align: left;\">Int64?</th><th title = \"Union{Missing, Int64}\" style = \"text-align: left;\">Int64?</th></tr></thead><tbody><tr><td class = \"rowNumber\" style = \"font-weight: bold; text-align: right;\">1</td><td style = \"text-align: right;\">0</td><td style = \"text-align: right;\">1591</td><td style = \"text-align: right;\">72940</td><td style = \"text-align: right;\">177322</td><td style = \"text-align: right;\">19355</td><td style = \"text-align: right;\">54320</td><td style = \"text-align: right;\">272469</td><td style = \"text-align: right;\">13435</td><td style = \"text-align: right;\">46360</td><td style = \"font-style: italic; text-align: right;\">missing</td><td style = \"font-style: italic; text-align: right;\">missing</td></tr><tr><td class = \"rowNumber\" style = \"font-weight: bold; text-align: right;\">2</td><td style = \"text-align: right;\">1</td><td style = \"text-align: right;\">149836</td><td style = \"text-align: right;\">1363724</td><td style = \"text-align: right;\">693047</td><td style = \"text-align: right;\">9320791</td><td style = \"text-align: right;\">6685192</td><td style = \"text-align: right;\">987741</td><td style = \"text-align: right;\">29764</td><td style = \"text-align: right;\">262923</td><td style = \"text-align: right;\">6260</td><td style = \"font-style: italic; text-align: right;\">missing</td></tr><tr><td class = \"rowNumber\" style = \"font-weight: bold; text-align: right;\">3</td><td style = \"text-align: right;\">9</td><td style = \"text-align: right;\">4317</td><td style = \"text-align: right;\">44328</td><td style = \"text-align: right;\">50441</td><td style = \"text-align: right;\">483512</td><td style = \"text-align: right;\">342923</td><td style = \"text-align: right;\">71418</td><td style = \"text-align: right;\">2427</td><td style = \"text-align: right;\">5111</td><td style = \"font-style: italic; text-align: right;\">missing</td><td style = \"font-style: italic; text-align: right;\">missing</td></tr><tr><td class = \"rowNumber\" style = \"font-weight: bold; text-align: right;\">4</td><td style = \"font-style: italic; text-align: right;\">missing</td><td style = \"font-style: italic; text-align: right;\">missing</td><td style = \"font-style: italic; text-align: right;\">missing</td><td style = \"font-style: italic; text-align: right;\">missing</td><td style = \"font-style: italic; text-align: right;\">missing</td><td style = \"font-style: italic; text-align: right;\">missing</td><td style = \"font-style: italic; text-align: right;\">missing</td><td style = \"font-style: italic; text-align: right;\">missing</td><td style = \"font-style: italic; text-align: right;\">missing</td><td style = \"font-style: italic; text-align: right;\">missing</td><td style = \"text-align: right;\">12395003</td></tr></tbody></table></div>"
      ],
      "text/latex": [
       "\\begin{tabular}{r|cccccccccc}\n",
       "\t& gender\\_cd & 10.0 & 20.0 & 30.0 & 40.0 & 50.0 & 60.0 & 70.0 & 80.0 & \\\\\n",
       "\t\\hline\n",
       "\t& Int64? & Int64? & Int64? & Int64? & Int64? & Int64? & Int64? & Int64? & Int64? & \\\\\n",
       "\t\\hline\n",
       "\t1 & 0 & 1591 & 72940 & 177322 & 19355 & 54320 & 272469 & 13435 & 46360 & $\\dots$ \\\\\n",
       "\t2 & 1 & 149836 & 1363724 & 693047 & 9320791 & 6685192 & 987741 & 29764 & 262923 & $\\dots$ \\\\\n",
       "\t3 & 9 & 4317 & 44328 & 50441 & 483512 & 342923 & 71418 & 2427 & 5111 & $\\dots$ \\\\\n",
       "\t4 & \\emph{missing} & \\emph{missing} & \\emph{missing} & \\emph{missing} & \\emph{missing} & \\emph{missing} & \\emph{missing} & \\emph{missing} & \\emph{missing} & $\\dots$ \\\\\n",
       "\\end{tabular}\n"
      ],
      "text/plain": [
       "\u001b[1m4×11 DataFrame\u001b[0m\n",
       "\u001b[1m Row \u001b[0m│\u001b[1m gender_cd \u001b[0m\u001b[1m 10.0    \u001b[0m\u001b[1m 20.0    \u001b[0m\u001b[1m 30.0    \u001b[0m\u001b[1m 40.0    \u001b[0m\u001b[1m 50.0    \u001b[0m\u001b[1m 60.0    \u001b[0m\u001b[1m 70.0  \u001b[0m ⋯\n",
       "     │\u001b[90m Int64?    \u001b[0m\u001b[90m Int64?  \u001b[0m\u001b[90m Int64?  \u001b[0m\u001b[90m Int64?  \u001b[0m\u001b[90m Int64?  \u001b[0m\u001b[90m Int64?  \u001b[0m\u001b[90m Int64?  \u001b[0m\u001b[90m Int64?\u001b[0m ⋯\n",
       "─────┼──────────────────────────────────────────────────────────────────────────\n",
       "   1 │         0     1591    72940   177322    19355    54320   272469    1343 ⋯\n",
       "   2 │         1   149836  1363724   693047  9320791  6685192   987741    2976\n",
       "   3 │         9     4317    44328    50441   483512   342923    71418     242\n",
       "   4 │\u001b[90m   missing \u001b[0m\u001b[90m missing \u001b[0m\u001b[90m missing \u001b[0m\u001b[90m missing \u001b[0m\u001b[90m missing \u001b[0m\u001b[90m missing \u001b[0m\u001b[90m missing \u001b[0m\u001b[90m missin\u001b[0m\n",
       "\u001b[36m                                                               4 columns omitted\u001b[0m"
      ]
     },
     "execution_count": 177,
     "metadata": {},
     "output_type": "execute_result"
    }
   ],
   "source": [
    "# p44\n",
    "@chain leftjoin(df_receipt, df_customer, on = :customer_id) begin\n",
    "    transform(:age => (x -> floor.(x / 10) * 10) => :age_bin)\n",
    "    groupby([:age_bin, :gender_cd])\n",
    "    combine(:amount => sum)\n",
    "    unstack(:gender_cd, :age_bin, :amount_sum, allowmissing=true)\n",
    "end"
   ]
  },
  {
   "cell_type": "code",
   "execution_count": null,
   "metadata": {},
   "outputs": [
    {
     "data": {
      "text/html": [
       "<div><div style = \"float: left;\"><span>10×2 DataFrame</span></div><div style = \"clear: both;\"></div></div><div class = \"data-frame\" style = \"overflow-x: scroll;\"><table class = \"data-frame\" style = \"margin-bottom: 6px;\"><thead><tr class = \"header\"><th class = \"rowNumber\" style = \"font-weight: bold; text-align: right;\">Row</th><th style = \"text-align: left;\">customer_id</th><th style = \"text-align: left;\">birth_day_str</th></tr><tr class = \"subheader headerLastRow\"><th class = \"rowNumber\" style = \"font-weight: bold; text-align: right;\"></th><th title = \"String15\" style = \"text-align: left;\">String15</th><th title = \"String\" style = \"text-align: left;\">String</th></tr></thead><tbody><tr><td class = \"rowNumber\" style = \"font-weight: bold; text-align: right;\">1</td><td style = \"text-align: left;\">CS035114000004</td><td style = \"text-align: left;\">20071125</td></tr><tr><td class = \"rowNumber\" style = \"font-weight: bold; text-align: right;\">2</td><td style = \"text-align: left;\">CS022103000002</td><td style = \"text-align: left;\">20071002</td></tr><tr><td class = \"rowNumber\" style = \"font-weight: bold; text-align: right;\">3</td><td style = \"text-align: left;\">CS002113000009</td><td style = \"text-align: left;\">20070917</td></tr><tr><td class = \"rowNumber\" style = \"font-weight: bold; text-align: right;\">4</td><td style = \"text-align: left;\">CS004115000014</td><td style = \"text-align: left;\">20070809</td></tr><tr><td class = \"rowNumber\" style = \"font-weight: bold; text-align: right;\">5</td><td style = \"text-align: left;\">CS002114000010</td><td style = \"text-align: left;\">20070603</td></tr><tr><td class = \"rowNumber\" style = \"font-weight: bold; text-align: right;\">6</td><td style = \"text-align: left;\">CS025115000002</td><td style = \"text-align: left;\">20070418</td></tr><tr><td class = \"rowNumber\" style = \"font-weight: bold; text-align: right;\">7</td><td style = \"text-align: left;\">CS002113000025</td><td style = \"text-align: left;\">20070330</td></tr><tr><td class = \"rowNumber\" style = \"font-weight: bold; text-align: right;\">8</td><td style = \"text-align: left;\">CS033112000003</td><td style = \"text-align: left;\">20070322</td></tr><tr><td class = \"rowNumber\" style = \"font-weight: bold; text-align: right;\">9</td><td style = \"text-align: left;\">CS007115000006</td><td style = \"text-align: left;\">20070310</td></tr><tr><td class = \"rowNumber\" style = \"font-weight: bold; text-align: right;\">10</td><td style = \"text-align: left;\">CS014113000008</td><td style = \"text-align: left;\">20070305</td></tr></tbody></table></div>"
      ],
      "text/latex": [
       "\\begin{tabular}{r|cc}\n",
       "\t& customer\\_id & birth\\_day\\_str\\\\\n",
       "\t\\hline\n",
       "\t& String15 & String\\\\\n",
       "\t\\hline\n",
       "\t1 & CS035114000004 & 20071125 \\\\\n",
       "\t2 & CS022103000002 & 20071002 \\\\\n",
       "\t3 & CS002113000009 & 20070917 \\\\\n",
       "\t4 & CS004115000014 & 20070809 \\\\\n",
       "\t5 & CS002114000010 & 20070603 \\\\\n",
       "\t6 & CS025115000002 & 20070418 \\\\\n",
       "\t7 & CS002113000025 & 20070330 \\\\\n",
       "\t8 & CS033112000003 & 20070322 \\\\\n",
       "\t9 & CS007115000006 & 20070310 \\\\\n",
       "\t10 & CS014113000008 & 20070305 \\\\\n",
       "\\end{tabular}\n"
      ],
      "text/plain": [
       "\u001b[1m10×2 DataFrame\u001b[0m\n",
       "\u001b[1m Row \u001b[0m│\u001b[1m customer_id    \u001b[0m\u001b[1m birth_day_str \u001b[0m\n",
       "     │\u001b[90m String15       \u001b[0m\u001b[90m String        \u001b[0m\n",
       "─────┼───────────────────────────────\n",
       "   1 │ CS035114000004  20071125\n",
       "   2 │ CS022103000002  20071002\n",
       "   3 │ CS002113000009  20070917\n",
       "   4 │ CS004115000014  20070809\n",
       "   5 │ CS002114000010  20070603\n",
       "   6 │ CS025115000002  20070418\n",
       "   7 │ CS002113000025  20070330\n",
       "   8 │ CS033112000003  20070322\n",
       "   9 │ CS007115000006  20070310\n",
       "  10 │ CS014113000008  20070305"
      ]
     },
     "execution_count": 90,
     "metadata": {},
     "output_type": "execute_result"
    }
   ],
   "source": [
    "# p45\n",
    "# using Dates\n",
    "@chain df_customer begin\n",
    "    transform(:birth_day => ( x -> Dates.format.(x, \"yyyymmdd\")) => :birth_day_str) # broadcastでformatを適用する．\n",
    "    select(:customer_id, :birth_day_str)\n",
    "    first(10)\n",
    "end\n",
    "#Dates.format.(df_customer.birth_day, \"yyyymmdd\")\n"
   ]
  },
  {
   "cell_type": "code",
   "execution_count": 103,
   "metadata": {},
   "outputs": [
    {
     "data": {
      "text/html": [
       "<div><div style = \"float: left;\"><span>10×2 DataFrame</span></div><div style = \"clear: both;\"></div></div><div class = \"data-frame\" style = \"overflow-x: scroll;\"><table class = \"data-frame\" style = \"margin-bottom: 6px;\"><thead><tr class = \"header\"><th class = \"rowNumber\" style = \"font-weight: bold; text-align: right;\">Row</th><th style = \"text-align: left;\">customer_id</th><th style = \"text-align: left;\">application_date_date</th></tr><tr class = \"subheader headerLastRow\"><th class = \"rowNumber\" style = \"font-weight: bold; text-align: right;\"></th><th title = \"String15\" style = \"text-align: left;\">String15</th><th title = \"Date\" style = \"text-align: left;\">Date</th></tr></thead><tbody><tr><td class = \"rowNumber\" style = \"font-weight: bold; text-align: right;\">1</td><td style = \"text-align: left;\">CS035114000004</td><td style = \"text-align: left;\">2015-06-19</td></tr><tr><td class = \"rowNumber\" style = \"font-weight: bold; text-align: right;\">2</td><td style = \"text-align: left;\">CS022103000002</td><td style = \"text-align: left;\">2016-09-09</td></tr><tr><td class = \"rowNumber\" style = \"font-weight: bold; text-align: right;\">3</td><td style = \"text-align: left;\">CS002113000009</td><td style = \"text-align: left;\">2016-03-04</td></tr><tr><td class = \"rowNumber\" style = \"font-weight: bold; text-align: right;\">4</td><td style = \"text-align: left;\">CS004115000014</td><td style = \"text-align: left;\">2016-11-20</td></tr><tr><td class = \"rowNumber\" style = \"font-weight: bold; text-align: right;\">5</td><td style = \"text-align: left;\">CS002114000010</td><td style = \"text-align: left;\">2016-09-20</td></tr><tr><td class = \"rowNumber\" style = \"font-weight: bold; text-align: right;\">6</td><td style = \"text-align: left;\">CS025115000002</td><td style = \"text-align: left;\">2016-01-16</td></tr><tr><td class = \"rowNumber\" style = \"font-weight: bold; text-align: right;\">7</td><td style = \"text-align: left;\">CS002113000025</td><td style = \"text-align: left;\">2017-10-30</td></tr><tr><td class = \"rowNumber\" style = \"font-weight: bold; text-align: right;\">8</td><td style = \"text-align: left;\">CS033112000003</td><td style = \"text-align: left;\">2015-06-06</td></tr><tr><td class = \"rowNumber\" style = \"font-weight: bold; text-align: right;\">9</td><td style = \"text-align: left;\">CS007115000006</td><td style = \"text-align: left;\">2015-11-18</td></tr><tr><td class = \"rowNumber\" style = \"font-weight: bold; text-align: right;\">10</td><td style = \"text-align: left;\">CS014113000008</td><td style = \"text-align: left;\">2015-06-22</td></tr></tbody></table></div>"
      ],
      "text/latex": [
       "\\begin{tabular}{r|cc}\n",
       "\t& customer\\_id & application\\_date\\_date\\\\\n",
       "\t\\hline\n",
       "\t& String15 & Date\\\\\n",
       "\t\\hline\n",
       "\t1 & CS035114000004 & 2015-06-19 \\\\\n",
       "\t2 & CS022103000002 & 2016-09-09 \\\\\n",
       "\t3 & CS002113000009 & 2016-03-04 \\\\\n",
       "\t4 & CS004115000014 & 2016-11-20 \\\\\n",
       "\t5 & CS002114000010 & 2016-09-20 \\\\\n",
       "\t6 & CS025115000002 & 2016-01-16 \\\\\n",
       "\t7 & CS002113000025 & 2017-10-30 \\\\\n",
       "\t8 & CS033112000003 & 2015-06-06 \\\\\n",
       "\t9 & CS007115000006 & 2015-11-18 \\\\\n",
       "\t10 & CS014113000008 & 2015-06-22 \\\\\n",
       "\\end{tabular}\n"
      ],
      "text/plain": [
       "\u001b[1m10×2 DataFrame\u001b[0m\n",
       "\u001b[1m Row \u001b[0m│\u001b[1m customer_id    \u001b[0m\u001b[1m application_date_date \u001b[0m\n",
       "     │\u001b[90m String15       \u001b[0m\u001b[90m Date                  \u001b[0m\n",
       "─────┼───────────────────────────────────────\n",
       "   1 │ CS035114000004  2015-06-19\n",
       "   2 │ CS022103000002  2016-09-09\n",
       "   3 │ CS002113000009  2016-03-04\n",
       "   4 │ CS004115000014  2016-11-20\n",
       "   5 │ CS002114000010  2016-09-20\n",
       "   6 │ CS025115000002  2016-01-16\n",
       "   7 │ CS002113000025  2017-10-30\n",
       "   8 │ CS033112000003  2015-06-06\n",
       "   9 │ CS007115000006  2015-11-18\n",
       "  10 │ CS014113000008  2015-06-22"
      ]
     },
     "execution_count": 103,
     "metadata": {},
     "output_type": "execute_result"
    }
   ],
   "source": [
    "# p46\n",
    "@chain df_customer begin\n",
    "    transform(:application_date => (x -> Date.(string.(x), DateFormat(\"yyyymmdd\"))) => :application_date_date)\n",
    "    select(:customer_id, :application_date_date)\n",
    "    first(10)\n",
    "end"
   ]
  },
  {
   "cell_type": "code",
   "execution_count": 106,
   "metadata": {},
   "outputs": [
    {
     "data": {
      "text/html": [
       "<div><div style = \"float: left;\"><span>10×3 DataFrame</span></div><div style = \"clear: both;\"></div></div><div class = \"data-frame\" style = \"overflow-x: scroll;\"><table class = \"data-frame\" style = \"margin-bottom: 6px;\"><thead><tr class = \"header\"><th class = \"rowNumber\" style = \"font-weight: bold; text-align: right;\">Row</th><th style = \"text-align: left;\">receipt_no</th><th style = \"text-align: left;\">receipt_sub_no</th><th style = \"text-align: left;\">sales_ymd_date</th></tr><tr class = \"subheader headerLastRow\"><th class = \"rowNumber\" style = \"font-weight: bold; text-align: right;\"></th><th title = \"Int64\" style = \"text-align: left;\">Int64</th><th title = \"Int64\" style = \"text-align: left;\">Int64</th><th title = \"Date\" style = \"text-align: left;\">Date</th></tr></thead><tbody><tr><td class = \"rowNumber\" style = \"font-weight: bold; text-align: right;\">1</td><td style = \"text-align: right;\">1192</td><td style = \"text-align: right;\">2</td><td style = \"text-align: left;\">2019-09-03</td></tr><tr><td class = \"rowNumber\" style = \"font-weight: bold; text-align: right;\">2</td><td style = \"text-align: right;\">1152</td><td style = \"text-align: right;\">2</td><td style = \"text-align: left;\">2019-03-04</td></tr><tr><td class = \"rowNumber\" style = \"font-weight: bold; text-align: right;\">3</td><td style = \"text-align: right;\">1192</td><td style = \"text-align: right;\">2</td><td style = \"text-align: left;\">2017-09-21</td></tr><tr><td class = \"rowNumber\" style = \"font-weight: bold; text-align: right;\">4</td><td style = \"text-align: right;\">1112</td><td style = \"text-align: right;\">1</td><td style = \"text-align: left;\">2017-07-21</td></tr><tr><td class = \"rowNumber\" style = \"font-weight: bold; text-align: right;\">5</td><td style = \"text-align: right;\">1162</td><td style = \"text-align: right;\">2</td><td style = \"text-align: left;\">2019-01-03</td></tr><tr><td class = \"rowNumber\" style = \"font-weight: bold; text-align: right;\">6</td><td style = \"text-align: right;\">1192</td><td style = \"text-align: right;\">2</td><td style = \"text-align: left;\">2019-07-24</td></tr><tr><td class = \"rowNumber\" style = \"font-weight: bold; text-align: right;\">7</td><td style = \"text-align: right;\">1172</td><td style = \"text-align: right;\">2</td><td style = \"text-align: left;\">2018-06-21</td></tr><tr><td class = \"rowNumber\" style = \"font-weight: bold; text-align: right;\">8</td><td style = \"text-align: right;\">1142</td><td style = \"text-align: right;\">2</td><td style = \"text-align: left;\">2019-02-09</td></tr><tr><td class = \"rowNumber\" style = \"font-weight: bold; text-align: right;\">9</td><td style = \"text-align: right;\">1132</td><td style = \"text-align: right;\">1</td><td style = \"text-align: left;\">2018-12-19</td></tr><tr><td class = \"rowNumber\" style = \"font-weight: bold; text-align: right;\">10</td><td style = \"text-align: right;\">1192</td><td style = \"text-align: right;\">1</td><td style = \"text-align: left;\">2018-06-03</td></tr></tbody></table></div>"
      ],
      "text/latex": [
       "\\begin{tabular}{r|ccc}\n",
       "\t& receipt\\_no & receipt\\_sub\\_no & sales\\_ymd\\_date\\\\\n",
       "\t\\hline\n",
       "\t& Int64 & Int64 & Date\\\\\n",
       "\t\\hline\n",
       "\t1 & 1192 & 2 & 2019-09-03 \\\\\n",
       "\t2 & 1152 & 2 & 2019-03-04 \\\\\n",
       "\t3 & 1192 & 2 & 2017-09-21 \\\\\n",
       "\t4 & 1112 & 1 & 2017-07-21 \\\\\n",
       "\t5 & 1162 & 2 & 2019-01-03 \\\\\n",
       "\t6 & 1192 & 2 & 2019-07-24 \\\\\n",
       "\t7 & 1172 & 2 & 2018-06-21 \\\\\n",
       "\t8 & 1142 & 2 & 2019-02-09 \\\\\n",
       "\t9 & 1132 & 1 & 2018-12-19 \\\\\n",
       "\t10 & 1192 & 1 & 2018-06-03 \\\\\n",
       "\\end{tabular}\n"
      ],
      "text/plain": [
       "\u001b[1m10×3 DataFrame\u001b[0m\n",
       "\u001b[1m Row \u001b[0m│\u001b[1m receipt_no \u001b[0m\u001b[1m receipt_sub_no \u001b[0m\u001b[1m sales_ymd_date \u001b[0m\n",
       "     │\u001b[90m Int64      \u001b[0m\u001b[90m Int64          \u001b[0m\u001b[90m Date           \u001b[0m\n",
       "─────┼────────────────────────────────────────────\n",
       "   1 │       1192               2  2019-09-03\n",
       "   2 │       1152               2  2019-03-04\n",
       "   3 │       1192               2  2017-09-21\n",
       "   4 │       1112               1  2017-07-21\n",
       "   5 │       1162               2  2019-01-03\n",
       "   6 │       1192               2  2019-07-24\n",
       "   7 │       1172               2  2018-06-21\n",
       "   8 │       1142               2  2019-02-09\n",
       "   9 │       1132               1  2018-12-19\n",
       "  10 │       1192               1  2018-06-03"
      ]
     },
     "execution_count": 106,
     "metadata": {},
     "output_type": "execute_result"
    }
   ],
   "source": [
    "# p47\n",
    "@chain df_receipt begin\n",
    "    transform(:sales_ymd => (x -> Date.(string.(x), DateFormat(\"yyyymmdd\"))) => :sales_ymd_date)\n",
    "    select(:receipt_no, :receipt_sub_no, :sales_ymd_date)\n",
    "    first(10)\n",
    "end"
   ]
  },
  {
   "cell_type": "code",
   "execution_count": 134,
   "metadata": {},
   "outputs": [
    {
     "data": {
      "text/html": [
       "<div><div style = \"float: left;\"><span>10×3 DataFrame</span></div><div style = \"clear: both;\"></div></div><div class = \"data-frame\" style = \"overflow-x: scroll;\"><table class = \"data-frame\" style = \"margin-bottom: 6px;\"><thead><tr class = \"header\"><th class = \"rowNumber\" style = \"font-weight: bold; text-align: right;\">Row</th><th style = \"text-align: left;\">receipt_no</th><th style = \"text-align: left;\">receipt_sub_no</th><th style = \"text-align: left;\">sales_epoch_date</th></tr><tr class = \"subheader headerLastRow\"><th class = \"rowNumber\" style = \"font-weight: bold; text-align: right;\"></th><th title = \"Int64\" style = \"text-align: left;\">Int64</th><th title = \"Int64\" style = \"text-align: left;\">Int64</th><th title = \"Date\" style = \"text-align: left;\">Date</th></tr></thead><tbody><tr><td class = \"rowNumber\" style = \"font-weight: bold; text-align: right;\">1</td><td style = \"text-align: right;\">1192</td><td style = \"text-align: right;\">2</td><td style = \"text-align: left;\">2019-09-03</td></tr><tr><td class = \"rowNumber\" style = \"font-weight: bold; text-align: right;\">2</td><td style = \"text-align: right;\">1152</td><td style = \"text-align: right;\">2</td><td style = \"text-align: left;\">2019-03-04</td></tr><tr><td class = \"rowNumber\" style = \"font-weight: bold; text-align: right;\">3</td><td style = \"text-align: right;\">1192</td><td style = \"text-align: right;\">2</td><td style = \"text-align: left;\">2017-09-21</td></tr><tr><td class = \"rowNumber\" style = \"font-weight: bold; text-align: right;\">4</td><td style = \"text-align: right;\">1112</td><td style = \"text-align: right;\">1</td><td style = \"text-align: left;\">2017-07-21</td></tr><tr><td class = \"rowNumber\" style = \"font-weight: bold; text-align: right;\">5</td><td style = \"text-align: right;\">1162</td><td style = \"text-align: right;\">2</td><td style = \"text-align: left;\">2019-01-03</td></tr><tr><td class = \"rowNumber\" style = \"font-weight: bold; text-align: right;\">6</td><td style = \"text-align: right;\">1192</td><td style = \"text-align: right;\">2</td><td style = \"text-align: left;\">2019-07-24</td></tr><tr><td class = \"rowNumber\" style = \"font-weight: bold; text-align: right;\">7</td><td style = \"text-align: right;\">1172</td><td style = \"text-align: right;\">2</td><td style = \"text-align: left;\">2018-06-21</td></tr><tr><td class = \"rowNumber\" style = \"font-weight: bold; text-align: right;\">8</td><td style = \"text-align: right;\">1142</td><td style = \"text-align: right;\">2</td><td style = \"text-align: left;\">2019-02-09</td></tr><tr><td class = \"rowNumber\" style = \"font-weight: bold; text-align: right;\">9</td><td style = \"text-align: right;\">1132</td><td style = \"text-align: right;\">1</td><td style = \"text-align: left;\">2018-12-19</td></tr><tr><td class = \"rowNumber\" style = \"font-weight: bold; text-align: right;\">10</td><td style = \"text-align: right;\">1192</td><td style = \"text-align: right;\">1</td><td style = \"text-align: left;\">2018-06-03</td></tr></tbody></table></div>"
      ],
      "text/latex": [
       "\\begin{tabular}{r|ccc}\n",
       "\t& receipt\\_no & receipt\\_sub\\_no & sales\\_epoch\\_date\\\\\n",
       "\t\\hline\n",
       "\t& Int64 & Int64 & Date\\\\\n",
       "\t\\hline\n",
       "\t1 & 1192 & 2 & 2019-09-03 \\\\\n",
       "\t2 & 1152 & 2 & 2019-03-04 \\\\\n",
       "\t3 & 1192 & 2 & 2017-09-21 \\\\\n",
       "\t4 & 1112 & 1 & 2017-07-21 \\\\\n",
       "\t5 & 1162 & 2 & 2019-01-03 \\\\\n",
       "\t6 & 1192 & 2 & 2019-07-24 \\\\\n",
       "\t7 & 1172 & 2 & 2018-06-21 \\\\\n",
       "\t8 & 1142 & 2 & 2019-02-09 \\\\\n",
       "\t9 & 1132 & 1 & 2018-12-19 \\\\\n",
       "\t10 & 1192 & 1 & 2018-06-03 \\\\\n",
       "\\end{tabular}\n"
      ],
      "text/plain": [
       "\u001b[1m10×3 DataFrame\u001b[0m\n",
       "\u001b[1m Row \u001b[0m│\u001b[1m receipt_no \u001b[0m\u001b[1m receipt_sub_no \u001b[0m\u001b[1m sales_epoch_date \u001b[0m\n",
       "     │\u001b[90m Int64      \u001b[0m\u001b[90m Int64          \u001b[0m\u001b[90m Date             \u001b[0m\n",
       "─────┼──────────────────────────────────────────────\n",
       "   1 │       1192               2  2019-09-03\n",
       "   2 │       1152               2  2019-03-04\n",
       "   3 │       1192               2  2017-09-21\n",
       "   4 │       1112               1  2017-07-21\n",
       "   5 │       1162               2  2019-01-03\n",
       "   6 │       1192               2  2019-07-24\n",
       "   7 │       1172               2  2018-06-21\n",
       "   8 │       1142               2  2019-02-09\n",
       "   9 │       1132               1  2018-12-19\n",
       "  10 │       1192               1  2018-06-03"
      ]
     },
     "execution_count": 134,
     "metadata": {},
     "output_type": "execute_result"
    }
   ],
   "source": [
    "# p48\n",
    "@chain df_receipt begin\n",
    "    transform(:sales_epoch => (x -> unix2datetime.(x)) => :sales_epoch_datetime)\n",
    "    transform(:sales_epoch_datetime => (x -> Date.(x)) => :sales_epoch_date)\n",
    "    select(:receipt_no, :receipt_sub_no, :sales_epoch_date)\n",
    "    first(10)\n",
    "end\n",
    "#unix2datetime.(df_receipt.sales_epoch)"
   ]
  },
  {
   "cell_type": "code",
   "execution_count": 139,
   "metadata": {},
   "outputs": [
    {
     "data": {
      "text/html": [
       "<div><div style = \"float: left;\"><span>10×3 DataFrame</span></div><div style = \"clear: both;\"></div></div><div class = \"data-frame\" style = \"overflow-x: scroll;\"><table class = \"data-frame\" style = \"margin-bottom: 6px;\"><thead><tr class = \"header\"><th class = \"rowNumber\" style = \"font-weight: bold; text-align: right;\">Row</th><th style = \"text-align: left;\">receipt_no</th><th style = \"text-align: left;\">receipt_sub_no</th><th style = \"text-align: left;\">sales_epoch_year</th></tr><tr class = \"subheader headerLastRow\"><th class = \"rowNumber\" style = \"font-weight: bold; text-align: right;\"></th><th title = \"Int64\" style = \"text-align: left;\">Int64</th><th title = \"Int64\" style = \"text-align: left;\">Int64</th><th title = \"Int64\" style = \"text-align: left;\">Int64</th></tr></thead><tbody><tr><td class = \"rowNumber\" style = \"font-weight: bold; text-align: right;\">1</td><td style = \"text-align: right;\">1192</td><td style = \"text-align: right;\">2</td><td style = \"text-align: right;\">2019</td></tr><tr><td class = \"rowNumber\" style = \"font-weight: bold; text-align: right;\">2</td><td style = \"text-align: right;\">1152</td><td style = \"text-align: right;\">2</td><td style = \"text-align: right;\">2019</td></tr><tr><td class = \"rowNumber\" style = \"font-weight: bold; text-align: right;\">3</td><td style = \"text-align: right;\">1192</td><td style = \"text-align: right;\">2</td><td style = \"text-align: right;\">2017</td></tr><tr><td class = \"rowNumber\" style = \"font-weight: bold; text-align: right;\">4</td><td style = \"text-align: right;\">1112</td><td style = \"text-align: right;\">1</td><td style = \"text-align: right;\">2017</td></tr><tr><td class = \"rowNumber\" style = \"font-weight: bold; text-align: right;\">5</td><td style = \"text-align: right;\">1162</td><td style = \"text-align: right;\">2</td><td style = \"text-align: right;\">2019</td></tr><tr><td class = \"rowNumber\" style = \"font-weight: bold; text-align: right;\">6</td><td style = \"text-align: right;\">1192</td><td style = \"text-align: right;\">2</td><td style = \"text-align: right;\">2019</td></tr><tr><td class = \"rowNumber\" style = \"font-weight: bold; text-align: right;\">7</td><td style = \"text-align: right;\">1172</td><td style = \"text-align: right;\">2</td><td style = \"text-align: right;\">2018</td></tr><tr><td class = \"rowNumber\" style = \"font-weight: bold; text-align: right;\">8</td><td style = \"text-align: right;\">1142</td><td style = \"text-align: right;\">2</td><td style = \"text-align: right;\">2019</td></tr><tr><td class = \"rowNumber\" style = \"font-weight: bold; text-align: right;\">9</td><td style = \"text-align: right;\">1132</td><td style = \"text-align: right;\">1</td><td style = \"text-align: right;\">2018</td></tr><tr><td class = \"rowNumber\" style = \"font-weight: bold; text-align: right;\">10</td><td style = \"text-align: right;\">1192</td><td style = \"text-align: right;\">1</td><td style = \"text-align: right;\">2018</td></tr></tbody></table></div>"
      ],
      "text/latex": [
       "\\begin{tabular}{r|ccc}\n",
       "\t& receipt\\_no & receipt\\_sub\\_no & sales\\_epoch\\_year\\\\\n",
       "\t\\hline\n",
       "\t& Int64 & Int64 & Int64\\\\\n",
       "\t\\hline\n",
       "\t1 & 1192 & 2 & 2019 \\\\\n",
       "\t2 & 1152 & 2 & 2019 \\\\\n",
       "\t3 & 1192 & 2 & 2017 \\\\\n",
       "\t4 & 1112 & 1 & 2017 \\\\\n",
       "\t5 & 1162 & 2 & 2019 \\\\\n",
       "\t6 & 1192 & 2 & 2019 \\\\\n",
       "\t7 & 1172 & 2 & 2018 \\\\\n",
       "\t8 & 1142 & 2 & 2019 \\\\\n",
       "\t9 & 1132 & 1 & 2018 \\\\\n",
       "\t10 & 1192 & 1 & 2018 \\\\\n",
       "\\end{tabular}\n"
      ],
      "text/plain": [
       "\u001b[1m10×3 DataFrame\u001b[0m\n",
       "\u001b[1m Row \u001b[0m│\u001b[1m receipt_no \u001b[0m\u001b[1m receipt_sub_no \u001b[0m\u001b[1m sales_epoch_year \u001b[0m\n",
       "     │\u001b[90m Int64      \u001b[0m\u001b[90m Int64          \u001b[0m\u001b[90m Int64            \u001b[0m\n",
       "─────┼──────────────────────────────────────────────\n",
       "   1 │       1192               2              2019\n",
       "   2 │       1152               2              2019\n",
       "   3 │       1192               2              2017\n",
       "   4 │       1112               1              2017\n",
       "   5 │       1162               2              2019\n",
       "   6 │       1192               2              2019\n",
       "   7 │       1172               2              2018\n",
       "   8 │       1142               2              2019\n",
       "   9 │       1132               1              2018\n",
       "  10 │       1192               1              2018"
      ]
     },
     "execution_count": 139,
     "metadata": {},
     "output_type": "execute_result"
    }
   ],
   "source": [
    "# p49\n",
    "@chain df_receipt begin\n",
    "    transform(:sales_epoch => (x -> unix2datetime.(x)) => :sales_epoch_datetime)\n",
    "    transform(:sales_epoch_datetime => (x -> Dates.year.(x)) => :sales_epoch_year)\n",
    "    select(:receipt_no, :receipt_sub_no, :sales_epoch_year)\n",
    "    first(10)\n",
    "end"
   ]
  },
  {
   "cell_type": "code",
   "execution_count": 184,
   "metadata": {},
   "outputs": [
    {
     "data": {
      "text/html": [
       "<div><div style = \"float: left;\"><span>10×3 DataFrame</span></div><div style = \"clear: both;\"></div></div><div class = \"data-frame\" style = \"overflow-x: scroll;\"><table class = \"data-frame\" style = \"margin-bottom: 6px;\"><thead><tr class = \"header\"><th class = \"rowNumber\" style = \"font-weight: bold; text-align: right;\">Row</th><th style = \"text-align: left;\">receipt_no</th><th style = \"text-align: left;\">receipt_sub_no</th><th style = \"text-align: left;\">sales_epoch_month_str</th></tr><tr class = \"subheader headerLastRow\"><th class = \"rowNumber\" style = \"font-weight: bold; text-align: right;\"></th><th title = \"Int64\" style = \"text-align: left;\">Int64</th><th title = \"Int64\" style = \"text-align: left;\">Int64</th><th title = \"String\" style = \"text-align: left;\">String</th></tr></thead><tbody><tr><td class = \"rowNumber\" style = \"font-weight: bold; text-align: right;\">1</td><td style = \"text-align: right;\">1192</td><td style = \"text-align: right;\">2</td><td style = \"text-align: left;\">09</td></tr><tr><td class = \"rowNumber\" style = \"font-weight: bold; text-align: right;\">2</td><td style = \"text-align: right;\">1152</td><td style = \"text-align: right;\">2</td><td style = \"text-align: left;\">03</td></tr><tr><td class = \"rowNumber\" style = \"font-weight: bold; text-align: right;\">3</td><td style = \"text-align: right;\">1192</td><td style = \"text-align: right;\">2</td><td style = \"text-align: left;\">09</td></tr><tr><td class = \"rowNumber\" style = \"font-weight: bold; text-align: right;\">4</td><td style = \"text-align: right;\">1112</td><td style = \"text-align: right;\">1</td><td style = \"text-align: left;\">07</td></tr><tr><td class = \"rowNumber\" style = \"font-weight: bold; text-align: right;\">5</td><td style = \"text-align: right;\">1162</td><td style = \"text-align: right;\">2</td><td style = \"text-align: left;\">01</td></tr><tr><td class = \"rowNumber\" style = \"font-weight: bold; text-align: right;\">6</td><td style = \"text-align: right;\">1192</td><td style = \"text-align: right;\">2</td><td style = \"text-align: left;\">07</td></tr><tr><td class = \"rowNumber\" style = \"font-weight: bold; text-align: right;\">7</td><td style = \"text-align: right;\">1172</td><td style = \"text-align: right;\">2</td><td style = \"text-align: left;\">06</td></tr><tr><td class = \"rowNumber\" style = \"font-weight: bold; text-align: right;\">8</td><td style = \"text-align: right;\">1142</td><td style = \"text-align: right;\">2</td><td style = \"text-align: left;\">02</td></tr><tr><td class = \"rowNumber\" style = \"font-weight: bold; text-align: right;\">9</td><td style = \"text-align: right;\">1132</td><td style = \"text-align: right;\">1</td><td style = \"text-align: left;\">12</td></tr><tr><td class = \"rowNumber\" style = \"font-weight: bold; text-align: right;\">10</td><td style = \"text-align: right;\">1192</td><td style = \"text-align: right;\">1</td><td style = \"text-align: left;\">06</td></tr></tbody></table></div>"
      ],
      "text/latex": [
       "\\begin{tabular}{r|ccc}\n",
       "\t& receipt\\_no & receipt\\_sub\\_no & sales\\_epoch\\_month\\_str\\\\\n",
       "\t\\hline\n",
       "\t& Int64 & Int64 & String\\\\\n",
       "\t\\hline\n",
       "\t1 & 1192 & 2 & 09 \\\\\n",
       "\t2 & 1152 & 2 & 03 \\\\\n",
       "\t3 & 1192 & 2 & 09 \\\\\n",
       "\t4 & 1112 & 1 & 07 \\\\\n",
       "\t5 & 1162 & 2 & 01 \\\\\n",
       "\t6 & 1192 & 2 & 07 \\\\\n",
       "\t7 & 1172 & 2 & 06 \\\\\n",
       "\t8 & 1142 & 2 & 02 \\\\\n",
       "\t9 & 1132 & 1 & 12 \\\\\n",
       "\t10 & 1192 & 1 & 06 \\\\\n",
       "\\end{tabular}\n"
      ],
      "text/plain": [
       "\u001b[1m10×3 DataFrame\u001b[0m\n",
       "\u001b[1m Row \u001b[0m│\u001b[1m receipt_no \u001b[0m\u001b[1m receipt_sub_no \u001b[0m\u001b[1m sales_epoch_month_str \u001b[0m\n",
       "     │\u001b[90m Int64      \u001b[0m\u001b[90m Int64          \u001b[0m\u001b[90m String                \u001b[0m\n",
       "─────┼───────────────────────────────────────────────────\n",
       "   1 │       1192               2  09\n",
       "   2 │       1152               2  03\n",
       "   3 │       1192               2  09\n",
       "   4 │       1112               1  07\n",
       "   5 │       1162               2  01\n",
       "   6 │       1192               2  07\n",
       "   7 │       1172               2  06\n",
       "   8 │       1142               2  02\n",
       "   9 │       1132               1  12\n",
       "  10 │       1192               1  06"
      ]
     },
     "execution_count": 184,
     "metadata": {},
     "output_type": "execute_result"
    }
   ],
   "source": [
    "# p50\n",
    "@chain df_receipt begin\n",
    "    transform(:sales_epoch => (x -> unix2datetime.(x)) => :sales_epoch_datetime)\n",
    "    transform(:sales_epoch_datetime => (x -> Dates.month.(x)) => :sales_epoch_month)\n",
    "    transform(:sales_epoch_month => (x -> string.(x, pad = 2)) => :sales_epoch_month_str) # pad = 2で2桁にする．\n",
    "    select(:receipt_no, :receipt_sub_no, :sales_epoch_month_str)\n",
    "    first(10)\n",
    "end"
   ]
  },
  {
   "cell_type": "code",
   "execution_count": 185,
   "metadata": {},
   "outputs": [
    {
     "data": {
      "text/html": [
       "<div><div style = \"float: left;\"><span>10×3 DataFrame</span></div><div style = \"clear: both;\"></div></div><div class = \"data-frame\" style = \"overflow-x: scroll;\"><table class = \"data-frame\" style = \"margin-bottom: 6px;\"><thead><tr class = \"header\"><th class = \"rowNumber\" style = \"font-weight: bold; text-align: right;\">Row</th><th style = \"text-align: left;\">receipt_no</th><th style = \"text-align: left;\">receipt_sub_no</th><th style = \"text-align: left;\">sales_epoch_day_str</th></tr><tr class = \"subheader headerLastRow\"><th class = \"rowNumber\" style = \"font-weight: bold; text-align: right;\"></th><th title = \"Int64\" style = \"text-align: left;\">Int64</th><th title = \"Int64\" style = \"text-align: left;\">Int64</th><th title = \"String\" style = \"text-align: left;\">String</th></tr></thead><tbody><tr><td class = \"rowNumber\" style = \"font-weight: bold; text-align: right;\">1</td><td style = \"text-align: right;\">1192</td><td style = \"text-align: right;\">2</td><td style = \"text-align: left;\">03</td></tr><tr><td class = \"rowNumber\" style = \"font-weight: bold; text-align: right;\">2</td><td style = \"text-align: right;\">1152</td><td style = \"text-align: right;\">2</td><td style = \"text-align: left;\">04</td></tr><tr><td class = \"rowNumber\" style = \"font-weight: bold; text-align: right;\">3</td><td style = \"text-align: right;\">1192</td><td style = \"text-align: right;\">2</td><td style = \"text-align: left;\">21</td></tr><tr><td class = \"rowNumber\" style = \"font-weight: bold; text-align: right;\">4</td><td style = \"text-align: right;\">1112</td><td style = \"text-align: right;\">1</td><td style = \"text-align: left;\">21</td></tr><tr><td class = \"rowNumber\" style = \"font-weight: bold; text-align: right;\">5</td><td style = \"text-align: right;\">1162</td><td style = \"text-align: right;\">2</td><td style = \"text-align: left;\">03</td></tr><tr><td class = \"rowNumber\" style = \"font-weight: bold; text-align: right;\">6</td><td style = \"text-align: right;\">1192</td><td style = \"text-align: right;\">2</td><td style = \"text-align: left;\">24</td></tr><tr><td class = \"rowNumber\" style = \"font-weight: bold; text-align: right;\">7</td><td style = \"text-align: right;\">1172</td><td style = \"text-align: right;\">2</td><td style = \"text-align: left;\">21</td></tr><tr><td class = \"rowNumber\" style = \"font-weight: bold; text-align: right;\">8</td><td style = \"text-align: right;\">1142</td><td style = \"text-align: right;\">2</td><td style = \"text-align: left;\">09</td></tr><tr><td class = \"rowNumber\" style = \"font-weight: bold; text-align: right;\">9</td><td style = \"text-align: right;\">1132</td><td style = \"text-align: right;\">1</td><td style = \"text-align: left;\">19</td></tr><tr><td class = \"rowNumber\" style = \"font-weight: bold; text-align: right;\">10</td><td style = \"text-align: right;\">1192</td><td style = \"text-align: right;\">1</td><td style = \"text-align: left;\">03</td></tr></tbody></table></div>"
      ],
      "text/latex": [
       "\\begin{tabular}{r|ccc}\n",
       "\t& receipt\\_no & receipt\\_sub\\_no & sales\\_epoch\\_day\\_str\\\\\n",
       "\t\\hline\n",
       "\t& Int64 & Int64 & String\\\\\n",
       "\t\\hline\n",
       "\t1 & 1192 & 2 & 03 \\\\\n",
       "\t2 & 1152 & 2 & 04 \\\\\n",
       "\t3 & 1192 & 2 & 21 \\\\\n",
       "\t4 & 1112 & 1 & 21 \\\\\n",
       "\t5 & 1162 & 2 & 03 \\\\\n",
       "\t6 & 1192 & 2 & 24 \\\\\n",
       "\t7 & 1172 & 2 & 21 \\\\\n",
       "\t8 & 1142 & 2 & 09 \\\\\n",
       "\t9 & 1132 & 1 & 19 \\\\\n",
       "\t10 & 1192 & 1 & 03 \\\\\n",
       "\\end{tabular}\n"
      ],
      "text/plain": [
       "\u001b[1m10×3 DataFrame\u001b[0m\n",
       "\u001b[1m Row \u001b[0m│\u001b[1m receipt_no \u001b[0m\u001b[1m receipt_sub_no \u001b[0m\u001b[1m sales_epoch_day_str \u001b[0m\n",
       "     │\u001b[90m Int64      \u001b[0m\u001b[90m Int64          \u001b[0m\u001b[90m String              \u001b[0m\n",
       "─────┼─────────────────────────────────────────────────\n",
       "   1 │       1192               2  03\n",
       "   2 │       1152               2  04\n",
       "   3 │       1192               2  21\n",
       "   4 │       1112               1  21\n",
       "   5 │       1162               2  03\n",
       "   6 │       1192               2  24\n",
       "   7 │       1172               2  21\n",
       "   8 │       1142               2  09\n",
       "   9 │       1132               1  19\n",
       "  10 │       1192               1  03"
      ]
     },
     "execution_count": 185,
     "metadata": {},
     "output_type": "execute_result"
    }
   ],
   "source": [
    "# p51\n",
    "@chain df_receipt begin\n",
    "    transform(:sales_epoch => (x -> unix2datetime.(x)) => :sales_epoch_datetime)\n",
    "    transform(:sales_epoch_datetime => (x -> Dates.day.(x)) => :sales_epoch_day)\n",
    "    transform(:sales_epoch_day => (x -> string.(x, pad = 2)) => :sales_epoch_day_str)\n",
    "    select(:receipt_no, :receipt_sub_no, :sales_epoch_day_str)\n",
    "    first(10)\n",
    "end"
   ]
  },
  {
   "cell_type": "code",
   "execution_count": 257,
   "metadata": {},
   "outputs": [
    {
     "data": {
      "text/html": [
       "<div><div style = \"float: left;\"><span>10×3 DataFrame</span></div><div style = \"clear: both;\"></div></div><div class = \"data-frame\" style = \"overflow-x: scroll;\"><table class = \"data-frame\" style = \"margin-bottom: 6px;\"><thead><tr class = \"header\"><th class = \"rowNumber\" style = \"font-weight: bold; text-align: right;\">Row</th><th style = \"text-align: left;\">customer_id</th><th style = \"text-align: left;\">amount_sum</th><th style = \"text-align: left;\">amount_sum_over_2000</th></tr><tr class = \"subheader headerLastRow\"><th class = \"rowNumber\" style = \"font-weight: bold; text-align: right;\"></th><th title = \"String15\" style = \"text-align: left;\">String15</th><th title = \"Int64\" style = \"text-align: left;\">Int64</th><th title = \"Int64\" style = \"text-align: left;\">Int64</th></tr></thead><tbody><tr><td class = \"rowNumber\" style = \"font-weight: bold; text-align: right;\">1</td><td style = \"text-align: left;\">CS011415000006</td><td style = \"text-align: right;\">16094</td><td style = \"text-align: right;\">1</td></tr><tr><td class = \"rowNumber\" style = \"font-weight: bold; text-align: right;\">2</td><td style = \"text-align: left;\">CS028605000002</td><td style = \"text-align: right;\">11270</td><td style = \"text-align: right;\">1</td></tr><tr><td class = \"rowNumber\" style = \"font-weight: bold; text-align: right;\">3</td><td style = \"text-align: left;\">CS015515000034</td><td style = \"text-align: right;\">15300</td><td style = \"text-align: right;\">1</td></tr><tr><td class = \"rowNumber\" style = \"font-weight: bold; text-align: right;\">4</td><td style = \"text-align: left;\">CS021515000089</td><td style = \"text-align: right;\">17580</td><td style = \"text-align: right;\">1</td></tr><tr><td class = \"rowNumber\" style = \"font-weight: bold; text-align: right;\">5</td><td style = \"text-align: left;\">CS015515000083</td><td style = \"text-align: right;\">9229</td><td style = \"text-align: right;\">1</td></tr><tr><td class = \"rowNumber\" style = \"font-weight: bold; text-align: right;\">6</td><td style = \"text-align: left;\">CS017414000114</td><td style = \"text-align: right;\">8745</td><td style = \"text-align: right;\">1</td></tr><tr><td class = \"rowNumber\" style = \"font-weight: bold; text-align: right;\">7</td><td style = \"text-align: left;\">CS028515000029</td><td style = \"text-align: right;\">8536</td><td style = \"text-align: right;\">1</td></tr><tr><td class = \"rowNumber\" style = \"font-weight: bold; text-align: right;\">8</td><td style = \"text-align: left;\">CS035615000040</td><td style = \"text-align: right;\">5608</td><td style = \"text-align: right;\">1</td></tr><tr><td class = \"rowNumber\" style = \"font-weight: bold; text-align: right;\">9</td><td style = \"text-align: left;\">CS030515000189</td><td style = \"text-align: right;\">11913</td><td style = \"text-align: right;\">1</td></tr><tr><td class = \"rowNumber\" style = \"font-weight: bold; text-align: right;\">10</td><td style = \"text-align: left;\">CS035414000024</td><td style = \"text-align: right;\">17615</td><td style = \"text-align: right;\">1</td></tr></tbody></table></div>"
      ],
      "text/latex": [
       "\\begin{tabular}{r|ccc}\n",
       "\t& customer\\_id & amount\\_sum & amount\\_sum\\_over\\_2000\\\\\n",
       "\t\\hline\n",
       "\t& String15 & Int64 & Int64\\\\\n",
       "\t\\hline\n",
       "\t1 & CS011415000006 & 16094 & 1 \\\\\n",
       "\t2 & CS028605000002 & 11270 & 1 \\\\\n",
       "\t3 & CS015515000034 & 15300 & 1 \\\\\n",
       "\t4 & CS021515000089 & 17580 & 1 \\\\\n",
       "\t5 & CS015515000083 & 9229 & 1 \\\\\n",
       "\t6 & CS017414000114 & 8745 & 1 \\\\\n",
       "\t7 & CS028515000029 & 8536 & 1 \\\\\n",
       "\t8 & CS035615000040 & 5608 & 1 \\\\\n",
       "\t9 & CS030515000189 & 11913 & 1 \\\\\n",
       "\t10 & CS035414000024 & 17615 & 1 \\\\\n",
       "\\end{tabular}\n"
      ],
      "text/plain": [
       "\u001b[1m10×3 DataFrame\u001b[0m\n",
       "\u001b[1m Row \u001b[0m│\u001b[1m customer_id    \u001b[0m\u001b[1m amount_sum \u001b[0m\u001b[1m amount_sum_over_2000 \u001b[0m\n",
       "     │\u001b[90m String15       \u001b[0m\u001b[90m Int64      \u001b[0m\u001b[90m Int64                \u001b[0m\n",
       "─────┼──────────────────────────────────────────────────\n",
       "   1 │ CS011415000006       16094                     1\n",
       "   2 │ CS028605000002       11270                     1\n",
       "   3 │ CS015515000034       15300                     1\n",
       "   4 │ CS021515000089       17580                     1\n",
       "   5 │ CS015515000083        9229                     1\n",
       "   6 │ CS017414000114        8745                     1\n",
       "   7 │ CS028515000029        8536                     1\n",
       "   8 │ CS035615000040        5608                     1\n",
       "   9 │ CS030515000189       11913                     1\n",
       "  10 │ CS035414000024       17615                     1"
      ]
     },
     "execution_count": 257,
     "metadata": {},
     "output_type": "execute_result"
    }
   ],
   "source": [
    "# p52\n",
    "@chain df_receipt begin\n",
    "    filter(row -> !startswith(row.customer_id, \"Z\"),_)\n",
    "    groupby(:customer_id)\n",
    "    combine(:amount => sum)\n",
    "    transform(:amount_sum => (x -> Int.(x .> 2000)) => :amount_sum_over_2000)\n",
    "    first(10)\n",
    "end"
   ]
  },
  {
   "cell_type": "code",
   "execution_count": 270,
   "metadata": {},
   "outputs": [
    {
     "data": {
      "text/html": [
       "<div><div style = \"float: left;\"><span>3×2 DataFrame</span></div><div style = \"clear: both;\"></div></div><div class = \"data-frame\" style = \"overflow-x: scroll;\"><table class = \"data-frame\" style = \"margin-bottom: 6px;\"><thead><tr class = \"header\"><th class = \"rowNumber\" style = \"font-weight: bold; text-align: right;\">Row</th><th style = \"text-align: left;\">postal_cd_dummy</th><th style = \"text-align: left;\">nrow</th></tr><tr class = \"subheader headerLastRow\"><th class = \"rowNumber\" style = \"font-weight: bold; text-align: right;\"></th><th title = \"Union{Missing, Int64}\" style = \"text-align: left;\">Int64?</th><th title = \"Int64\" style = \"text-align: left;\">Int64</th></tr></thead><tbody><tr><td class = \"rowNumber\" style = \"font-weight: bold; text-align: right;\">1</td><td style = \"text-align: right;\">0</td><td style = \"text-align: right;\">3906</td></tr><tr><td class = \"rowNumber\" style = \"font-weight: bold; text-align: right;\">2</td><td style = \"text-align: right;\">1</td><td style = \"text-align: right;\">4400</td></tr><tr><td class = \"rowNumber\" style = \"font-weight: bold; text-align: right;\">3</td><td style = \"font-style: italic; text-align: right;\">missing</td><td style = \"text-align: right;\">1</td></tr></tbody></table></div>"
      ],
      "text/latex": [
       "\\begin{tabular}{r|cc}\n",
       "\t& postal\\_cd\\_dummy & nrow\\\\\n",
       "\t\\hline\n",
       "\t& Int64? & Int64\\\\\n",
       "\t\\hline\n",
       "\t1 & 0 & 3906 \\\\\n",
       "\t2 & 1 & 4400 \\\\\n",
       "\t3 & \\emph{missing} & 1 \\\\\n",
       "\\end{tabular}\n"
      ],
      "text/plain": [
       "\u001b[1m3×2 DataFrame\u001b[0m\n",
       "\u001b[1m Row \u001b[0m│\u001b[1m postal_cd_dummy \u001b[0m\u001b[1m nrow  \u001b[0m\n",
       "     │\u001b[90m Int64?          \u001b[0m\u001b[90m Int64 \u001b[0m\n",
       "─────┼────────────────────────\n",
       "   1 │               0   3906\n",
       "   2 │               1   4400\n",
       "   3 │\u001b[90m         missing \u001b[0m     1"
      ]
     },
     "execution_count": 270,
     "metadata": {},
     "output_type": "execute_result"
    }
   ],
   "source": [
    "# p53\n",
    "@chain df_customer begin\n",
    "    transform(:postal_cd => (x -> parse.(Int, SubString.(x, 1, 3))) => :postal_cd_prefix)\n",
    "    transform(:postal_cd_prefix => (x -> Int.(100 .<= x .<= 209)) => :postal_cd_dummy)\n",
    "    leftjoin(df_receipt, _, on =:customer_id)\n",
    "    unique!(:customer_id)\n",
    "    groupby(:postal_cd_dummy)\n",
    "    combine(nrow)\n",
    "end"
   ]
  },
  {
   "cell_type": "code",
   "execution_count": 305,
   "metadata": {},
   "outputs": [
    {
     "data": {
      "text/html": [
       "<div><div style = \"float: left;\"><span>10×3 DataFrame</span></div><div style = \"clear: both;\"></div></div><div class = \"data-frame\" style = \"overflow-x: scroll;\"><table class = \"data-frame\" style = \"margin-bottom: 6px;\"><thead><tr class = \"header\"><th class = \"rowNumber\" style = \"font-weight: bold; text-align: right;\">Row</th><th style = \"text-align: left;\">customer_id</th><th style = \"text-align: left;\">address</th><th style = \"text-align: left;\">address_code</th></tr><tr class = \"subheader headerLastRow\"><th class = \"rowNumber\" style = \"font-weight: bold; text-align: right;\"></th><th title = \"String15\" style = \"text-align: left;\">String15</th><th title = \"String\" style = \"text-align: left;\">String</th><th title = \"Int64\" style = \"text-align: left;\">Int64</th></tr></thead><tbody><tr><td class = \"rowNumber\" style = \"font-weight: bold; text-align: right;\">1</td><td style = \"text-align: left;\">CS035114000004</td><td style = \"text-align: left;\">東京都世田谷区桜**********</td><td style = \"text-align: right;\">13</td></tr><tr><td class = \"rowNumber\" style = \"font-weight: bold; text-align: right;\">2</td><td style = \"text-align: left;\">CS022103000002</td><td style = \"text-align: left;\">神奈川県逗子市逗子**********</td><td style = \"text-align: right;\">14</td></tr><tr><td class = \"rowNumber\" style = \"font-weight: bold; text-align: right;\">3</td><td style = \"text-align: left;\">CS002113000009</td><td style = \"text-align: left;\">東京都小金井市貫井南町**********</td><td style = \"text-align: right;\">13</td></tr><tr><td class = \"rowNumber\" style = \"font-weight: bold; text-align: right;\">4</td><td style = \"text-align: left;\">CS004115000014</td><td style = \"text-align: left;\">東京都中野区上鷺宮**********</td><td style = \"text-align: right;\">13</td></tr><tr><td class = \"rowNumber\" style = \"font-weight: bold; text-align: right;\">5</td><td style = \"text-align: left;\">CS002114000010</td><td style = \"text-align: left;\">東京都小金井市貫井北町**********</td><td style = \"text-align: right;\">13</td></tr><tr><td class = \"rowNumber\" style = \"font-weight: bold; text-align: right;\">6</td><td style = \"text-align: left;\">CS025115000002</td><td style = \"text-align: left;\">神奈川県横浜市泉区上飯田町**********</td><td style = \"text-align: right;\">14</td></tr><tr><td class = \"rowNumber\" style = \"font-weight: bold; text-align: right;\">7</td><td style = \"text-align: left;\">CS002113000025</td><td style = \"text-align: left;\">東京都小金井市貫井北町**********</td><td style = \"text-align: right;\">13</td></tr><tr><td class = \"rowNumber\" style = \"font-weight: bold; text-align: right;\">8</td><td style = \"text-align: left;\">CS033112000003</td><td style = \"text-align: left;\">神奈川県横浜市戸塚区名瀬町**********</td><td style = \"text-align: right;\">14</td></tr><tr><td class = \"rowNumber\" style = \"font-weight: bold; text-align: right;\">9</td><td style = \"text-align: left;\">CS007115000006</td><td style = \"text-align: left;\">千葉県佐倉市西志津**********</td><td style = \"text-align: right;\">12</td></tr><tr><td class = \"rowNumber\" style = \"font-weight: bold; text-align: right;\">10</td><td style = \"text-align: left;\">CS014113000008</td><td style = \"text-align: left;\">千葉県千葉市中央区東千葉**********</td><td style = \"text-align: right;\">12</td></tr></tbody></table></div>"
      ],
      "text/latex": [
       "\\begin{tabular}{r|ccc}\n",
       "\t& customer\\_id & address & address\\_code\\\\\n",
       "\t\\hline\n",
       "\t& String15 & String & Int64\\\\\n",
       "\t\\hline\n",
       "\t1 & CS035114000004 & 東京都世田谷区桜********** & 13 \\\\\n",
       "\t2 & CS022103000002 & 神奈川県逗子市逗子********** & 14 \\\\\n",
       "\t3 & CS002113000009 & 東京都小金井市貫井南町********** & 13 \\\\\n",
       "\t4 & CS004115000014 & 東京都中野区上鷺宮********** & 13 \\\\\n",
       "\t5 & CS002114000010 & 東京都小金井市貫井北町********** & 13 \\\\\n",
       "\t6 & CS025115000002 & 神奈川県横浜市泉区上飯田町********** & 14 \\\\\n",
       "\t7 & CS002113000025 & 東京都小金井市貫井北町********** & 13 \\\\\n",
       "\t8 & CS033112000003 & 神奈川県横浜市戸塚区名瀬町********** & 14 \\\\\n",
       "\t9 & CS007115000006 & 千葉県佐倉市西志津********** & 12 \\\\\n",
       "\t10 & CS014113000008 & 千葉県千葉市中央区東千葉********** & 12 \\\\\n",
       "\\end{tabular}\n"
      ],
      "text/plain": [
       "\u001b[1m10×3 DataFrame\u001b[0m\n",
       "\u001b[1m Row \u001b[0m│\u001b[1m customer_id    \u001b[0m\u001b[1m address                           \u001b[0m\u001b[1m address_code \u001b[0m\n",
       "     │\u001b[90m String15       \u001b[0m\u001b[90m String                            \u001b[0m\u001b[90m Int64        \u001b[0m\n",
       "─────┼─────────────────────────────────────────────────────────────────\n",
       "   1 │ CS035114000004  東京都世田谷区桜**********                   13\n",
       "   2 │ CS022103000002  神奈川県逗子市逗子**********                 14\n",
       "   3 │ CS002113000009  東京都小金井市貫井南町**********             13\n",
       "   4 │ CS004115000014  東京都中野区上鷺宮**********                 13\n",
       "   5 │ CS002114000010  東京都小金井市貫井北町**********             13\n",
       "   6 │ CS025115000002  神奈川県横浜市泉区上飯田町******…            14\n",
       "   7 │ CS002113000025  東京都小金井市貫井北町**********             13\n",
       "   8 │ CS033112000003  神奈川県横浜市戸塚区名瀬町******…            14\n",
       "   9 │ CS007115000006  千葉県佐倉市西志津**********                 12\n",
       "  10 │ CS014113000008  千葉県千葉市中央区東千葉********…            12"
      ]
     },
     "execution_count": 305,
     "metadata": {},
     "output_type": "execute_result"
    }
   ],
   "source": [
    "# p54\n",
    "@chain df_customer begin\n",
    "    transform(:address => (x -> Int.(occursin.(\"東京都\", x)) .* 13) => :address_tokyo)\n",
    "    transform(:address => (x -> Int.(occursin.(\"神奈川県\", x)) .* 14) => :address_kanagawa)\n",
    "    transform(:address => (x -> Int.(occursin.(\"埼玉県\", x)) .* 11) => :address_saitama)\n",
    "    transform(:address => (x -> Int.(occursin.(\"千葉県\", x)) .* 12) => :address_chiba)\n",
    "    transform(_, [:address_tokyo, :address_kanagawa, :address_saitama, :address_chiba] => (+) => :address_code)\n",
    "\n",
    "    select(:customer_id, :address, :address_code)\n",
    "    first(10)\n",
    "end"
   ]
  },
  {
   "cell_type": "code",
   "execution_count": null,
   "metadata": {},
   "outputs": [
    {
     "data": {
      "text/html": [
       "<div><div style = \"float: left;\"><span>8307×2 DataFrame</span></div><div style = \"float: right;\"><span style = \"font-style: italic;\">8282 rows omitted</span></div><div style = \"clear: both;\"></div></div><div class = \"data-frame\" style = \"overflow-x: scroll;\"><table class = \"data-frame\" style = \"margin-bottom: 6px;\"><thead><tr class = \"header\"><th class = \"rowNumber\" style = \"font-weight: bold; text-align: right;\">Row</th><th style = \"text-align: left;\">customer_id</th><th style = \"text-align: left;\">amount_sum</th></tr><tr class = \"subheader headerLastRow\"><th class = \"rowNumber\" style = \"font-weight: bold; text-align: right;\"></th><th title = \"String15\" style = \"text-align: left;\">String15</th><th title = \"Int64\" style = \"text-align: left;\">Int64</th></tr></thead><tbody><tr><td class = \"rowNumber\" style = \"font-weight: bold; text-align: right;\">1</td><td style = \"text-align: left;\">CS011415000006</td><td style = \"text-align: right;\">16094</td></tr><tr><td class = \"rowNumber\" style = \"font-weight: bold; text-align: right;\">2</td><td style = \"text-align: left;\">ZZ000000000000</td><td style = \"text-align: right;\">12395003</td></tr><tr><td class = \"rowNumber\" style = \"font-weight: bold; text-align: right;\">3</td><td style = \"text-align: left;\">CS028605000002</td><td style = \"text-align: right;\">11270</td></tr><tr><td class = \"rowNumber\" style = \"font-weight: bold; text-align: right;\">4</td><td style = \"text-align: left;\">CS015515000034</td><td style = \"text-align: right;\">15300</td></tr><tr><td class = \"rowNumber\" style = \"font-weight: bold; text-align: right;\">5</td><td style = \"text-align: left;\">CS021515000089</td><td style = \"text-align: right;\">17580</td></tr><tr><td class = \"rowNumber\" style = \"font-weight: bold; text-align: right;\">6</td><td style = \"text-align: left;\">CS015515000083</td><td style = \"text-align: right;\">9229</td></tr><tr><td class = \"rowNumber\" style = \"font-weight: bold; text-align: right;\">7</td><td style = \"text-align: left;\">CS017414000114</td><td style = \"text-align: right;\">8745</td></tr><tr><td class = \"rowNumber\" style = \"font-weight: bold; text-align: right;\">8</td><td style = \"text-align: left;\">CS028515000029</td><td style = \"text-align: right;\">8536</td></tr><tr><td class = \"rowNumber\" style = \"font-weight: bold; text-align: right;\">9</td><td style = \"text-align: left;\">CS035615000040</td><td style = \"text-align: right;\">5608</td></tr><tr><td class = \"rowNumber\" style = \"font-weight: bold; text-align: right;\">10</td><td style = \"text-align: left;\">CS030515000189</td><td style = \"text-align: right;\">11913</td></tr><tr><td class = \"rowNumber\" style = \"font-weight: bold; text-align: right;\">11</td><td style = \"text-align: left;\">CS035414000024</td><td style = \"text-align: right;\">17615</td></tr><tr><td class = \"rowNumber\" style = \"font-weight: bold; text-align: right;\">12</td><td style = \"text-align: left;\">CS039415000073</td><td style = \"text-align: right;\">9594</td></tr><tr><td class = \"rowNumber\" style = \"font-weight: bold; text-align: right;\">13</td><td style = \"text-align: left;\">CS038415000071</td><td style = \"text-align: right;\">12696</td></tr><tr><td style = \"text-align: right;\">&vellip;</td><td style = \"text-align: right;\">&vellip;</td><td style = \"text-align: right;\">&vellip;</td></tr><tr><td class = \"rowNumber\" style = \"font-weight: bold; text-align: right;\">8296</td><td style = \"text-align: left;\">CS024314000017</td><td style = \"text-align: right;\">133</td></tr><tr><td class = \"rowNumber\" style = \"font-weight: bold; text-align: right;\">8297</td><td style = \"text-align: left;\">CS004214000050</td><td style = \"text-align: right;\">125</td></tr><tr><td class = \"rowNumber\" style = \"font-weight: bold; text-align: right;\">8298</td><td style = \"text-align: left;\">CS037412000091</td><td style = \"text-align: right;\">115</td></tr><tr><td class = \"rowNumber\" style = \"font-weight: bold; text-align: right;\">8299</td><td style = \"text-align: left;\">CS035512000032</td><td style = \"text-align: right;\">138</td></tr><tr><td class = \"rowNumber\" style = \"font-weight: bold; text-align: right;\">8300</td><td style = \"text-align: left;\">CS017513000183</td><td style = \"text-align: right;\">140</td></tr><tr><td class = \"rowNumber\" style = \"font-weight: bold; text-align: right;\">8301</td><td style = \"text-align: left;\">CS005315000108</td><td style = \"text-align: right;\">115</td></tr><tr><td class = \"rowNumber\" style = \"font-weight: bold; text-align: right;\">8302</td><td style = \"text-align: left;\">CS029615000114</td><td style = \"text-align: right;\">138</td></tr><tr><td class = \"rowNumber\" style = \"font-weight: bold; text-align: right;\">8303</td><td style = \"text-align: left;\">CS010803000005</td><td style = \"text-align: right;\">93</td></tr><tr><td class = \"rowNumber\" style = \"font-weight: bold; text-align: right;\">8304</td><td style = \"text-align: left;\">CS035304000008</td><td style = \"text-align: right;\">105</td></tr><tr><td class = \"rowNumber\" style = \"font-weight: bold; text-align: right;\">8305</td><td style = \"text-align: left;\">CS014614000056</td><td style = \"text-align: right;\">70</td></tr><tr><td class = \"rowNumber\" style = \"font-weight: bold; text-align: right;\">8306</td><td style = \"text-align: left;\">CS039413000007</td><td style = \"text-align: right;\">115</td></tr><tr><td class = \"rowNumber\" style = \"font-weight: bold; text-align: right;\">8307</td><td style = \"text-align: left;\">CS002513000267</td><td style = \"text-align: right;\">80</td></tr></tbody></table></div>"
      ],
      "text/latex": [
       "\\begin{tabular}{r|cc}\n",
       "\t& customer\\_id & amount\\_sum\\\\\n",
       "\t\\hline\n",
       "\t& String15 & Int64\\\\\n",
       "\t\\hline\n",
       "\t1 & CS011415000006 & 16094 \\\\\n",
       "\t2 & ZZ000000000000 & 12395003 \\\\\n",
       "\t3 & CS028605000002 & 11270 \\\\\n",
       "\t4 & CS015515000034 & 15300 \\\\\n",
       "\t5 & CS021515000089 & 17580 \\\\\n",
       "\t6 & CS015515000083 & 9229 \\\\\n",
       "\t7 & CS017414000114 & 8745 \\\\\n",
       "\t8 & CS028515000029 & 8536 \\\\\n",
       "\t9 & CS035615000040 & 5608 \\\\\n",
       "\t10 & CS030515000189 & 11913 \\\\\n",
       "\t11 & CS035414000024 & 17615 \\\\\n",
       "\t12 & CS039415000073 & 9594 \\\\\n",
       "\t13 & CS038415000071 & 12696 \\\\\n",
       "\t14 & CS032414000072 & 16563 \\\\\n",
       "\t15 & CS040415000200 & 11137 \\\\\n",
       "\t16 & CS020515000102 & 9920 \\\\\n",
       "\t17 & CS027415000133 & 7793 \\\\\n",
       "\t18 & CS002415000728 & 7658 \\\\\n",
       "\t19 & CS016415000004 & 11330 \\\\\n",
       "\t20 & CS008513000063 & 5388 \\\\\n",
       "\t21 & CS009415000038 & 14033 \\\\\n",
       "\t22 & CS001412000160 & 5646 \\\\\n",
       "\t23 & CS020414000081 & 8149 \\\\\n",
       "\t24 & CS018415000125 & 13400 \\\\\n",
       "\t25 & CS035415000049 & 8183 \\\\\n",
       "\t26 & CS001605000009 & 18925 \\\\\n",
       "\t27 & CS010415000309 & 9860 \\\\\n",
       "\t28 & CS011315000133 & 5158 \\\\\n",
       "\t29 & CS030415000279 & 7179 \\\\\n",
       "\t30 & CS028515000004 & 12099 \\\\\n",
       "\t$\\dots$ & $\\dots$ & $\\dots$ \\\\\n",
       "\\end{tabular}\n"
      ],
      "text/plain": [
       "\u001b[1m8307×2 DataFrame\u001b[0m\n",
       "\u001b[1m  Row \u001b[0m│\u001b[1m customer_id    \u001b[0m\u001b[1m amount_sum \u001b[0m\n",
       "      │\u001b[90m String15       \u001b[0m\u001b[90m Int64      \u001b[0m\n",
       "──────┼────────────────────────────\n",
       "    1 │ CS011415000006       16094\n",
       "    2 │ ZZ000000000000    12395003\n",
       "    3 │ CS028605000002       11270\n",
       "    4 │ CS015515000034       15300\n",
       "    5 │ CS021515000089       17580\n",
       "    6 │ CS015515000083        9229\n",
       "    7 │ CS017414000114        8745\n",
       "    8 │ CS028515000029        8536\n",
       "    9 │ CS035615000040        5608\n",
       "   10 │ CS030515000189       11913\n",
       "   11 │ CS035414000024       17615\n",
       "  ⋮   │       ⋮             ⋮\n",
       " 8298 │ CS037412000091         115\n",
       " 8299 │ CS035512000032         138\n",
       " 8300 │ CS017513000183         140\n",
       " 8301 │ CS005315000108         115\n",
       " 8302 │ CS029615000114         138\n",
       " 8303 │ CS010803000005          93\n",
       " 8304 │ CS035304000008         105\n",
       " 8305 │ CS014614000056          70\n",
       " 8306 │ CS039413000007         115\n",
       " 8307 │ CS002513000267          80\n",
       "\u001b[36m                  8286 rows omitted\u001b[0m"
      ]
     },
     "execution_count": 327,
     "metadata": {},
     "output_type": "execute_result"
    }
   ],
   "source": [
    "# p55\n",
    "quantiles = @chain df_receipt begin\n",
    "    groupby(:customer_id)\n",
    "    combine(:amount => sum)\n",
    "    combine(:amount_sum => x -> quantile(x, [0.25, 0.5, 0.75]))\n",
    "    _.amount_sum_function\n",
    "end\n",
    "q1 = quantiles[1]; q2 = quantiles[2]; q3 = quantiles[3]\n",
    "\n",
    "@chain df_receipt begin\n",
    "    groupby(:customer_id)\n",
    "    combine(:amount => sum)\n",
    "    transform(:amount_sum => (x -> ifelse(x .< q1, 1, 0) )\n",
    "    #combine(:amount_sum => x -> quantile(x, [0.25, 0.5, 0.75]))\n",
    "    #_.amount_sum_function\n",
    "end"
   ]
  }
 ],
 "metadata": {
  "kernelspec": {
   "display_name": "Julia 1.11.2",
   "language": "julia",
   "name": "julia-1.11"
  },
  "language_info": {
   "file_extension": ".jl",
   "mimetype": "application/julia",
   "name": "julia",
   "version": "1.11.2"
  }
 },
 "nbformat": 4,
 "nbformat_minor": 2
}
